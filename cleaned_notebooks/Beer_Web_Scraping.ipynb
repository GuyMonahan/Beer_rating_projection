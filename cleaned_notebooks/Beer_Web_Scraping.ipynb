{
 "cells": [
  {
   "cell_type": "markdown",
   "metadata": {
    "heading_collapsed": true
   },
   "source": [
    "### Import"
   ]
  },
  {
   "cell_type": "code",
   "execution_count": null,
   "metadata": {
    "hidden": true
   },
   "outputs": [],
   "source": [
    "import sqlite3\n",
    "import requests\n",
    "import re\n",
    "from bs4 import BeautifulSoup, Comment\n",
    "import json\n",
    "import pandas as pd\n",
    "import time\n",
    "import folium\n",
    "import matplotlib.pyplot as plt\n",
    "import urllib.request\n",
    "from selenium import webdriver\n",
    "import random"
   ]
  },
  {
   "cell_type": "code",
   "execution_count": null,
   "metadata": {
    "hidden": true
   },
   "outputs": [],
   "source": [
    "%%capture\n",
    "from tqdm import tqdm_notebook as tqdm\n",
    "tqdm().pandas()"
   ]
  },
  {
   "cell_type": "markdown",
   "metadata": {},
   "source": [
    "### Web Scraping Beer Advocate"
   ]
  },
  {
   "cell_type": "markdown",
   "metadata": {
    "heading_collapsed": true
   },
   "source": [
    "#### Selenium activation"
   ]
  },
  {
   "cell_type": "code",
   "execution_count": null,
   "metadata": {
    "hidden": true
   },
   "outputs": [],
   "source": [
    "#testing that Selenium works\n",
    "from selenium import webdriver\n",
    "driver = webdriver.Chrome()\n",
    "driver.get('https://www.nasa.gov')\n",
    "headlines = driver.find_elements_by_class_name(\"headline\")\n",
    "for headline in headlines:\n",
    "    print(headline.text.strip())\n",
    "driver.close()"
   ]
  },
  {
   "cell_type": "code",
   "execution_count": null,
   "metadata": {
    "hidden": true
   },
   "outputs": [],
   "source": [
    "#estabishing the webdriver for chrome\n",
    "driver = webdriver.Chrome()"
   ]
  },
  {
   "cell_type": "code",
   "execution_count": null,
   "metadata": {
    "hidden": true
   },
   "outputs": [],
   "source": [
    "#putting the driver on the website\n",
    "driver.get('https://www.beeradvocate.com/beer/styles/9/')"
   ]
  },
  {
   "cell_type": "code",
   "execution_count": null,
   "metadata": {
    "hidden": true
   },
   "outputs": [],
   "source": [
    "#clicking into a beer\n",
    "driver.find_element_by_xpath('//*[@id=\"ba-content\"]/table/tbody/tr[4]/td[1]/a').click()"
   ]
  },
  {
   "cell_type": "code",
   "execution_count": null,
   "metadata": {
    "hidden": true
   },
   "outputs": [],
   "source": [
    "#pulling out the comments\n",
    "comment = driver.find_element_by_xpath('//*[@id=\"rating_fullview_content_2\"]').text\n",
    "comment"
   ]
  },
  {
   "cell_type": "code",
   "execution_count": null,
   "metadata": {
    "hidden": true
   },
   "outputs": [],
   "source": [
    "#this function will let us go from page to page\n",
    "def next_page():\n",
    "    quarter = driver.find_element_by_tag_name('tbody')\n",
    "    x = quarter.find_elements_by_tag_name('span')[1].find_elements_by_tag_name('a')[-2]\n",
    "    x.click()"
   ]
  },
  {
   "cell_type": "code",
   "execution_count": null,
   "metadata": {
    "hidden": true
   },
   "outputs": [],
   "source": [
    "driver.close()"
   ]
  },
  {
   "cell_type": "markdown",
   "metadata": {
    "heading_collapsed": true
   },
   "source": [
    "#### BeautifulSoup activation"
   ]
  },
  {
   "cell_type": "code",
   "execution_count": null,
   "metadata": {
    "hidden": true
   },
   "outputs": [],
   "source": [
    "#establish our url and our request.get\n",
    "url = 'https://www.beeradvocate.com/beer/styles/9/'\n",
    "response = requests.get(url)"
   ]
  },
  {
   "cell_type": "code",
   "execution_count": null,
   "metadata": {
    "hidden": true
   },
   "outputs": [],
   "source": [
    "#establishing beautifulsoup with the response variable using 'lxml' and then grabbing the table\n",
    "bs = BeautifulSoup(response.content, 'lxml')\n",
    "table = bs.table"
   ]
  },
  {
   "cell_type": "code",
   "execution_count": null,
   "metadata": {
    "hidden": true
   },
   "outputs": [],
   "source": [
    "#using the table we established to grab all the specific values out of that table\n",
    "table_rows = table.find_all('tr')\n",
    "\n",
    "for tr in table_rows:\n",
    "    td = tr.find_all('td')\n",
    "    row = [i.text for i in td]\n",
    "    print(row)"
   ]
  },
  {
   "cell_type": "code",
   "execution_count": null,
   "metadata": {
    "hidden": true
   },
   "outputs": [],
   "source": [
    "#here we put it into a df\n",
    "df = pd.read_html(str(table))\n",
    "df = df[0].dropna(axis= 0, thresh = 4)\n",
    "df"
   ]
  },
  {
   "cell_type": "code",
   "execution_count": null,
   "metadata": {
    "hidden": true
   },
   "outputs": [],
   "source": [
    "#This allows us to create an accurate range for the function to iterate through\n",
    "body = driver.find_element_by_tag_name('tbody')\n",
    "x = body.find_element_by_tag_name('b').text\n",
    "pages = int(''.join([i for i in x.split('(')[1] if i.isnumeric()])) // 50"
   ]
  },
  {
   "cell_type": "markdown",
   "metadata": {
    "heading_collapsed": true
   },
   "source": [
    "#### Establish table with beer info"
   ]
  },
  {
   "cell_type": "code",
   "execution_count": null,
   "metadata": {
    "hidden": true
   },
   "outputs": [],
   "source": [
    "#creating a variable to put into the next function\n",
    "long_list = [('Fruit and Field', 'https://www.beeradvocate.com/beer/styles/9/', pages)]"
   ]
  },
  {
   "cell_type": "code",
   "execution_count": null,
   "metadata": {
    "hidden": true
   },
   "outputs": [],
   "source": [
    "#this function will go through each page and generate the tables iteratively\n",
    "#it has a sleep timer to avoid being blocked\n",
    "data = []\n",
    "for beer_style, url, pages in long_list:\n",
    "    driver.get(url)\n",
    "    for i in tqdm(range(pages)):\n",
    "        print(i)\n",
    "        table = driver.find_element_by_tag_name('table')\n",
    "        tds = [x.find_elements_by_tag_name('td') for x in table.find_elements_by_tag_name('tr')][3:]\n",
    "        for td in tds:\n",
    "            data.append([beer_style] + [x.text for x in td] + [td[0].find_element_by_tag_name('a').get_attribute('href')])\n",
    "            \n",
    "        quarter = driver.find_element_by_tag_name('tbody')\n",
    "        x = quarter.find_elements_by_tag_name('span')[1].find_elements_by_tag_name('a')[-2]\n",
    "        x.click()\n",
    "        time.sleep(random.choice([x/10 for x in range(8,14)]))"
   ]
  },
  {
   "cell_type": "code",
   "execution_count": null,
   "metadata": {
    "hidden": true
   },
   "outputs": [],
   "source": [
    "#turning the data into a dataframe\n",
    "beer_df = pd.DataFrame(data)"
   ]
  },
  {
   "cell_type": "code",
   "execution_count": null,
   "metadata": {
    "hidden": true
   },
   "outputs": [],
   "source": [
    "#creating a benchmark csv in casae something happens\n",
    "beer_df.to_csv(r'C:\\Users\\GMoneyMan\\Documents\\Flatiron\\capstone\\csv_data\\beer_df.csv', index = False)"
   ]
  },
  {
   "cell_type": "code",
   "execution_count": null,
   "metadata": {
    "hidden": true
   },
   "outputs": [],
   "source": [
    "beer_df.isna().sum()"
   ]
  },
  {
   "cell_type": "code",
   "execution_count": null,
   "metadata": {
    "hidden": true
   },
   "outputs": [],
   "source": [
    "len(beer_df)"
   ]
  },
  {
   "cell_type": "markdown",
   "metadata": {
    "heading_collapsed": true
   },
   "source": [
    "#### Collecting url for each beer profile"
   ]
  },
  {
   "cell_type": "code",
   "execution_count": null,
   "metadata": {
    "hidden": true
   },
   "outputs": [],
   "source": [
    "#this function will create a list of each of the beer's url and using BS go to the next page\n",
    "new_list_links = []\n",
    "\n",
    "for tag in beer_tags.find_all(href=re.compile(\"/beer/styles/[0-9]+/\\?sort=revsD\")):\n",
    "        if tag.contents[0] == 'last':\n",
    "            num = int(tag.get('href').strip(f\"{url}?sort=revsD&start\"))\n",
    "some_num = 7206 #num+50\n",
    "i = 0\n",
    "for i in tqdm(range(0, some_num, 50)):\n",
    "        print(f'i is {i}')\n",
    "        url = f'https://www.beeradvocate.com/beer/styles/9/?sort=revsD&start={i}'\n",
    "        page = requests.get(url)\n",
    "        soup = BeautifulSoup(page.content, 'html.parser')\n",
    "        tags = [tag.get('href') for tag in soup.find_all(href=re.compile(\"/beer/profile/[0-9]+/[0-9]+\"))]\n",
    "        new_list_links.append(tags)\n",
    "        i += 50\n",
    "        \n",
    "        time.sleep(random.choice([x/10 for x in range(8,14)]))"
   ]
  },
  {
   "cell_type": "code",
   "execution_count": null,
   "metadata": {
    "hidden": true
   },
   "outputs": [],
   "source": [
    "new_list_links"
   ]
  },
  {
   "cell_type": "code",
   "execution_count": null,
   "metadata": {
    "hidden": true
   },
   "outputs": [],
   "source": [
    "#Since the function outputs a list full of lists this will turn everything into just one list\n",
    "list_of_beer_profiles = [y for x in new_list_links for y in x]"
   ]
  },
  {
   "cell_type": "markdown",
   "metadata": {},
   "source": [
    "#### Collecting the reviews for a beer"
   ]
  },
  {
   "cell_type": "markdown",
   "metadata": {
    "heading_collapsed": true
   },
   "source": [
    "##### Method 1 to get reviews"
   ]
  },
  {
   "cell_type": "code",
   "execution_count": null,
   "metadata": {
    "hidden": true
   },
   "outputs": [],
   "source": [
    "tag_name = driver.find_element_by_xpath('//*[@id=\"ba-content\"]/table/tbody/tr[4]/td[1]/a').text\n",
    "tag_name"
   ]
  },
  {
   "cell_type": "markdown",
   "metadata": {
    "heading_collapsed": true
   },
   "source": [
    "##### Method 2 to get reviews"
   ]
  },
  {
   "cell_type": "code",
   "execution_count": null,
   "metadata": {
    "hidden": true
   },
   "outputs": [],
   "source": [
    "ba_content = driver.find_element_by_xpath('//*[@id=\"ba-content\"]').text\n",
    "ba_content"
   ]
  },
  {
   "cell_type": "markdown",
   "metadata": {
    "heading_collapsed": true
   },
   "source": [
    "##### Method 3 to get reviews"
   ]
  },
  {
   "cell_type": "code",
   "execution_count": null,
   "metadata": {
    "hidden": true
   },
   "outputs": [],
   "source": [
    "u_comment = driver.find_elements_by_class_name('user-comment')\n",
    "review3 = []\n",
    "for item in u_comment:\n",
    "    review3.append(item.text)"
   ]
  },
  {
   "cell_type": "markdown",
   "metadata": {},
   "source": [
    "#### Collecting the url & reviews"
   ]
  },
  {
   "cell_type": "code",
   "execution_count": null,
   "metadata": {},
   "outputs": [],
   "source": [
    "#creating a test for the urls to feed into the next function\n",
    "first_trial = list_links[0][49:52]"
   ]
  },
  {
   "cell_type": "code",
   "execution_count": null,
   "metadata": {},
   "outputs": [],
   "source": [
    "#this function will take the list of urls collected previously and pull all the comments from\n",
    "#the page, and append the text to a list\n",
    "def get_beer_reviews(list_urls):\n",
    "    list_beers = []\n",
    "    i = 1\n",
    "    for url_end in tqdm(list_urls):\n",
    "        beer = {}\n",
    "        url = f'https://www.beeradvocate.com{url_end}'\n",
    "        beer['url'] = url\n",
    "        print(i)\n",
    "        page = requests.get(url)\n",
    "        soup = BeautifulSoup(page.content, 'html.parser') \n",
    "        \n",
    "        listy = soup.find_all(class_ = 'user-comment')\n",
    "        beer['review'] = []\n",
    "        for item in listy:\n",
    "            beer['review'].append(item.get_text())\n",
    "            \n",
    "#         titlebar = soup.find(class_='titleBar')\n",
    "#         for span in titlebar('span'):\n",
    "#             span.decompose()\n",
    "\n",
    "#         beer['name'] = titlebar.get_text().strip()\n",
    "        \n",
    "        list_beers.append(beer)\n",
    "        \n",
    "        time.sleep(random.choice([x/10 for x in range(8,14)]))\n",
    "        \n",
    "        i += 1\n",
    "    return list_beers"
   ]
  },
  {
   "cell_type": "code",
   "execution_count": null,
   "metadata": {},
   "outputs": [],
   "source": [
    "#here we trial our sample of urls\n",
    "demo_df = get_beer_reviews(first_trial)"
   ]
  },
  {
   "cell_type": "code",
   "execution_count": null,
   "metadata": {},
   "outputs": [],
   "source": [
    "pd.DataFrame(demo_df)"
   ]
  },
  {
   "cell_type": "code",
   "execution_count": null,
   "metadata": {},
   "outputs": [],
   "source": [
    "len(list_of_beer_profiles)"
   ]
  },
  {
   "cell_type": "code",
   "execution_count": null,
   "metadata": {},
   "outputs": [],
   "source": [
    "#here we use our whole list of urls (this takes a long time)\n",
    "reviews = get_beer_reviews(list_of_beer_profiles)"
   ]
  },
  {
   "cell_type": "code",
   "execution_count": null,
   "metadata": {},
   "outputs": [],
   "source": [
    "#we convert into a dataframe\n",
    "beer_reviews = pd.DataFrame(reviews)\n",
    "beer_reviews"
   ]
  },
  {
   "cell_type": "code",
   "execution_count": null,
   "metadata": {},
   "outputs": [],
   "source": [
    "beer_reviews['review'][7201]"
   ]
  },
  {
   "cell_type": "code",
   "execution_count": null,
   "metadata": {},
   "outputs": [],
   "source": [
    "#this converts all the empty lists in our review column into nan values\n",
    "beer_reviews.loc[~beer_reviews.review.astype(bool),'review']=np.nan"
   ]
  },
  {
   "cell_type": "code",
   "execution_count": null,
   "metadata": {},
   "outputs": [],
   "source": [
    "beer_reviews.isna().sum()"
   ]
  },
  {
   "cell_type": "code",
   "execution_count": null,
   "metadata": {},
   "outputs": [],
   "source": [
    "beer_reviews.to_csv(r'C:\\Users\\GMoneyMan\\Documents\\Flatiron\\capstone\\csv_data\\reviews.csv', index = False)"
   ]
  },
  {
   "cell_type": "code",
   "execution_count": null,
   "metadata": {},
   "outputs": [],
   "source": [
    "#here we merge the reviews to the beer dataframe on the url column\n",
    "df = beer_df.merge(beer_reviews, on='url', how='left')\n",
    "df.to_csv(r'C:\\Users\\GMoneyMan\\Documents\\Flatiron\\capstone\\csv_data\\beer_w_reviews.csv', index = False)"
   ]
  },
  {
   "cell_type": "code",
   "execution_count": null,
   "metadata": {},
   "outputs": [],
   "source": [
    "df"
   ]
  },
  {
   "cell_type": "code",
   "execution_count": null,
   "metadata": {},
   "outputs": [],
   "source": [
    "#we renaming the columns\n",
    "df.columns = ['beer_style', 'beer_name', 'brewery_name', 'abv', 'no_ratings', 'avg_rating', 'drop_me', 'url']"
   ]
  },
  {
   "cell_type": "code",
   "execution_count": null,
   "metadata": {},
   "outputs": [],
   "source": []
  }
 ],
 "metadata": {
  "kernelspec": {
   "display_name": "Python 3",
   "language": "python",
   "name": "python3"
  },
  "language_info": {
   "codemirror_mode": {
    "name": "ipython",
    "version": 3
   },
   "file_extension": ".py",
   "mimetype": "text/x-python",
   "name": "python",
   "nbconvert_exporter": "python",
   "pygments_lexer": "ipython3",
   "version": "3.8.5"
  },
  "toc": {
   "base_numbering": 1,
   "nav_menu": {},
   "number_sections": true,
   "sideBar": true,
   "skip_h1_title": false,
   "title_cell": "Table of Contents",
   "title_sidebar": "Contents",
   "toc_cell": false,
   "toc_position": {},
   "toc_section_display": true,
   "toc_window_display": false
  },
  "varInspector": {
   "cols": {
    "lenName": 16,
    "lenType": 16,
    "lenVar": 40
   },
   "kernels_config": {
    "python": {
     "delete_cmd_postfix": "",
     "delete_cmd_prefix": "del ",
     "library": "var_list.py",
     "varRefreshCmd": "print(var_dic_list())"
    },
    "r": {
     "delete_cmd_postfix": ") ",
     "delete_cmd_prefix": "rm(",
     "library": "var_list.r",
     "varRefreshCmd": "cat(var_dic_list()) "
    }
   },
   "types_to_exclude": [
    "module",
    "function",
    "builtin_function_or_method",
    "instance",
    "_Feature"
   ],
   "window_display": false
  }
 },
 "nbformat": 4,
 "nbformat_minor": 4
}
