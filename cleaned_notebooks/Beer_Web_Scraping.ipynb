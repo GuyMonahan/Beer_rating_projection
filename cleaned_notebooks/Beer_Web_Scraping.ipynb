{
 "cells": [
  {
   "cell_type": "markdown",
   "metadata": {
    "heading_collapsed": true
   },
   "source": [
    "### Import"
   ]
  },
  {
   "cell_type": "code",
   "execution_count": 1,
   "metadata": {
    "hidden": true
   },
   "outputs": [],
   "source": [
    "import sqlite3\n",
    "import requests\n",
    "import re\n",
    "from bs4 import BeautifulSoup, Comment\n",
    "import json\n",
    "import pandas as pd\n",
    "import time\n",
    "import folium\n",
    "import matplotlib.pyplot as plt\n",
    "import urllib.request\n",
    "from selenium import webdriver\n",
    "import random"
   ]
  },
  {
   "cell_type": "code",
   "execution_count": 2,
   "metadata": {
    "hidden": true
   },
   "outputs": [],
   "source": [
    "%%capture\n",
    "from tqdm import tqdm_notebook as tqdm\n",
    "tqdm().pandas()"
   ]
  },
  {
   "cell_type": "markdown",
   "metadata": {},
   "source": [
    "### Web Scraping Beer Advocate"
   ]
  },
  {
   "cell_type": "markdown",
   "metadata": {
    "heading_collapsed": true
   },
   "source": [
    "#### Selenium activation"
   ]
  },
  {
   "cell_type": "code",
   "execution_count": null,
   "metadata": {
    "hidden": true
   },
   "outputs": [],
   "source": [
    "#testing that Selenium works\n",
    "from selenium import webdriver\n",
    "driver = webdriver.Chrome()\n",
    "driver.get('https://www.nasa.gov')\n",
    "headlines = driver.find_elements_by_class_name(\"headline\")\n",
    "for headline in headlines:\n",
    "    print(headline.text.strip())\n",
    "driver.close()"
   ]
  },
  {
   "cell_type": "markdown",
   "metadata": {
    "hidden": true
   },
   "source": [
    ">Here I am doing a simple test run of the selenium driver to make sure it works buy pulling up a website, checking it, and then closing it."
   ]
  },
  {
   "cell_type": "code",
   "execution_count": 3,
   "metadata": {
    "hidden": true
   },
   "outputs": [],
   "source": [
    "#estabishing the webdriver for chrome\n",
    "driver = webdriver.Chrome()"
   ]
  },
  {
   "cell_type": "code",
   "execution_count": 4,
   "metadata": {
    "hidden": true
   },
   "outputs": [],
   "source": [
    "#putting the driver on the website\n",
    "driver.get('https://www.beeradvocate.com/beer/styles/9/')"
   ]
  },
  {
   "cell_type": "markdown",
   "metadata": {
    "hidden": true
   },
   "source": [
    ">The \"/styles/9/\" is the style of beer I will be looking at to start the project. It is \"Fruit and Field Beer\", but the number at the end of the styles can be changed such that it will represent the other styles, such as IPA or Lager."
   ]
  },
  {
   "cell_type": "code",
   "execution_count": 5,
   "metadata": {
    "hidden": true
   },
   "outputs": [],
   "source": [
    "#clicking into a beer\n",
    "driver.find_element_by_xpath('//*[@id=\"ba-content\"]/table/tbody/tr[4]/td[1]/a').click()"
   ]
  },
  {
   "cell_type": "markdown",
   "metadata": {
    "hidden": true
   },
   "source": [
    ">This is code that allows us to click on the first element of the table and look at it."
   ]
  },
  {
   "cell_type": "code",
   "execution_count": 8,
   "metadata": {
    "hidden": true
   },
   "outputs": [
    {
     "data": {
      "text/plain": [
       "\"Elemental19xx from Illinois\\n\\n3.6/5  rDev +5.3%\\nlook: 3 | smell: 3.5 | taste: 3.75 | feel: 3.75 | overall: 3.5\\n\\nBeer pours a little cloudy with a little head, and a few small particulates. Smells more like a fruity ale than an IPA (which I like). tastes pretty good in my opinion, but not as hoppy as a pale ale( perhaps that's why it says not quite pale ale on the front). It's like your average run of the mill ale, but just a bit more fruity and a light hop flavor towards the end. The carbonation is mild, not smooth like nitro brews, but relatively soft. Overall I could drink em all day and not be sick of the taste, but it would be my first choice if I was looking to only drink a beer or two after dinner. That being said if I see them in the custom six pack fridge I would be okay with adding one of these.\\n\\nFeb 28, 2021\""
      ]
     },
     "execution_count": 8,
     "metadata": {},
     "output_type": "execute_result"
    }
   ],
   "source": [
    "#pulling out the comments\n",
    "comment = driver.find_element_by_xpath('//*[@id=\"rating_fullview_content_2\"]').text\n",
    "comment"
   ]
  },
  {
   "cell_type": "markdown",
   "metadata": {
    "hidden": true
   },
   "source": [
    ">This will allow us to grab the first comment after clicking into the beer profile"
   ]
  },
  {
   "cell_type": "code",
   "execution_count": 10,
   "metadata": {
    "hidden": true
   },
   "outputs": [],
   "source": [
    "#this function will let us go from page to page\n",
    "def next_page():\n",
    "    quarter = driver.find_element_by_tag_name('tbody')\n",
    "    x = quarter.find_elements_by_tag_name('span')[1].find_elements_by_tag_name('a')[-2]\n",
    "    x.click()"
   ]
  },
  {
   "cell_type": "markdown",
   "metadata": {
    "hidden": true
   },
   "source": [
    ">When on the style page this will allow us to move from page to page."
   ]
  },
  {
   "cell_type": "code",
   "execution_count": null,
   "metadata": {
    "hidden": true
   },
   "outputs": [],
   "source": [
    "driver.close()"
   ]
  },
  {
   "cell_type": "markdown",
   "metadata": {
    "heading_collapsed": true
   },
   "source": [
    "#### BeautifulSoup activation"
   ]
  },
  {
   "cell_type": "code",
   "execution_count": 11,
   "metadata": {
    "hidden": true
   },
   "outputs": [],
   "source": [
    "#establish our url and our request.get\n",
    "url = 'https://www.beeradvocate.com/beer/styles/9/'\n",
    "response = requests.get(url)"
   ]
  },
  {
   "cell_type": "code",
   "execution_count": 12,
   "metadata": {
    "hidden": true
   },
   "outputs": [],
   "source": [
    "#establishing beautifulsoup with the response variable using 'lxml' and then grabbing the table\n",
    "bs = BeautifulSoup(response.content, 'lxml')\n",
    "table = bs.table"
   ]
  },
  {
   "cell_type": "code",
   "execution_count": 13,
   "metadata": {
    "collapsed": true,
    "hidden": true
   },
   "outputs": [
    {
     "name": "stdout",
     "output_type": "stream",
     "text": [
      "['Style Examples - 1 to 50 (out of 7214) - Ordered by # Reviews']\n",
      "['\\nfirst ← prev |\\xa01-50\\xa0|\\xa051-100\\xa0|\\xa0101-150\\xa0 | next → last']\n",
      "['\\nName\\n', '\\nBrewery\\n', '\\nABV\\n', '\\nRatings\\xa0>\\n', '\\nAvg\\n']\n",
      "['#9', 'Magic Hat Brewing Company', '5.10', '5,915', '3.42', '']\n",
      "['Samuel Adams Cherry Wheat', 'Boston Beer Company (Samuel Adams)', '5.30', '4,029', '3.19', '']\n",
      "['Raspberry Tart', 'New Glarus Brewing Company', '4.00', '3,995', '4.41', '']\n",
      "['Summer Shandy', 'Jacob Leinenkugel Brewing Company', '4.20', '3,841', '3.2', '']\n",
      "['Rübæus', 'Founders Brewing Company', '5.70', '3,800', '3.91', '']\n",
      "['Wisconsin Belgian Red', 'New Glarus Brewing Company', '4.00', '3,782', '4.42', '']\n",
      "['Purple Haze', 'Abita Brewing Co.', '4.20', '3,529', '3.32', '']\n",
      "['Banana Bread Beer', 'Eagle Brewery', '5.20', '3,235', '3.56', '']\n",
      "['Serendipity', 'New Glarus Brewing Company', '4.00', '2,994', '4.38', '']\n",
      "['Hell Or High Watermelon Wheat Beer', '21st Amendment Brewery', '4.90', '2,948', '3.4', '']\n",
      "['Blushing Monk', 'Founders Brewing Company', '9.20', '2,570', '4.21', '']\n",
      "['Éphémère (Apple)', 'Unibroue', '5.50', '2,155', '3.64', '']\n",
      "['Autumn Maple', 'The Bruery', '10.00', '2,098', '3.81', '']\n",
      "['Samuel Adams Porch Rocker', 'Boston Beer Company (Samuel Adams)', '4.50', '1,741', '3.34', '']\n",
      "['Thumbprint Apple Ale', 'New Glarus Brewing Company', '4.00', '1,669', '4.15', '']\n",
      "['Black & Blue', 'Dogfish Head Craft Brewery', '10.00', '1,633', '3.71', '']\n",
      "['Strawberry Rhubarb', 'New Glarus Brewing Company', '4.00', '1,585', '4.35', '']\n",
      "['Mango Magnifico', 'Founders Brewing Company', '10.00', '1,561', '3.66', '']\n",
      "['Cerise', 'Founders Brewing Company', '6.50', '1,518', '3.65', '']\n",
      "['Strawberry Lager', 'Abita Brewing Co.', '4.20', '1,414', '3.5', '']\n",
      "['Samuel Adams Cranberry Lambic', 'Boston Beer Company (Samuel Adams)', '5.90', '1,390', '2.68', '']\n",
      "['Shiner Ruby Redbird', 'Spoetzl Brewery', '4.01', '1,365', '3.22', '']\n",
      "[\"Tweason'ale\", 'Dogfish Head Craft Brewery', '6.00', '1,333', '3.13', '']\n",
      "['Fort', 'Dogfish Head Craft Brewery', '18.00', '1,329', '3.79', '']\n",
      "['Soft Parade', \"Short's Brewing Company\", '7.50', '1,249', '3.69', '']\n",
      "['Blue', 'SweetWater Brewing Company', '4.90', '1,220', '3.41', '']\n",
      "['Kasteel Rouge', 'Brouwerij Van Honsebrouck N.V.', '8.00', '1,134', '3.86', '']\n",
      "['Pyramid Apricot Ale', 'Pyramid Breweries, Inc.', '5.10', '1,122', '3.47', '']\n",
      "[\"Redd's Apple Ale\", 'Miller Brewing Co.', '5.00', '1,114', '2.73', '']\n",
      "['Wild Blueberry Wheat Ale', 'Sea Dog Brewing Company', '4.70', '1,022', '3.47', '']\n",
      "['Stiegl Radler (Grapefruit)', 'Stieglbrauerei zu Salzburg GmbH', '2.25', '1,012', '3.84', '']\n",
      "['Tangerine Wheat', 'Lost Coast Brewery and Cafe', '5.50', '967', '3.46', '']\n",
      "['Cucumber Saison', 'Cigar City Brewing', '5.00', '963', '3.73', '']\n",
      "['Pumpkinfest', 'Terrapin Beer Company', '6.10', '924', '3.69', '']\n",
      "['Apricot Wheat', 'Ithaca Beer Company', '4.90', '883', '3.32', '']\n",
      "['UFO Raspberry Hefeweizen', 'Harpoon Brewery & Beer Hall', '4.80', '819', '3.61', '']\n",
      "['Samuel Adams Blueberry Hill Lager', 'Boston Beer Company (Samuel Adams)', '5.50', '817', '3.26', '']\n",
      "['Shiner Prickly Pear', 'Spoetzl Brewery', '4.90', '810', '3.39', '']\n",
      "['Son Of A Peach', 'RJ Rockers Brewing Company', '6.00', '796', '3.58', '']\n",
      "['Shock Top Lemon Shandy', 'Anheuser-Busch', '4.20', '787', '2.85', '']\n",
      "['Orange Shandy', 'Jacob Leinenkugel Brewing Company', '4.20', '765', '3.17', '']\n",
      "['Bumble Berry Honey Blueberry Ale', \"Fat Head's Brewery & Saloon\", '5.30', '751', '3.73', '']\n",
      "['Blackbeary Wheat', 'Long Trail Brewing Co.', '4.00', '744', '3.14', '']\n",
      "['Raspberry Ale', 'Dark Horse Brewing Company', '5.50', '735', '3.39', '']\n",
      "['Blueberry Ale', 'Blue Point Brewing Company', '4.60', '687', '3.52', '']\n",
      "['Delirium Red', 'Brouwerij Huyghe', '8.00', '684', '3.68', '']\n",
      "['Orange Blossom Cream Ale', \"Buffalo Bill's Brewery\", '5.20', '667', '3.05', '']\n",
      "['Curious Traveler Lemon Shandy', 'The Traveler Beer Co.', '4.40', '634', '3.41', '']\n",
      "[\"Pugsley's Signature Series: Smashed Blueberry\", 'Shipyard Brewing Company', '9.00', '608', '3.9', '']\n",
      "['Organic Strawberry', 'Samuel Smith Old Brewery (Tadcaster)', '5.10', '586', '3.87', '']\n",
      "['\\nfirst ← prev |\\xa01-50\\xa0|\\xa051-100\\xa0|\\xa0101-150\\xa0 | next → last']\n"
     ]
    }
   ],
   "source": [
    "#using the table we established to grab all the specific values out of that table\n",
    "table_rows = table.find_all('tr')\n",
    "\n",
    "for tr in table_rows:\n",
    "    td = tr.find_all('td')\n",
    "    row = [i.text for i in td]\n",
    "    print(row)"
   ]
  },
  {
   "cell_type": "markdown",
   "metadata": {
    "hidden": true
   },
   "source": [
    ">This will output the information of the table on the page"
   ]
  },
  {
   "cell_type": "code",
   "execution_count": 14,
   "metadata": {
    "collapsed": true,
    "hidden": true
   },
   "outputs": [
    {
     "data": {
      "text/html": [
       "<div>\n",
       "<style scoped>\n",
       "    .dataframe tbody tr th:only-of-type {\n",
       "        vertical-align: middle;\n",
       "    }\n",
       "\n",
       "    .dataframe tbody tr th {\n",
       "        vertical-align: top;\n",
       "    }\n",
       "\n",
       "    .dataframe thead th {\n",
       "        text-align: right;\n",
       "    }\n",
       "</style>\n",
       "<table border=\"1\" class=\"dataframe\">\n",
       "  <thead>\n",
       "    <tr style=\"text-align: right;\">\n",
       "      <th></th>\n",
       "      <th>0</th>\n",
       "      <th>1</th>\n",
       "      <th>2</th>\n",
       "      <th>3</th>\n",
       "      <th>4</th>\n",
       "      <th>5</th>\n",
       "    </tr>\n",
       "  </thead>\n",
       "  <tbody>\n",
       "    <tr>\n",
       "      <th>0</th>\n",
       "      <td>Style Examples - 1 to 50 (out of 7214) - Order...</td>\n",
       "      <td>Style Examples - 1 to 50 (out of 7214) - Order...</td>\n",
       "      <td>Style Examples - 1 to 50 (out of 7214) - Order...</td>\n",
       "      <td>Style Examples - 1 to 50 (out of 7214) - Order...</td>\n",
       "      <td>Style Examples - 1 to 50 (out of 7214) - Order...</td>\n",
       "      <td>NaN</td>\n",
       "    </tr>\n",
       "    <tr>\n",
       "      <th>1</th>\n",
       "      <td>first ← prev | 1-50 | 51-100 | 101-150 | next ...</td>\n",
       "      <td>first ← prev | 1-50 | 51-100 | 101-150 | next ...</td>\n",
       "      <td>first ← prev | 1-50 | 51-100 | 101-150 | next ...</td>\n",
       "      <td>first ← prev | 1-50 | 51-100 | 101-150 | next ...</td>\n",
       "      <td>first ← prev | 1-50 | 51-100 | 101-150 | next ...</td>\n",
       "      <td>NaN</td>\n",
       "    </tr>\n",
       "    <tr>\n",
       "      <th>2</th>\n",
       "      <td>Name</td>\n",
       "      <td>Brewery</td>\n",
       "      <td>ABV</td>\n",
       "      <td>Ratings &gt;</td>\n",
       "      <td>Avg</td>\n",
       "      <td>NaN</td>\n",
       "    </tr>\n",
       "    <tr>\n",
       "      <th>3</th>\n",
       "      <td>#9</td>\n",
       "      <td>Magic Hat Brewing Company</td>\n",
       "      <td>5.10</td>\n",
       "      <td>5915</td>\n",
       "      <td>3.42</td>\n",
       "      <td>NaN</td>\n",
       "    </tr>\n",
       "    <tr>\n",
       "      <th>4</th>\n",
       "      <td>Samuel Adams Cherry Wheat</td>\n",
       "      <td>Boston Beer Company (Samuel Adams)</td>\n",
       "      <td>5.30</td>\n",
       "      <td>4029</td>\n",
       "      <td>3.19</td>\n",
       "      <td>NaN</td>\n",
       "    </tr>\n",
       "    <tr>\n",
       "      <th>5</th>\n",
       "      <td>Raspberry Tart</td>\n",
       "      <td>New Glarus Brewing Company</td>\n",
       "      <td>4.00</td>\n",
       "      <td>3995</td>\n",
       "      <td>4.41</td>\n",
       "      <td>NaN</td>\n",
       "    </tr>\n",
       "    <tr>\n",
       "      <th>6</th>\n",
       "      <td>Summer Shandy</td>\n",
       "      <td>Jacob Leinenkugel Brewing Company</td>\n",
       "      <td>4.20</td>\n",
       "      <td>3841</td>\n",
       "      <td>3.2</td>\n",
       "      <td>NaN</td>\n",
       "    </tr>\n",
       "    <tr>\n",
       "      <th>7</th>\n",
       "      <td>Rübæus</td>\n",
       "      <td>Founders Brewing Company</td>\n",
       "      <td>5.70</td>\n",
       "      <td>3800</td>\n",
       "      <td>3.91</td>\n",
       "      <td>NaN</td>\n",
       "    </tr>\n",
       "    <tr>\n",
       "      <th>8</th>\n",
       "      <td>Wisconsin Belgian Red</td>\n",
       "      <td>New Glarus Brewing Company</td>\n",
       "      <td>4.00</td>\n",
       "      <td>3782</td>\n",
       "      <td>4.42</td>\n",
       "      <td>NaN</td>\n",
       "    </tr>\n",
       "    <tr>\n",
       "      <th>9</th>\n",
       "      <td>Purple Haze</td>\n",
       "      <td>Abita Brewing Co.</td>\n",
       "      <td>4.20</td>\n",
       "      <td>3529</td>\n",
       "      <td>3.32</td>\n",
       "      <td>NaN</td>\n",
       "    </tr>\n",
       "    <tr>\n",
       "      <th>10</th>\n",
       "      <td>Banana Bread Beer</td>\n",
       "      <td>Eagle Brewery</td>\n",
       "      <td>5.20</td>\n",
       "      <td>3235</td>\n",
       "      <td>3.56</td>\n",
       "      <td>NaN</td>\n",
       "    </tr>\n",
       "    <tr>\n",
       "      <th>11</th>\n",
       "      <td>Serendipity</td>\n",
       "      <td>New Glarus Brewing Company</td>\n",
       "      <td>4.00</td>\n",
       "      <td>2994</td>\n",
       "      <td>4.38</td>\n",
       "      <td>NaN</td>\n",
       "    </tr>\n",
       "    <tr>\n",
       "      <th>12</th>\n",
       "      <td>Hell Or High Watermelon Wheat Beer</td>\n",
       "      <td>21st Amendment Brewery</td>\n",
       "      <td>4.90</td>\n",
       "      <td>2948</td>\n",
       "      <td>3.4</td>\n",
       "      <td>NaN</td>\n",
       "    </tr>\n",
       "    <tr>\n",
       "      <th>13</th>\n",
       "      <td>Blushing Monk</td>\n",
       "      <td>Founders Brewing Company</td>\n",
       "      <td>9.20</td>\n",
       "      <td>2570</td>\n",
       "      <td>4.21</td>\n",
       "      <td>NaN</td>\n",
       "    </tr>\n",
       "    <tr>\n",
       "      <th>14</th>\n",
       "      <td>Éphémère (Apple)</td>\n",
       "      <td>Unibroue</td>\n",
       "      <td>5.50</td>\n",
       "      <td>2155</td>\n",
       "      <td>3.64</td>\n",
       "      <td>NaN</td>\n",
       "    </tr>\n",
       "    <tr>\n",
       "      <th>15</th>\n",
       "      <td>Autumn Maple</td>\n",
       "      <td>The Bruery</td>\n",
       "      <td>10.00</td>\n",
       "      <td>2098</td>\n",
       "      <td>3.81</td>\n",
       "      <td>NaN</td>\n",
       "    </tr>\n",
       "    <tr>\n",
       "      <th>16</th>\n",
       "      <td>Samuel Adams Porch Rocker</td>\n",
       "      <td>Boston Beer Company (Samuel Adams)</td>\n",
       "      <td>4.50</td>\n",
       "      <td>1741</td>\n",
       "      <td>3.34</td>\n",
       "      <td>NaN</td>\n",
       "    </tr>\n",
       "    <tr>\n",
       "      <th>17</th>\n",
       "      <td>Thumbprint Apple Ale</td>\n",
       "      <td>New Glarus Brewing Company</td>\n",
       "      <td>4.00</td>\n",
       "      <td>1669</td>\n",
       "      <td>4.15</td>\n",
       "      <td>NaN</td>\n",
       "    </tr>\n",
       "    <tr>\n",
       "      <th>18</th>\n",
       "      <td>Black &amp; Blue</td>\n",
       "      <td>Dogfish Head Craft Brewery</td>\n",
       "      <td>10.00</td>\n",
       "      <td>1633</td>\n",
       "      <td>3.71</td>\n",
       "      <td>NaN</td>\n",
       "    </tr>\n",
       "    <tr>\n",
       "      <th>19</th>\n",
       "      <td>Strawberry Rhubarb</td>\n",
       "      <td>New Glarus Brewing Company</td>\n",
       "      <td>4.00</td>\n",
       "      <td>1585</td>\n",
       "      <td>4.35</td>\n",
       "      <td>NaN</td>\n",
       "    </tr>\n",
       "    <tr>\n",
       "      <th>20</th>\n",
       "      <td>Mango Magnifico</td>\n",
       "      <td>Founders Brewing Company</td>\n",
       "      <td>10.00</td>\n",
       "      <td>1561</td>\n",
       "      <td>3.66</td>\n",
       "      <td>NaN</td>\n",
       "    </tr>\n",
       "    <tr>\n",
       "      <th>21</th>\n",
       "      <td>Cerise</td>\n",
       "      <td>Founders Brewing Company</td>\n",
       "      <td>6.50</td>\n",
       "      <td>1518</td>\n",
       "      <td>3.65</td>\n",
       "      <td>NaN</td>\n",
       "    </tr>\n",
       "    <tr>\n",
       "      <th>22</th>\n",
       "      <td>Strawberry Lager</td>\n",
       "      <td>Abita Brewing Co.</td>\n",
       "      <td>4.20</td>\n",
       "      <td>1414</td>\n",
       "      <td>3.5</td>\n",
       "      <td>NaN</td>\n",
       "    </tr>\n",
       "    <tr>\n",
       "      <th>23</th>\n",
       "      <td>Samuel Adams Cranberry Lambic</td>\n",
       "      <td>Boston Beer Company (Samuel Adams)</td>\n",
       "      <td>5.90</td>\n",
       "      <td>1390</td>\n",
       "      <td>2.68</td>\n",
       "      <td>NaN</td>\n",
       "    </tr>\n",
       "    <tr>\n",
       "      <th>24</th>\n",
       "      <td>Shiner Ruby Redbird</td>\n",
       "      <td>Spoetzl Brewery</td>\n",
       "      <td>4.01</td>\n",
       "      <td>1365</td>\n",
       "      <td>3.22</td>\n",
       "      <td>NaN</td>\n",
       "    </tr>\n",
       "    <tr>\n",
       "      <th>25</th>\n",
       "      <td>Tweason'ale</td>\n",
       "      <td>Dogfish Head Craft Brewery</td>\n",
       "      <td>6.00</td>\n",
       "      <td>1333</td>\n",
       "      <td>3.13</td>\n",
       "      <td>NaN</td>\n",
       "    </tr>\n",
       "    <tr>\n",
       "      <th>26</th>\n",
       "      <td>Fort</td>\n",
       "      <td>Dogfish Head Craft Brewery</td>\n",
       "      <td>18.00</td>\n",
       "      <td>1329</td>\n",
       "      <td>3.79</td>\n",
       "      <td>NaN</td>\n",
       "    </tr>\n",
       "    <tr>\n",
       "      <th>27</th>\n",
       "      <td>Soft Parade</td>\n",
       "      <td>Short's Brewing Company</td>\n",
       "      <td>7.50</td>\n",
       "      <td>1249</td>\n",
       "      <td>3.69</td>\n",
       "      <td>NaN</td>\n",
       "    </tr>\n",
       "    <tr>\n",
       "      <th>28</th>\n",
       "      <td>Blue</td>\n",
       "      <td>SweetWater Brewing Company</td>\n",
       "      <td>4.90</td>\n",
       "      <td>1220</td>\n",
       "      <td>3.41</td>\n",
       "      <td>NaN</td>\n",
       "    </tr>\n",
       "    <tr>\n",
       "      <th>29</th>\n",
       "      <td>Kasteel Rouge</td>\n",
       "      <td>Brouwerij Van Honsebrouck N.V.</td>\n",
       "      <td>8.00</td>\n",
       "      <td>1134</td>\n",
       "      <td>3.86</td>\n",
       "      <td>NaN</td>\n",
       "    </tr>\n",
       "    <tr>\n",
       "      <th>30</th>\n",
       "      <td>Pyramid Apricot Ale</td>\n",
       "      <td>Pyramid Breweries, Inc.</td>\n",
       "      <td>5.10</td>\n",
       "      <td>1122</td>\n",
       "      <td>3.47</td>\n",
       "      <td>NaN</td>\n",
       "    </tr>\n",
       "    <tr>\n",
       "      <th>31</th>\n",
       "      <td>Redd's Apple Ale</td>\n",
       "      <td>Miller Brewing Co.</td>\n",
       "      <td>5.00</td>\n",
       "      <td>1114</td>\n",
       "      <td>2.73</td>\n",
       "      <td>NaN</td>\n",
       "    </tr>\n",
       "    <tr>\n",
       "      <th>32</th>\n",
       "      <td>Wild Blueberry Wheat Ale</td>\n",
       "      <td>Sea Dog Brewing Company</td>\n",
       "      <td>4.70</td>\n",
       "      <td>1022</td>\n",
       "      <td>3.47</td>\n",
       "      <td>NaN</td>\n",
       "    </tr>\n",
       "    <tr>\n",
       "      <th>33</th>\n",
       "      <td>Stiegl Radler (Grapefruit)</td>\n",
       "      <td>Stieglbrauerei zu Salzburg GmbH</td>\n",
       "      <td>2.25</td>\n",
       "      <td>1012</td>\n",
       "      <td>3.84</td>\n",
       "      <td>NaN</td>\n",
       "    </tr>\n",
       "    <tr>\n",
       "      <th>34</th>\n",
       "      <td>Tangerine Wheat</td>\n",
       "      <td>Lost Coast Brewery and Cafe</td>\n",
       "      <td>5.50</td>\n",
       "      <td>967</td>\n",
       "      <td>3.46</td>\n",
       "      <td>NaN</td>\n",
       "    </tr>\n",
       "    <tr>\n",
       "      <th>35</th>\n",
       "      <td>Cucumber Saison</td>\n",
       "      <td>Cigar City Brewing</td>\n",
       "      <td>5.00</td>\n",
       "      <td>963</td>\n",
       "      <td>3.73</td>\n",
       "      <td>NaN</td>\n",
       "    </tr>\n",
       "    <tr>\n",
       "      <th>36</th>\n",
       "      <td>Pumpkinfest</td>\n",
       "      <td>Terrapin Beer Company</td>\n",
       "      <td>6.10</td>\n",
       "      <td>924</td>\n",
       "      <td>3.69</td>\n",
       "      <td>NaN</td>\n",
       "    </tr>\n",
       "    <tr>\n",
       "      <th>37</th>\n",
       "      <td>Apricot Wheat</td>\n",
       "      <td>Ithaca Beer Company</td>\n",
       "      <td>4.90</td>\n",
       "      <td>883</td>\n",
       "      <td>3.32</td>\n",
       "      <td>NaN</td>\n",
       "    </tr>\n",
       "    <tr>\n",
       "      <th>38</th>\n",
       "      <td>UFO Raspberry Hefeweizen</td>\n",
       "      <td>Harpoon Brewery &amp; Beer Hall</td>\n",
       "      <td>4.80</td>\n",
       "      <td>819</td>\n",
       "      <td>3.61</td>\n",
       "      <td>NaN</td>\n",
       "    </tr>\n",
       "    <tr>\n",
       "      <th>39</th>\n",
       "      <td>Samuel Adams Blueberry Hill Lager</td>\n",
       "      <td>Boston Beer Company (Samuel Adams)</td>\n",
       "      <td>5.50</td>\n",
       "      <td>817</td>\n",
       "      <td>3.26</td>\n",
       "      <td>NaN</td>\n",
       "    </tr>\n",
       "    <tr>\n",
       "      <th>40</th>\n",
       "      <td>Shiner Prickly Pear</td>\n",
       "      <td>Spoetzl Brewery</td>\n",
       "      <td>4.90</td>\n",
       "      <td>810</td>\n",
       "      <td>3.39</td>\n",
       "      <td>NaN</td>\n",
       "    </tr>\n",
       "    <tr>\n",
       "      <th>41</th>\n",
       "      <td>Son Of A Peach</td>\n",
       "      <td>RJ Rockers Brewing Company</td>\n",
       "      <td>6.00</td>\n",
       "      <td>796</td>\n",
       "      <td>3.58</td>\n",
       "      <td>NaN</td>\n",
       "    </tr>\n",
       "    <tr>\n",
       "      <th>42</th>\n",
       "      <td>Shock Top Lemon Shandy</td>\n",
       "      <td>Anheuser-Busch</td>\n",
       "      <td>4.20</td>\n",
       "      <td>787</td>\n",
       "      <td>2.85</td>\n",
       "      <td>NaN</td>\n",
       "    </tr>\n",
       "    <tr>\n",
       "      <th>43</th>\n",
       "      <td>Orange Shandy</td>\n",
       "      <td>Jacob Leinenkugel Brewing Company</td>\n",
       "      <td>4.20</td>\n",
       "      <td>765</td>\n",
       "      <td>3.17</td>\n",
       "      <td>NaN</td>\n",
       "    </tr>\n",
       "    <tr>\n",
       "      <th>44</th>\n",
       "      <td>Bumble Berry Honey Blueberry Ale</td>\n",
       "      <td>Fat Head's Brewery &amp; Saloon</td>\n",
       "      <td>5.30</td>\n",
       "      <td>751</td>\n",
       "      <td>3.73</td>\n",
       "      <td>NaN</td>\n",
       "    </tr>\n",
       "    <tr>\n",
       "      <th>45</th>\n",
       "      <td>Blackbeary Wheat</td>\n",
       "      <td>Long Trail Brewing Co.</td>\n",
       "      <td>4.00</td>\n",
       "      <td>744</td>\n",
       "      <td>3.14</td>\n",
       "      <td>NaN</td>\n",
       "    </tr>\n",
       "    <tr>\n",
       "      <th>46</th>\n",
       "      <td>Raspberry Ale</td>\n",
       "      <td>Dark Horse Brewing Company</td>\n",
       "      <td>5.50</td>\n",
       "      <td>735</td>\n",
       "      <td>3.39</td>\n",
       "      <td>NaN</td>\n",
       "    </tr>\n",
       "    <tr>\n",
       "      <th>47</th>\n",
       "      <td>Blueberry Ale</td>\n",
       "      <td>Blue Point Brewing Company</td>\n",
       "      <td>4.60</td>\n",
       "      <td>687</td>\n",
       "      <td>3.52</td>\n",
       "      <td>NaN</td>\n",
       "    </tr>\n",
       "    <tr>\n",
       "      <th>48</th>\n",
       "      <td>Delirium Red</td>\n",
       "      <td>Brouwerij Huyghe</td>\n",
       "      <td>8.00</td>\n",
       "      <td>684</td>\n",
       "      <td>3.68</td>\n",
       "      <td>NaN</td>\n",
       "    </tr>\n",
       "    <tr>\n",
       "      <th>49</th>\n",
       "      <td>Orange Blossom Cream Ale</td>\n",
       "      <td>Buffalo Bill's Brewery</td>\n",
       "      <td>5.20</td>\n",
       "      <td>667</td>\n",
       "      <td>3.05</td>\n",
       "      <td>NaN</td>\n",
       "    </tr>\n",
       "    <tr>\n",
       "      <th>50</th>\n",
       "      <td>Curious Traveler Lemon Shandy</td>\n",
       "      <td>The Traveler Beer Co.</td>\n",
       "      <td>4.40</td>\n",
       "      <td>634</td>\n",
       "      <td>3.41</td>\n",
       "      <td>NaN</td>\n",
       "    </tr>\n",
       "    <tr>\n",
       "      <th>51</th>\n",
       "      <td>Pugsley's Signature Series: Smashed Blueberry</td>\n",
       "      <td>Shipyard Brewing Company</td>\n",
       "      <td>9.00</td>\n",
       "      <td>608</td>\n",
       "      <td>3.9</td>\n",
       "      <td>NaN</td>\n",
       "    </tr>\n",
       "    <tr>\n",
       "      <th>52</th>\n",
       "      <td>Organic Strawberry</td>\n",
       "      <td>Samuel Smith Old Brewery (Tadcaster)</td>\n",
       "      <td>5.10</td>\n",
       "      <td>586</td>\n",
       "      <td>3.87</td>\n",
       "      <td>NaN</td>\n",
       "    </tr>\n",
       "    <tr>\n",
       "      <th>53</th>\n",
       "      <td>first ← prev | 1-50 | 51-100 | 101-150 | next ...</td>\n",
       "      <td>first ← prev | 1-50 | 51-100 | 101-150 | next ...</td>\n",
       "      <td>first ← prev | 1-50 | 51-100 | 101-150 | next ...</td>\n",
       "      <td>first ← prev | 1-50 | 51-100 | 101-150 | next ...</td>\n",
       "      <td>first ← prev | 1-50 | 51-100 | 101-150 | next ...</td>\n",
       "      <td>NaN</td>\n",
       "    </tr>\n",
       "  </tbody>\n",
       "</table>\n",
       "</div>"
      ],
      "text/plain": [
       "                                                    0  \\\n",
       "0   Style Examples - 1 to 50 (out of 7214) - Order...   \n",
       "1   first ← prev | 1-50 | 51-100 | 101-150 | next ...   \n",
       "2                                                Name   \n",
       "3                                                  #9   \n",
       "4                           Samuel Adams Cherry Wheat   \n",
       "5                                      Raspberry Tart   \n",
       "6                                       Summer Shandy   \n",
       "7                                              Rübæus   \n",
       "8                               Wisconsin Belgian Red   \n",
       "9                                         Purple Haze   \n",
       "10                                  Banana Bread Beer   \n",
       "11                                        Serendipity   \n",
       "12                 Hell Or High Watermelon Wheat Beer   \n",
       "13                                      Blushing Monk   \n",
       "14                                   Éphémère (Apple)   \n",
       "15                                       Autumn Maple   \n",
       "16                          Samuel Adams Porch Rocker   \n",
       "17                               Thumbprint Apple Ale   \n",
       "18                                       Black & Blue   \n",
       "19                                 Strawberry Rhubarb   \n",
       "20                                    Mango Magnifico   \n",
       "21                                             Cerise   \n",
       "22                                   Strawberry Lager   \n",
       "23                      Samuel Adams Cranberry Lambic   \n",
       "24                                Shiner Ruby Redbird   \n",
       "25                                        Tweason'ale   \n",
       "26                                               Fort   \n",
       "27                                        Soft Parade   \n",
       "28                                               Blue   \n",
       "29                                      Kasteel Rouge   \n",
       "30                                Pyramid Apricot Ale   \n",
       "31                                   Redd's Apple Ale   \n",
       "32                           Wild Blueberry Wheat Ale   \n",
       "33                         Stiegl Radler (Grapefruit)   \n",
       "34                                    Tangerine Wheat   \n",
       "35                                    Cucumber Saison   \n",
       "36                                        Pumpkinfest   \n",
       "37                                      Apricot Wheat   \n",
       "38                           UFO Raspberry Hefeweizen   \n",
       "39                  Samuel Adams Blueberry Hill Lager   \n",
       "40                                Shiner Prickly Pear   \n",
       "41                                     Son Of A Peach   \n",
       "42                             Shock Top Lemon Shandy   \n",
       "43                                      Orange Shandy   \n",
       "44                   Bumble Berry Honey Blueberry Ale   \n",
       "45                                   Blackbeary Wheat   \n",
       "46                                      Raspberry Ale   \n",
       "47                                      Blueberry Ale   \n",
       "48                                       Delirium Red   \n",
       "49                           Orange Blossom Cream Ale   \n",
       "50                      Curious Traveler Lemon Shandy   \n",
       "51      Pugsley's Signature Series: Smashed Blueberry   \n",
       "52                                 Organic Strawberry   \n",
       "53  first ← prev | 1-50 | 51-100 | 101-150 | next ...   \n",
       "\n",
       "                                                    1  \\\n",
       "0   Style Examples - 1 to 50 (out of 7214) - Order...   \n",
       "1   first ← prev | 1-50 | 51-100 | 101-150 | next ...   \n",
       "2                                             Brewery   \n",
       "3                           Magic Hat Brewing Company   \n",
       "4                  Boston Beer Company (Samuel Adams)   \n",
       "5                          New Glarus Brewing Company   \n",
       "6                   Jacob Leinenkugel Brewing Company   \n",
       "7                            Founders Brewing Company   \n",
       "8                          New Glarus Brewing Company   \n",
       "9                                   Abita Brewing Co.   \n",
       "10                                      Eagle Brewery   \n",
       "11                         New Glarus Brewing Company   \n",
       "12                             21st Amendment Brewery   \n",
       "13                           Founders Brewing Company   \n",
       "14                                           Unibroue   \n",
       "15                                         The Bruery   \n",
       "16                 Boston Beer Company (Samuel Adams)   \n",
       "17                         New Glarus Brewing Company   \n",
       "18                         Dogfish Head Craft Brewery   \n",
       "19                         New Glarus Brewing Company   \n",
       "20                           Founders Brewing Company   \n",
       "21                           Founders Brewing Company   \n",
       "22                                  Abita Brewing Co.   \n",
       "23                 Boston Beer Company (Samuel Adams)   \n",
       "24                                    Spoetzl Brewery   \n",
       "25                         Dogfish Head Craft Brewery   \n",
       "26                         Dogfish Head Craft Brewery   \n",
       "27                            Short's Brewing Company   \n",
       "28                         SweetWater Brewing Company   \n",
       "29                     Brouwerij Van Honsebrouck N.V.   \n",
       "30                            Pyramid Breweries, Inc.   \n",
       "31                                 Miller Brewing Co.   \n",
       "32                            Sea Dog Brewing Company   \n",
       "33                    Stieglbrauerei zu Salzburg GmbH   \n",
       "34                        Lost Coast Brewery and Cafe   \n",
       "35                                 Cigar City Brewing   \n",
       "36                              Terrapin Beer Company   \n",
       "37                                Ithaca Beer Company   \n",
       "38                        Harpoon Brewery & Beer Hall   \n",
       "39                 Boston Beer Company (Samuel Adams)   \n",
       "40                                    Spoetzl Brewery   \n",
       "41                         RJ Rockers Brewing Company   \n",
       "42                                     Anheuser-Busch   \n",
       "43                  Jacob Leinenkugel Brewing Company   \n",
       "44                        Fat Head's Brewery & Saloon   \n",
       "45                             Long Trail Brewing Co.   \n",
       "46                         Dark Horse Brewing Company   \n",
       "47                         Blue Point Brewing Company   \n",
       "48                                   Brouwerij Huyghe   \n",
       "49                             Buffalo Bill's Brewery   \n",
       "50                              The Traveler Beer Co.   \n",
       "51                           Shipyard Brewing Company   \n",
       "52               Samuel Smith Old Brewery (Tadcaster)   \n",
       "53  first ← prev | 1-50 | 51-100 | 101-150 | next ...   \n",
       "\n",
       "                                                    2  \\\n",
       "0   Style Examples - 1 to 50 (out of 7214) - Order...   \n",
       "1   first ← prev | 1-50 | 51-100 | 101-150 | next ...   \n",
       "2                                                 ABV   \n",
       "3                                                5.10   \n",
       "4                                                5.30   \n",
       "5                                                4.00   \n",
       "6                                                4.20   \n",
       "7                                                5.70   \n",
       "8                                                4.00   \n",
       "9                                                4.20   \n",
       "10                                               5.20   \n",
       "11                                               4.00   \n",
       "12                                               4.90   \n",
       "13                                               9.20   \n",
       "14                                               5.50   \n",
       "15                                              10.00   \n",
       "16                                               4.50   \n",
       "17                                               4.00   \n",
       "18                                              10.00   \n",
       "19                                               4.00   \n",
       "20                                              10.00   \n",
       "21                                               6.50   \n",
       "22                                               4.20   \n",
       "23                                               5.90   \n",
       "24                                               4.01   \n",
       "25                                               6.00   \n",
       "26                                              18.00   \n",
       "27                                               7.50   \n",
       "28                                               4.90   \n",
       "29                                               8.00   \n",
       "30                                               5.10   \n",
       "31                                               5.00   \n",
       "32                                               4.70   \n",
       "33                                               2.25   \n",
       "34                                               5.50   \n",
       "35                                               5.00   \n",
       "36                                               6.10   \n",
       "37                                               4.90   \n",
       "38                                               4.80   \n",
       "39                                               5.50   \n",
       "40                                               4.90   \n",
       "41                                               6.00   \n",
       "42                                               4.20   \n",
       "43                                               4.20   \n",
       "44                                               5.30   \n",
       "45                                               4.00   \n",
       "46                                               5.50   \n",
       "47                                               4.60   \n",
       "48                                               8.00   \n",
       "49                                               5.20   \n",
       "50                                               4.40   \n",
       "51                                               9.00   \n",
       "52                                               5.10   \n",
       "53  first ← prev | 1-50 | 51-100 | 101-150 | next ...   \n",
       "\n",
       "                                                    3  \\\n",
       "0   Style Examples - 1 to 50 (out of 7214) - Order...   \n",
       "1   first ← prev | 1-50 | 51-100 | 101-150 | next ...   \n",
       "2                                           Ratings >   \n",
       "3                                                5915   \n",
       "4                                                4029   \n",
       "5                                                3995   \n",
       "6                                                3841   \n",
       "7                                                3800   \n",
       "8                                                3782   \n",
       "9                                                3529   \n",
       "10                                               3235   \n",
       "11                                               2994   \n",
       "12                                               2948   \n",
       "13                                               2570   \n",
       "14                                               2155   \n",
       "15                                               2098   \n",
       "16                                               1741   \n",
       "17                                               1669   \n",
       "18                                               1633   \n",
       "19                                               1585   \n",
       "20                                               1561   \n",
       "21                                               1518   \n",
       "22                                               1414   \n",
       "23                                               1390   \n",
       "24                                               1365   \n",
       "25                                               1333   \n",
       "26                                               1329   \n",
       "27                                               1249   \n",
       "28                                               1220   \n",
       "29                                               1134   \n",
       "30                                               1122   \n",
       "31                                               1114   \n",
       "32                                               1022   \n",
       "33                                               1012   \n",
       "34                                                967   \n",
       "35                                                963   \n",
       "36                                                924   \n",
       "37                                                883   \n",
       "38                                                819   \n",
       "39                                                817   \n",
       "40                                                810   \n",
       "41                                                796   \n",
       "42                                                787   \n",
       "43                                                765   \n",
       "44                                                751   \n",
       "45                                                744   \n",
       "46                                                735   \n",
       "47                                                687   \n",
       "48                                                684   \n",
       "49                                                667   \n",
       "50                                                634   \n",
       "51                                                608   \n",
       "52                                                586   \n",
       "53  first ← prev | 1-50 | 51-100 | 101-150 | next ...   \n",
       "\n",
       "                                                    4   5  \n",
       "0   Style Examples - 1 to 50 (out of 7214) - Order... NaN  \n",
       "1   first ← prev | 1-50 | 51-100 | 101-150 | next ... NaN  \n",
       "2                                                 Avg NaN  \n",
       "3                                                3.42 NaN  \n",
       "4                                                3.19 NaN  \n",
       "5                                                4.41 NaN  \n",
       "6                                                 3.2 NaN  \n",
       "7                                                3.91 NaN  \n",
       "8                                                4.42 NaN  \n",
       "9                                                3.32 NaN  \n",
       "10                                               3.56 NaN  \n",
       "11                                               4.38 NaN  \n",
       "12                                                3.4 NaN  \n",
       "13                                               4.21 NaN  \n",
       "14                                               3.64 NaN  \n",
       "15                                               3.81 NaN  \n",
       "16                                               3.34 NaN  \n",
       "17                                               4.15 NaN  \n",
       "18                                               3.71 NaN  \n",
       "19                                               4.35 NaN  \n",
       "20                                               3.66 NaN  \n",
       "21                                               3.65 NaN  \n",
       "22                                                3.5 NaN  \n",
       "23                                               2.68 NaN  \n",
       "24                                               3.22 NaN  \n",
       "25                                               3.13 NaN  \n",
       "26                                               3.79 NaN  \n",
       "27                                               3.69 NaN  \n",
       "28                                               3.41 NaN  \n",
       "29                                               3.86 NaN  \n",
       "30                                               3.47 NaN  \n",
       "31                                               2.73 NaN  \n",
       "32                                               3.47 NaN  \n",
       "33                                               3.84 NaN  \n",
       "34                                               3.46 NaN  \n",
       "35                                               3.73 NaN  \n",
       "36                                               3.69 NaN  \n",
       "37                                               3.32 NaN  \n",
       "38                                               3.61 NaN  \n",
       "39                                               3.26 NaN  \n",
       "40                                               3.39 NaN  \n",
       "41                                               3.58 NaN  \n",
       "42                                               2.85 NaN  \n",
       "43                                               3.17 NaN  \n",
       "44                                               3.73 NaN  \n",
       "45                                               3.14 NaN  \n",
       "46                                               3.39 NaN  \n",
       "47                                               3.52 NaN  \n",
       "48                                               3.68 NaN  \n",
       "49                                               3.05 NaN  \n",
       "50                                               3.41 NaN  \n",
       "51                                                3.9 NaN  \n",
       "52                                               3.87 NaN  \n",
       "53  first ← prev | 1-50 | 51-100 | 101-150 | next ... NaN  "
      ]
     },
     "execution_count": 14,
     "metadata": {},
     "output_type": "execute_result"
    }
   ],
   "source": [
    "#here we put it into a df\n",
    "df = pd.read_html(str(table))\n",
    "df = df[0].dropna(axis= 0, thresh = 4)\n",
    "df"
   ]
  },
  {
   "cell_type": "markdown",
   "metadata": {
    "hidden": true
   },
   "source": [
    ">Taking the data from above and creating a dataframe to look at it"
   ]
  },
  {
   "cell_type": "code",
   "execution_count": null,
   "metadata": {
    "hidden": true
   },
   "outputs": [],
   "source": [
    "#This allows us to create an accurate range for the function to iterate through\n",
    "body = driver.find_element_by_tag_name('tbody')\n",
    "x = body.find_element_by_tag_name('b').text\n",
    "pages = int(''.join([i for i in x.split('(')[1] if i.isnumeric()])) // 50"
   ]
  },
  {
   "cell_type": "markdown",
   "metadata": {
    "hidden": true
   },
   "source": [
    ">We need to be able to accurately pull the range for any of the styles of the beer we look at. This will give an exact range for the number of pages the function needs to go through when pulling the data from the style pages."
   ]
  },
  {
   "cell_type": "markdown",
   "metadata": {
    "heading_collapsed": true
   },
   "source": [
    "#### Establish table with beer info"
   ]
  },
  {
   "cell_type": "code",
   "execution_count": null,
   "metadata": {
    "hidden": true
   },
   "outputs": [],
   "source": [
    "#creating a variable to put into the next function\n",
    "long_list = [('Fruit and Field', 'https://www.beeradvocate.com/beer/styles/9/', pages)]"
   ]
  },
  {
   "cell_type": "markdown",
   "metadata": {
    "hidden": true
   },
   "source": [
    ">This variable is setup to eventually be more variable to put in more than just the \"Fruit and Field\" beers and that url. Similarly the url can be adjusted to iterate through all the styles we care about."
   ]
  },
  {
   "cell_type": "code",
   "execution_count": null,
   "metadata": {
    "hidden": true
   },
   "outputs": [],
   "source": [
    "#this function will go through each page and generate the tables iteratively\n",
    "#it has a sleep timer to avoid being blocked\n",
    "data = []\n",
    "for beer_style, url, pages in long_list:\n",
    "    driver.get(url)\n",
    "    for i in tqdm(range(pages)):\n",
    "        print(i)\n",
    "        table = driver.find_element_by_tag_name('table')\n",
    "        tds = [x.find_elements_by_tag_name('td') for x in table.find_elements_by_tag_name('tr')][3:]\n",
    "        for td in tds:\n",
    "            data.append([beer_style] + [x.text for x in td] + [td[0].find_element_by_tag_name('a').get_attribute('href')])\n",
    "            \n",
    "        quarter = driver.find_element_by_tag_name('tbody')\n",
    "        x = quarter.find_elements_by_tag_name('span')[1].find_elements_by_tag_name('a')[-2]\n",
    "        x.click()\n",
    "        time.sleep(random.choice([x/10 for x in range(8,14)]))"
   ]
  },
  {
   "cell_type": "markdown",
   "metadata": {
    "hidden": true
   },
   "source": [
    ">In this function we are pooling a lot of the previous elements together to a cohesive dataset. \n",
    "\n",
    ">First we are grabbing the 'table' that the data is in and then iteratively pulling the data from those rows and then in the next loop filling out the data list with the specific elements on the page. \n",
    "\n",
    ">Secondly we have a loop that will move to the next page after the former is done.\n",
    "\n",
    ">Finally we have a random sleep timer to prevent the website from blocking this function."
   ]
  },
  {
   "cell_type": "code",
   "execution_count": null,
   "metadata": {
    "hidden": true
   },
   "outputs": [],
   "source": [
    "#turning the data into a dataframe\n",
    "beer_df = pd.DataFrame(data)"
   ]
  },
  {
   "cell_type": "code",
   "execution_count": null,
   "metadata": {
    "hidden": true
   },
   "outputs": [],
   "source": [
    "#creating a benchmark csv in casae something happens\n",
    "beer_df.to_csv(r'C:\\Users\\GMoneyMan\\Documents\\Flatiron\\capstone\\csv_data\\beer_df.csv', index = False)"
   ]
  },
  {
   "cell_type": "markdown",
   "metadata": {
    "hidden": true
   },
   "source": [
    ">Now that we have a simple Dataframe we save it just in case, since the website is finicky "
   ]
  },
  {
   "cell_type": "code",
   "execution_count": null,
   "metadata": {
    "hidden": true
   },
   "outputs": [],
   "source": [
    "beer_df.isna().sum()"
   ]
  },
  {
   "cell_type": "code",
   "execution_count": null,
   "metadata": {
    "hidden": true
   },
   "outputs": [],
   "source": [
    "len(beer_df)"
   ]
  },
  {
   "cell_type": "markdown",
   "metadata": {
    "heading_collapsed": true
   },
   "source": [
    "#### Collecting url for each beer profile"
   ]
  },
  {
   "cell_type": "code",
   "execution_count": null,
   "metadata": {
    "hidden": true
   },
   "outputs": [],
   "source": [
    "#this function will create a list of each of the beer's url and using BS go to the next page\n",
    "new_list_links = []\n",
    "\n",
    "for tag in beer_tags.find_all(href=re.compile(\"/beer/styles/[0-9]+/\\?sort=revsD\")):\n",
    "        if tag.contents[0] == 'last':\n",
    "            num = int(tag.get('href').strip(f\"{url}?sort=revsD&start\"))\n",
    "some_num = 7206 #num+50\n",
    "i = 0\n",
    "for i in tqdm(range(0, some_num, 50)):\n",
    "        print(f'i is {i}')\n",
    "        url = f'https://www.beeradvocate.com/beer/styles/9/?sort=revsD&start={i}'\n",
    "        page = requests.get(url)\n",
    "        soup = BeautifulSoup(page.content, 'html.parser')\n",
    "        tags = [tag.get('href') for tag in soup.find_all(href=re.compile(\"/beer/profile/[0-9]+/[0-9]+\"))]\n",
    "        new_list_links.append(tags)\n",
    "        i += 50\n",
    "        \n",
    "        time.sleep(random.choice([x/10 for x in range(8,14)]))"
   ]
  },
  {
   "cell_type": "markdown",
   "metadata": {
    "hidden": true
   },
   "source": [
    ">Now We want to grab the reviews for each of the beers. In order to do that we need to get the url endings for each of the beers so we can create a function that can go into to those urls and grab the reviews.\n",
    "\n",
    ">This does that by going into the rows and pulling the url endings, and then using BeautifulSoup going to the next page since it goes up by 50 beers a page. "
   ]
  },
  {
   "cell_type": "code",
   "execution_count": null,
   "metadata": {
    "hidden": true
   },
   "outputs": [],
   "source": [
    "new_list_links"
   ]
  },
  {
   "cell_type": "code",
   "execution_count": null,
   "metadata": {
    "hidden": true
   },
   "outputs": [],
   "source": [
    "#Since the function outputs a list full of lists this will turn everything into just one list\n",
    "list_of_beer_profiles = [y for x in new_list_links for y in x]"
   ]
  },
  {
   "cell_type": "markdown",
   "metadata": {
    "heading_collapsed": true
   },
   "source": [
    "#### Collecting the reviews for a beer"
   ]
  },
  {
   "cell_type": "markdown",
   "metadata": {
    "hidden": true
   },
   "source": [
    ">Each of the following methods extract the reviews from the pages, but some do so with no lists, one list, or multiple lists. I go with the single list for easier access and application."
   ]
  },
  {
   "cell_type": "markdown",
   "metadata": {
    "heading_collapsed": true,
    "hidden": true
   },
   "source": [
    "##### Method 1 to get reviews"
   ]
  },
  {
   "cell_type": "code",
   "execution_count": null,
   "metadata": {
    "hidden": true
   },
   "outputs": [],
   "source": [
    "tag_name = driver.find_element_by_xpath('//*[@id=\"ba-content\"]/table/tbody/tr[4]/td[1]/a').text\n",
    "tag_name"
   ]
  },
  {
   "cell_type": "markdown",
   "metadata": {
    "heading_collapsed": true,
    "hidden": true
   },
   "source": [
    "##### Method 2 to get reviews"
   ]
  },
  {
   "cell_type": "code",
   "execution_count": null,
   "metadata": {
    "hidden": true
   },
   "outputs": [],
   "source": [
    "ba_content = driver.find_element_by_xpath('//*[@id=\"ba-content\"]').text\n",
    "ba_content"
   ]
  },
  {
   "cell_type": "markdown",
   "metadata": {
    "heading_collapsed": true,
    "hidden": true
   },
   "source": [
    "##### Method 3 to get reviews"
   ]
  },
  {
   "cell_type": "code",
   "execution_count": null,
   "metadata": {
    "hidden": true
   },
   "outputs": [],
   "source": [
    "u_comment = driver.find_elements_by_class_name('user-comment')\n",
    "review3 = []\n",
    "for item in u_comment:\n",
    "    review3.append(item.text)"
   ]
  },
  {
   "cell_type": "markdown",
   "metadata": {
    "heading_collapsed": true
   },
   "source": [
    "#### Collecting the url & reviews"
   ]
  },
  {
   "cell_type": "code",
   "execution_count": null,
   "metadata": {
    "hidden": true
   },
   "outputs": [],
   "source": [
    "#creating a test for the urls to feed into the next function\n",
    "first_trial = list_links[0][49:52]"
   ]
  },
  {
   "cell_type": "markdown",
   "metadata": {
    "hidden": true
   },
   "source": [
    ">Since the review scraping is very intensive and takes a long time, I create a smaller sample of the urls we will need to test that it does what it is supposed to."
   ]
  },
  {
   "cell_type": "code",
   "execution_count": null,
   "metadata": {
    "hidden": true
   },
   "outputs": [],
   "source": [
    "#this function will take the list of urls collected previously and pull all the comments from\n",
    "#the page, and append the text to a list\n",
    "def get_beer_reviews(list_urls):\n",
    "    list_beers = []\n",
    "    i = 1\n",
    "    for url_end in tqdm(list_urls):\n",
    "        beer = {}\n",
    "        url = f'https://www.beeradvocate.com{url_end}'\n",
    "        beer['url'] = url\n",
    "        print(i)\n",
    "        page = requests.get(url)\n",
    "        soup = BeautifulSoup(page.content, 'html.parser') \n",
    "        \n",
    "        listy = soup.find_all(class_ = 'user-comment')\n",
    "        beer['review'] = []\n",
    "        for item in listy:\n",
    "            beer['review'].append(item.get_text())\n",
    "            \n",
    "#         titlebar = soup.find(class_='titleBar')\n",
    "#         for span in titlebar('span'):\n",
    "#             span.decompose()\n",
    "\n",
    "#         beer['name'] = titlebar.get_text().strip()\n",
    "        \n",
    "        list_beers.append(beer)\n",
    "        \n",
    "        time.sleep(random.choice([x/10 for x in range(8,14)]))\n",
    "        \n",
    "        i += 1\n",
    "    return list_beers"
   ]
  },
  {
   "cell_type": "markdown",
   "metadata": {
    "hidden": true
   },
   "source": [
    ">This function will go through all the of the urls in the list I pulled for each of the beers. It will go into that url and pull all of the reviews on the page and append them to a new list. This also had a random sleep timer as this whole function took a long time. "
   ]
  },
  {
   "cell_type": "code",
   "execution_count": null,
   "metadata": {
    "hidden": true
   },
   "outputs": [],
   "source": [
    "#here we trial our sample of urls\n",
    "demo_df = get_beer_reviews(first_trial)"
   ]
  },
  {
   "cell_type": "markdown",
   "metadata": {
    "hidden": true
   },
   "source": [
    ">Here we try a small sample of the urls in the list to make sure it works."
   ]
  },
  {
   "cell_type": "code",
   "execution_count": null,
   "metadata": {
    "hidden": true
   },
   "outputs": [],
   "source": [
    "pd.DataFrame(demo_df)"
   ]
  },
  {
   "cell_type": "code",
   "execution_count": null,
   "metadata": {
    "hidden": true
   },
   "outputs": [],
   "source": [
    "len(list_of_beer_profiles)"
   ]
  },
  {
   "cell_type": "code",
   "execution_count": null,
   "metadata": {
    "hidden": true
   },
   "outputs": [],
   "source": [
    "#here we use our whole list of urls (this takes a long time)\n",
    "reviews = get_beer_reviews(list_of_beer_profiles)"
   ]
  },
  {
   "cell_type": "markdown",
   "metadata": {
    "hidden": true
   },
   "source": [
    ">Since the sample worked I can now apply the function for the entire list of urls"
   ]
  },
  {
   "cell_type": "code",
   "execution_count": null,
   "metadata": {
    "hidden": true
   },
   "outputs": [],
   "source": [
    "#we convert into a dataframe\n",
    "beer_reviews = pd.DataFrame(reviews)\n",
    "beer_reviews"
   ]
  },
  {
   "cell_type": "code",
   "execution_count": null,
   "metadata": {
    "hidden": true
   },
   "outputs": [],
   "source": [
    "beer_reviews['review'][7201]"
   ]
  },
  {
   "cell_type": "code",
   "execution_count": null,
   "metadata": {
    "hidden": true
   },
   "outputs": [],
   "source": [
    "#this converts all the empty lists in our review column into nan values\n",
    "beer_reviews.loc[~beer_reviews.review.astype(bool),'review']=np.nan"
   ]
  },
  {
   "cell_type": "markdown",
   "metadata": {
    "hidden": true
   },
   "source": [
    ">Here we take any of the empty lists, generated for when there are no reviews, and turn them into NaN values to get rid of easily."
   ]
  },
  {
   "cell_type": "code",
   "execution_count": null,
   "metadata": {
    "hidden": true
   },
   "outputs": [],
   "source": [
    "beer_reviews.isna().sum()"
   ]
  },
  {
   "cell_type": "code",
   "execution_count": null,
   "metadata": {
    "hidden": true
   },
   "outputs": [],
   "source": [
    "beer_reviews.to_csv(r'C:\\Users\\GMoneyMan\\Documents\\Flatiron\\capstone\\csv_data\\reviews.csv', index = False)"
   ]
  },
  {
   "cell_type": "code",
   "execution_count": null,
   "metadata": {
    "hidden": true
   },
   "outputs": [],
   "source": [
    "#here we merge the reviews to the beer dataframe on the url column\n",
    "df = beer_df.merge(beer_reviews, on='url', how='left')\n",
    "df.to_csv(r'C:\\Users\\GMoneyMan\\Documents\\Flatiron\\capstone\\csv_data\\beer_w_reviews.csv', index = False)"
   ]
  },
  {
   "cell_type": "markdown",
   "metadata": {
    "hidden": true
   },
   "source": [
    ">Now we merge on the url for the beer, as they are the same."
   ]
  },
  {
   "cell_type": "code",
   "execution_count": null,
   "metadata": {
    "hidden": true
   },
   "outputs": [],
   "source": [
    "df"
   ]
  },
  {
   "cell_type": "code",
   "execution_count": null,
   "metadata": {
    "hidden": true
   },
   "outputs": [],
   "source": [
    "#we renaming the columns\n",
    "df.columns = ['beer_style', 'beer_name', 'brewery_name', 'abv', 'no_ratings', 'avg_rating', 'drop_me', 'url']"
   ]
  },
  {
   "cell_type": "code",
   "execution_count": null,
   "metadata": {
    "hidden": true
   },
   "outputs": [],
   "source": []
  },
  {
   "cell_type": "code",
   "execution_count": null,
   "metadata": {
    "hidden": true
   },
   "outputs": [],
   "source": []
  },
  {
   "cell_type": "code",
   "execution_count": null,
   "metadata": {
    "hidden": true
   },
   "outputs": [],
   "source": []
  },
  {
   "cell_type": "code",
   "execution_count": null,
   "metadata": {
    "hidden": true
   },
   "outputs": [],
   "source": []
  }
 ],
 "metadata": {
  "kernelspec": {
   "display_name": "Python 3",
   "language": "python",
   "name": "python3"
  },
  "language_info": {
   "codemirror_mode": {
    "name": "ipython",
    "version": 3
   },
   "file_extension": ".py",
   "mimetype": "text/x-python",
   "name": "python",
   "nbconvert_exporter": "python",
   "pygments_lexer": "ipython3",
   "version": "3.8.5"
  },
  "toc": {
   "base_numbering": 1,
   "nav_menu": {},
   "number_sections": true,
   "sideBar": true,
   "skip_h1_title": false,
   "title_cell": "Table of Contents",
   "title_sidebar": "Contents",
   "toc_cell": false,
   "toc_position": {},
   "toc_section_display": true,
   "toc_window_display": false
  },
  "varInspector": {
   "cols": {
    "lenName": 16,
    "lenType": 16,
    "lenVar": 40
   },
   "kernels_config": {
    "python": {
     "delete_cmd_postfix": "",
     "delete_cmd_prefix": "del ",
     "library": "var_list.py",
     "varRefreshCmd": "print(var_dic_list())"
    },
    "r": {
     "delete_cmd_postfix": ") ",
     "delete_cmd_prefix": "rm(",
     "library": "var_list.r",
     "varRefreshCmd": "cat(var_dic_list()) "
    }
   },
   "types_to_exclude": [
    "module",
    "function",
    "builtin_function_or_method",
    "instance",
    "_Feature"
   ],
   "window_display": false
  }
 },
 "nbformat": 4,
 "nbformat_minor": 4
}
