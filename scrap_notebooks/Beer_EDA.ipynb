{
 "cells": [
  {
   "cell_type": "code",
   "execution_count": 1,
   "metadata": {},
   "outputs": [],
   "source": [
    "import sqlite3\n",
    "import requests\n",
    "import re\n",
    "from bs4 import BeautifulSoup, Comment\n",
    "import json\n",
    "import pandas as pd\n",
    "import time\n",
    "import folium\n",
    "import matplotlib.pyplot as plt\n",
    "import urllib.request\n",
    "from selenium import webdriver\n",
    "import random\n",
    "\n",
    "import traceback"
   ]
  },
  {
   "cell_type": "code",
   "execution_count": 308,
   "metadata": {},
   "outputs": [],
   "source": [
    "from sklearn.svm import SVC\n",
    "from sklearn.decomposition import PCA\n",
    "from sklearn.naive_bayes import MultinomialNB\n",
    "from sklearn.ensemble import RandomForestClassifier\n",
    "from sklearn.linear_model import LogisticRegression\n",
    "from sklearn.preprocessing import StandardScaler\n",
    "\n",
    "from sklearn.model_selection import train_test_split, GridSearchCV, RandomizedSearchCV\n",
    "from sklearn.metrics import roc_curve, auc, accuracy_score, precision_score, f1_score, recall_score\n"
   ]
  },
  {
   "cell_type": "code",
   "execution_count": 2,
   "metadata": {},
   "outputs": [
    {
     "name": "stderr",
     "output_type": "stream",
     "text": [
      "[nltk_data] Downloading package stopwords to\n",
      "[nltk_data]     C:\\Users\\GMoneyMan\\AppData\\Roaming\\nltk_data...\n",
      "[nltk_data]   Package stopwords is already up-to-date!\n",
      "[nltk_data] Downloading package punkt to\n",
      "[nltk_data]     C:\\Users\\GMoneyMan\\AppData\\Roaming\\nltk_data...\n",
      "[nltk_data]   Package punkt is already up-to-date!\n",
      "[nltk_data] Downloading package wordnet to\n",
      "[nltk_data]     C:\\Users\\GMoneyMan\\AppData\\Roaming\\nltk_data...\n",
      "[nltk_data]   Package wordnet is already up-to-date!\n"
     ]
    },
    {
     "data": {
      "text/plain": [
       "True"
      ]
     },
     "execution_count": 2,
     "metadata": {},
     "output_type": "execute_result"
    }
   ],
   "source": [
    "import nltk\n",
    "from sklearn.feature_extraction.text import CountVectorizer\n",
    "from sklearn.feature_extraction.text import TfidfVectorizer #WBOT\n",
    "from sklearn.feature_extraction.text import TfidfTransformer\n",
    "from nltk.probability import FreqDist\n",
    "from nltk.corpus import stopwords\n",
    "from nltk.stem import PorterStemmer #these three are for visualization\n",
    "from nltk.tokenize import RegexpTokenizer\n",
    "from sklearn.metrics import confusion_matrix\n",
    "import seaborn as sns\n",
    "from sklearn import metrics\n",
    "from matplotlib import cm\n",
    "import numpy as np\n",
    "\n",
    "\n",
    "\n",
    "\n",
    "import string, re\n",
    "from nltk.stem import WordNetLemmatizer\n",
    "\n",
    "\n",
    "nltk.download('stopwords')\n",
    "nltk.download('punkt')\n",
    "nltk.download('wordnet')"
   ]
  },
  {
   "cell_type": "code",
   "execution_count": 3,
   "metadata": {},
   "outputs": [],
   "source": [
    "%%capture\n",
    "from tqdm import tqdm_notebook as tqdm\n",
    "tqdm().pandas()"
   ]
  },
  {
   "cell_type": "markdown",
   "metadata": {},
   "source": [
    "### Cleaning the Dataframe"
   ]
  },
  {
   "cell_type": "code",
   "execution_count": 4,
   "metadata": {},
   "outputs": [],
   "source": [
    "beer_df = pd.read_csv(r'C:\\Users\\GMoneyMan\\Documents\\Flatiron\\capstone\\csv_data\\beer_w_reviews.csv')"
   ]
  },
  {
   "cell_type": "code",
   "execution_count": 5,
   "metadata": {
    "collapsed": true
   },
   "outputs": [
    {
     "data": {
      "text/html": [
       "<div>\n",
       "<style scoped>\n",
       "    .dataframe tbody tr th:only-of-type {\n",
       "        vertical-align: middle;\n",
       "    }\n",
       "\n",
       "    .dataframe tbody tr th {\n",
       "        vertical-align: top;\n",
       "    }\n",
       "\n",
       "    .dataframe thead th {\n",
       "        text-align: right;\n",
       "    }\n",
       "</style>\n",
       "<table border=\"1\" class=\"dataframe\">\n",
       "  <thead>\n",
       "    <tr style=\"text-align: right;\">\n",
       "      <th></th>\n",
       "      <th>beer_style</th>\n",
       "      <th>beer_name</th>\n",
       "      <th>brewery_name</th>\n",
       "      <th>abv</th>\n",
       "      <th>no_ratings</th>\n",
       "      <th>avg_rating</th>\n",
       "      <th>drop_me</th>\n",
       "      <th>url</th>\n",
       "      <th>review</th>\n",
       "    </tr>\n",
       "  </thead>\n",
       "  <tbody>\n",
       "    <tr>\n",
       "      <th>0</th>\n",
       "      <td>Fruit and Field</td>\n",
       "      <td>#9</td>\n",
       "      <td>Magic Hat Brewing Company</td>\n",
       "      <td>5.10</td>\n",
       "      <td>5,915</td>\n",
       "      <td>3.42</td>\n",
       "      <td>NaN</td>\n",
       "      <td>https://www.beeradvocate.com/beer/profile/96/299/</td>\n",
       "      <td>[\"Elemental19xx from Illinois3.6/5\\xa0\\xa0rDev...</td>\n",
       "    </tr>\n",
       "    <tr>\n",
       "      <th>1</th>\n",
       "      <td>Fruit and Field</td>\n",
       "      <td>Samuel Adams Cherry Wheat</td>\n",
       "      <td>Boston Beer Company (Samuel Adams)</td>\n",
       "      <td>5.30</td>\n",
       "      <td>4,029</td>\n",
       "      <td>3.19</td>\n",
       "      <td>NaN</td>\n",
       "      <td>https://www.beeradvocate.com/beer/profile/35/108/</td>\n",
       "      <td>['BergBeer from Virginia1.15/5\\xa0\\xa0rDev -63...</td>\n",
       "    </tr>\n",
       "    <tr>\n",
       "      <th>2</th>\n",
       "      <td>Fruit and Field</td>\n",
       "      <td>Raspberry Tart</td>\n",
       "      <td>New Glarus Brewing Company</td>\n",
       "      <td>4.00</td>\n",
       "      <td>3,992</td>\n",
       "      <td>4.41</td>\n",
       "      <td>NaN</td>\n",
       "      <td>https://www.beeradvocate.com/beer/profile/590/...</td>\n",
       "      <td>[\"TedHead from Illinois4.85/5\\xa0\\xa0rDev +10%...</td>\n",
       "    </tr>\n",
       "    <tr>\n",
       "      <th>3</th>\n",
       "      <td>Fruit and Field</td>\n",
       "      <td>Summer Shandy</td>\n",
       "      <td>Jacob Leinenkugel Brewing Company</td>\n",
       "      <td>4.20</td>\n",
       "      <td>3,841</td>\n",
       "      <td>3.20</td>\n",
       "      <td>NaN</td>\n",
       "      <td>https://www.beeradvocate.com/beer/profile/710/...</td>\n",
       "      <td>['AlCaponeJunior from Texas2.79/5\\xa0\\xa0rDev ...</td>\n",
       "    </tr>\n",
       "    <tr>\n",
       "      <th>4</th>\n",
       "      <td>Fruit and Field</td>\n",
       "      <td>Rübæus</td>\n",
       "      <td>Founders Brewing Company</td>\n",
       "      <td>5.70</td>\n",
       "      <td>3,799</td>\n",
       "      <td>3.91</td>\n",
       "      <td>NaN</td>\n",
       "      <td>https://www.beeradvocate.com/beer/profile/1199...</td>\n",
       "      <td>['TomQBigBeerGuy from Michigan3.88/5\\xa0\\xa0rD...</td>\n",
       "    </tr>\n",
       "    <tr>\n",
       "      <th>...</th>\n",
       "      <td>...</td>\n",
       "      <td>...</td>\n",
       "      <td>...</td>\n",
       "      <td>...</td>\n",
       "      <td>...</td>\n",
       "      <td>...</td>\n",
       "      <td>...</td>\n",
       "      <td>...</td>\n",
       "      <td>...</td>\n",
       "    </tr>\n",
       "    <tr>\n",
       "      <th>7339</th>\n",
       "      <td>Fruit and Field</td>\n",
       "      <td>Radler</td>\n",
       "      <td>Occy's Brewery</td>\n",
       "      <td>4.80</td>\n",
       "      <td>0</td>\n",
       "      <td>0.00</td>\n",
       "      <td>NaN</td>\n",
       "      <td>https://www.beeradvocate.com/beer/profile/2128...</td>\n",
       "      <td>NaN</td>\n",
       "    </tr>\n",
       "    <tr>\n",
       "      <th>7340</th>\n",
       "      <td>Fruit and Field</td>\n",
       "      <td>Alan-A-Dale Apple Ale</td>\n",
       "      <td>Robin Hood Brewing Co. / Home D Pizzeria</td>\n",
       "      <td>5.00</td>\n",
       "      <td>0</td>\n",
       "      <td>0.00</td>\n",
       "      <td>NaN</td>\n",
       "      <td>https://www.beeradvocate.com/beer/profile/4182...</td>\n",
       "      <td>NaN</td>\n",
       "    </tr>\n",
       "    <tr>\n",
       "      <th>7341</th>\n",
       "      <td>Fruit and Field</td>\n",
       "      <td>Tussle In the Hay</td>\n",
       "      <td>Back Unturned Brewing Company</td>\n",
       "      <td>7.90</td>\n",
       "      <td>0</td>\n",
       "      <td>0.00</td>\n",
       "      <td>NaN</td>\n",
       "      <td>https://www.beeradvocate.com/beer/profile/5844...</td>\n",
       "      <td>NaN</td>\n",
       "    </tr>\n",
       "    <tr>\n",
       "      <th>7342</th>\n",
       "      <td>Fruit and Field</td>\n",
       "      <td>Strawberry Chocolate Cheesecake Sour</td>\n",
       "      <td>Barn Town Brewing</td>\n",
       "      <td>5.90</td>\n",
       "      <td>0</td>\n",
       "      <td>0.00</td>\n",
       "      <td>NaN</td>\n",
       "      <td>https://www.beeradvocate.com/beer/profile/4760...</td>\n",
       "      <td>NaN</td>\n",
       "    </tr>\n",
       "    <tr>\n",
       "      <th>7343</th>\n",
       "      <td>Fruit and Field</td>\n",
       "      <td>first ← prev| 7051-7100 | 7101-7150 | 7151-720...</td>\n",
       "      <td>https://www.beeradvocate.com/beer/styles/9/?so...</td>\n",
       "      <td>NaN</td>\n",
       "      <td>NaN</td>\n",
       "      <td>NaN</td>\n",
       "      <td>NaN</td>\n",
       "      <td>NaN</td>\n",
       "      <td>NaN</td>\n",
       "    </tr>\n",
       "  </tbody>\n",
       "</table>\n",
       "<p>7344 rows × 9 columns</p>\n",
       "</div>"
      ],
      "text/plain": [
       "           beer_style                                          beer_name  \\\n",
       "0     Fruit and Field                                                 #9   \n",
       "1     Fruit and Field                          Samuel Adams Cherry Wheat   \n",
       "2     Fruit and Field                                     Raspberry Tart   \n",
       "3     Fruit and Field                                      Summer Shandy   \n",
       "4     Fruit and Field                                             Rübæus   \n",
       "...               ...                                                ...   \n",
       "7339  Fruit and Field                                             Radler   \n",
       "7340  Fruit and Field                              Alan-A-Dale Apple Ale   \n",
       "7341  Fruit and Field                                  Tussle In the Hay   \n",
       "7342  Fruit and Field               Strawberry Chocolate Cheesecake Sour   \n",
       "7343  Fruit and Field  first ← prev| 7051-7100 | 7101-7150 | 7151-720...   \n",
       "\n",
       "                                           brewery_name   abv no_ratings  \\\n",
       "0                             Magic Hat Brewing Company  5.10      5,915   \n",
       "1                    Boston Beer Company (Samuel Adams)  5.30      4,029   \n",
       "2                            New Glarus Brewing Company  4.00      3,992   \n",
       "3                     Jacob Leinenkugel Brewing Company  4.20      3,841   \n",
       "4                              Founders Brewing Company  5.70      3,799   \n",
       "...                                                 ...   ...        ...   \n",
       "7339                                     Occy's Brewery  4.80          0   \n",
       "7340           Robin Hood Brewing Co. / Home D Pizzeria  5.00          0   \n",
       "7341                      Back Unturned Brewing Company  7.90          0   \n",
       "7342                                  Barn Town Brewing  5.90          0   \n",
       "7343  https://www.beeradvocate.com/beer/styles/9/?so...   NaN        NaN   \n",
       "\n",
       "      avg_rating  drop_me                                                url  \\\n",
       "0           3.42      NaN  https://www.beeradvocate.com/beer/profile/96/299/   \n",
       "1           3.19      NaN  https://www.beeradvocate.com/beer/profile/35/108/   \n",
       "2           4.41      NaN  https://www.beeradvocate.com/beer/profile/590/...   \n",
       "3           3.20      NaN  https://www.beeradvocate.com/beer/profile/710/...   \n",
       "4           3.91      NaN  https://www.beeradvocate.com/beer/profile/1199...   \n",
       "...          ...      ...                                                ...   \n",
       "7339        0.00      NaN  https://www.beeradvocate.com/beer/profile/2128...   \n",
       "7340        0.00      NaN  https://www.beeradvocate.com/beer/profile/4182...   \n",
       "7341        0.00      NaN  https://www.beeradvocate.com/beer/profile/5844...   \n",
       "7342        0.00      NaN  https://www.beeradvocate.com/beer/profile/4760...   \n",
       "7343         NaN      NaN                                                NaN   \n",
       "\n",
       "                                                 review  \n",
       "0     [\"Elemental19xx from Illinois3.6/5\\xa0\\xa0rDev...  \n",
       "1     ['BergBeer from Virginia1.15/5\\xa0\\xa0rDev -63...  \n",
       "2     [\"TedHead from Illinois4.85/5\\xa0\\xa0rDev +10%...  \n",
       "3     ['AlCaponeJunior from Texas2.79/5\\xa0\\xa0rDev ...  \n",
       "4     ['TomQBigBeerGuy from Michigan3.88/5\\xa0\\xa0rD...  \n",
       "...                                                 ...  \n",
       "7339                                                NaN  \n",
       "7340                                                NaN  \n",
       "7341                                                NaN  \n",
       "7342                                                NaN  \n",
       "7343                                                NaN  \n",
       "\n",
       "[7344 rows x 9 columns]"
      ]
     },
     "execution_count": 5,
     "metadata": {},
     "output_type": "execute_result"
    }
   ],
   "source": [
    "beer_df"
   ]
  },
  {
   "cell_type": "code",
   "execution_count": 6,
   "metadata": {},
   "outputs": [
    {
     "data": {
      "text/plain": [
       "beer_style         0\n",
       "beer_name          0\n",
       "brewery_name       0\n",
       "abv              144\n",
       "no_ratings       144\n",
       "avg_rating       144\n",
       "drop_me         7344\n",
       "url              144\n",
       "review          1799\n",
       "dtype: int64"
      ]
     },
     "execution_count": 6,
     "metadata": {},
     "output_type": "execute_result"
    }
   ],
   "source": [
    "beer_df.isna().sum()"
   ]
  },
  {
   "cell_type": "code",
   "execution_count": 7,
   "metadata": {},
   "outputs": [],
   "source": [
    "#dropping the column that has no data\n",
    "beer_df.drop('drop_me', axis = 1, inplace = True)"
   ]
  },
  {
   "cell_type": "code",
   "execution_count": 8,
   "metadata": {},
   "outputs": [],
   "source": [
    "#dropping the rows that have no reviews\n",
    "beer_df.dropna(subset=['review'], inplace = True)"
   ]
  },
  {
   "cell_type": "code",
   "execution_count": 9,
   "metadata": {},
   "outputs": [
    {
     "data": {
      "text/html": [
       "<div>\n",
       "<style scoped>\n",
       "    .dataframe tbody tr th:only-of-type {\n",
       "        vertical-align: middle;\n",
       "    }\n",
       "\n",
       "    .dataframe tbody tr th {\n",
       "        vertical-align: top;\n",
       "    }\n",
       "\n",
       "    .dataframe thead th {\n",
       "        text-align: right;\n",
       "    }\n",
       "</style>\n",
       "<table border=\"1\" class=\"dataframe\">\n",
       "  <thead>\n",
       "    <tr style=\"text-align: right;\">\n",
       "      <th></th>\n",
       "      <th>beer_style</th>\n",
       "      <th>beer_name</th>\n",
       "      <th>brewery_name</th>\n",
       "      <th>abv</th>\n",
       "      <th>no_ratings</th>\n",
       "      <th>avg_rating</th>\n",
       "      <th>url</th>\n",
       "      <th>review</th>\n",
       "    </tr>\n",
       "  </thead>\n",
       "  <tbody>\n",
       "    <tr>\n",
       "      <th>0</th>\n",
       "      <td>Fruit and Field</td>\n",
       "      <td>#9</td>\n",
       "      <td>Magic Hat Brewing Company</td>\n",
       "      <td>5.10</td>\n",
       "      <td>5,915</td>\n",
       "      <td>3.42</td>\n",
       "      <td>https://www.beeradvocate.com/beer/profile/96/299/</td>\n",
       "      <td>[\"Elemental19xx from Illinois3.6/5\\xa0\\xa0rDev...</td>\n",
       "    </tr>\n",
       "    <tr>\n",
       "      <th>1</th>\n",
       "      <td>Fruit and Field</td>\n",
       "      <td>Samuel Adams Cherry Wheat</td>\n",
       "      <td>Boston Beer Company (Samuel Adams)</td>\n",
       "      <td>5.30</td>\n",
       "      <td>4,029</td>\n",
       "      <td>3.19</td>\n",
       "      <td>https://www.beeradvocate.com/beer/profile/35/108/</td>\n",
       "      <td>['BergBeer from Virginia1.15/5\\xa0\\xa0rDev -63...</td>\n",
       "    </tr>\n",
       "    <tr>\n",
       "      <th>2</th>\n",
       "      <td>Fruit and Field</td>\n",
       "      <td>Raspberry Tart</td>\n",
       "      <td>New Glarus Brewing Company</td>\n",
       "      <td>4.00</td>\n",
       "      <td>3,992</td>\n",
       "      <td>4.41</td>\n",
       "      <td>https://www.beeradvocate.com/beer/profile/590/...</td>\n",
       "      <td>[\"TedHead from Illinois4.85/5\\xa0\\xa0rDev +10%...</td>\n",
       "    </tr>\n",
       "    <tr>\n",
       "      <th>3</th>\n",
       "      <td>Fruit and Field</td>\n",
       "      <td>Summer Shandy</td>\n",
       "      <td>Jacob Leinenkugel Brewing Company</td>\n",
       "      <td>4.20</td>\n",
       "      <td>3,841</td>\n",
       "      <td>3.20</td>\n",
       "      <td>https://www.beeradvocate.com/beer/profile/710/...</td>\n",
       "      <td>['AlCaponeJunior from Texas2.79/5\\xa0\\xa0rDev ...</td>\n",
       "    </tr>\n",
       "    <tr>\n",
       "      <th>4</th>\n",
       "      <td>Fruit and Field</td>\n",
       "      <td>Rübæus</td>\n",
       "      <td>Founders Brewing Company</td>\n",
       "      <td>5.70</td>\n",
       "      <td>3,799</td>\n",
       "      <td>3.91</td>\n",
       "      <td>https://www.beeradvocate.com/beer/profile/1199...</td>\n",
       "      <td>['TomQBigBeerGuy from Michigan3.88/5\\xa0\\xa0rD...</td>\n",
       "    </tr>\n",
       "    <tr>\n",
       "      <th>...</th>\n",
       "      <td>...</td>\n",
       "      <td>...</td>\n",
       "      <td>...</td>\n",
       "      <td>...</td>\n",
       "      <td>...</td>\n",
       "      <td>...</td>\n",
       "      <td>...</td>\n",
       "      <td>...</td>\n",
       "    </tr>\n",
       "    <tr>\n",
       "      <th>5651</th>\n",
       "      <td>Fruit and Field</td>\n",
       "      <td>Carney Juice</td>\n",
       "      <td>Independent Republic Brewing Co.</td>\n",
       "      <td>4.00</td>\n",
       "      <td>1</td>\n",
       "      <td>4.00</td>\n",
       "      <td>https://www.beeradvocate.com/beer/profile/5671...</td>\n",
       "      <td>['PaleAleWalt from New York4/5\\xa0\\xa0rDev 0%l...</td>\n",
       "    </tr>\n",
       "    <tr>\n",
       "      <th>5652</th>\n",
       "      <td>Fruit and Field</td>\n",
       "      <td>Cherry Ace</td>\n",
       "      <td>The Blue Elephant Craft Brew House</td>\n",
       "      <td>4.80</td>\n",
       "      <td>1</td>\n",
       "      <td>3.31</td>\n",
       "      <td>https://www.beeradvocate.com/beer/profile/3446...</td>\n",
       "      <td>['KrisDLSmith from Canada (ON)3.31/5\\xa0\\xa0rD...</td>\n",
       "    </tr>\n",
       "    <tr>\n",
       "      <th>5653</th>\n",
       "      <td>Fruit and Field</td>\n",
       "      <td>Cherry Stout</td>\n",
       "      <td>Cottontown Brew Lab</td>\n",
       "      <td>?</td>\n",
       "      <td>1</td>\n",
       "      <td>3.41</td>\n",
       "      <td>https://www.beeradvocate.com/beer/profile/5210...</td>\n",
       "      <td>['RochefortChris from North Carolina3.41/5\\xa0...</td>\n",
       "    </tr>\n",
       "    <tr>\n",
       "      <th>5863</th>\n",
       "      <td>Fruit and Field</td>\n",
       "      <td>Cherry &amp; Blackcurrant Wheat</td>\n",
       "      <td>Finkel &amp; Garf Brewing Company</td>\n",
       "      <td>4.80</td>\n",
       "      <td>0</td>\n",
       "      <td>0.00</td>\n",
       "      <td>https://www.beeradvocate.com/beer/profile/3846...</td>\n",
       "      <td>['KT3418 from Colorado3/5\\xa0\\xa0rDev 0%look: ...</td>\n",
       "    </tr>\n",
       "    <tr>\n",
       "      <th>6658</th>\n",
       "      <td>Fruit and Field</td>\n",
       "      <td>Rosie Cheeks</td>\n",
       "      <td>Forbidden Root - Chicago</td>\n",
       "      <td>5.00</td>\n",
       "      <td>0</td>\n",
       "      <td>0.00</td>\n",
       "      <td>https://www.beeradvocate.com/beer/profile/3514...</td>\n",
       "      <td>['Chuckdiesel24 from Illinois4.13/5\\xa0\\xa0rDe...</td>\n",
       "    </tr>\n",
       "  </tbody>\n",
       "</table>\n",
       "<p>5545 rows × 8 columns</p>\n",
       "</div>"
      ],
      "text/plain": [
       "           beer_style                    beer_name  \\\n",
       "0     Fruit and Field                           #9   \n",
       "1     Fruit and Field    Samuel Adams Cherry Wheat   \n",
       "2     Fruit and Field               Raspberry Tart   \n",
       "3     Fruit and Field                Summer Shandy   \n",
       "4     Fruit and Field                       Rübæus   \n",
       "...               ...                          ...   \n",
       "5651  Fruit and Field                 Carney Juice   \n",
       "5652  Fruit and Field                   Cherry Ace   \n",
       "5653  Fruit and Field                 Cherry Stout   \n",
       "5863  Fruit and Field  Cherry & Blackcurrant Wheat   \n",
       "6658  Fruit and Field                 Rosie Cheeks   \n",
       "\n",
       "                            brewery_name   abv no_ratings  avg_rating  \\\n",
       "0              Magic Hat Brewing Company  5.10      5,915        3.42   \n",
       "1     Boston Beer Company (Samuel Adams)  5.30      4,029        3.19   \n",
       "2             New Glarus Brewing Company  4.00      3,992        4.41   \n",
       "3      Jacob Leinenkugel Brewing Company  4.20      3,841        3.20   \n",
       "4               Founders Brewing Company  5.70      3,799        3.91   \n",
       "...                                  ...   ...        ...         ...   \n",
       "5651    Independent Republic Brewing Co.  4.00          1        4.00   \n",
       "5652  The Blue Elephant Craft Brew House  4.80          1        3.31   \n",
       "5653                 Cottontown Brew Lab     ?          1        3.41   \n",
       "5863       Finkel & Garf Brewing Company  4.80          0        0.00   \n",
       "6658            Forbidden Root - Chicago  5.00          0        0.00   \n",
       "\n",
       "                                                    url  \\\n",
       "0     https://www.beeradvocate.com/beer/profile/96/299/   \n",
       "1     https://www.beeradvocate.com/beer/profile/35/108/   \n",
       "2     https://www.beeradvocate.com/beer/profile/590/...   \n",
       "3     https://www.beeradvocate.com/beer/profile/710/...   \n",
       "4     https://www.beeradvocate.com/beer/profile/1199...   \n",
       "...                                                 ...   \n",
       "5651  https://www.beeradvocate.com/beer/profile/5671...   \n",
       "5652  https://www.beeradvocate.com/beer/profile/3446...   \n",
       "5653  https://www.beeradvocate.com/beer/profile/5210...   \n",
       "5863  https://www.beeradvocate.com/beer/profile/3846...   \n",
       "6658  https://www.beeradvocate.com/beer/profile/3514...   \n",
       "\n",
       "                                                 review  \n",
       "0     [\"Elemental19xx from Illinois3.6/5\\xa0\\xa0rDev...  \n",
       "1     ['BergBeer from Virginia1.15/5\\xa0\\xa0rDev -63...  \n",
       "2     [\"TedHead from Illinois4.85/5\\xa0\\xa0rDev +10%...  \n",
       "3     ['AlCaponeJunior from Texas2.79/5\\xa0\\xa0rDev ...  \n",
       "4     ['TomQBigBeerGuy from Michigan3.88/5\\xa0\\xa0rD...  \n",
       "...                                                 ...  \n",
       "5651  ['PaleAleWalt from New York4/5\\xa0\\xa0rDev 0%l...  \n",
       "5652  ['KrisDLSmith from Canada (ON)3.31/5\\xa0\\xa0rD...  \n",
       "5653  ['RochefortChris from North Carolina3.41/5\\xa0...  \n",
       "5863  ['KT3418 from Colorado3/5\\xa0\\xa0rDev 0%look: ...  \n",
       "6658  ['Chuckdiesel24 from Illinois4.13/5\\xa0\\xa0rDe...  \n",
       "\n",
       "[5545 rows x 8 columns]"
      ]
     },
     "execution_count": 9,
     "metadata": {},
     "output_type": "execute_result"
    }
   ],
   "source": [
    "beer_df"
   ]
  },
  {
   "cell_type": "code",
   "execution_count": 10,
   "metadata": {},
   "outputs": [
    {
     "data": {
      "text/html": [
       "<div>\n",
       "<style scoped>\n",
       "    .dataframe tbody tr th:only-of-type {\n",
       "        vertical-align: middle;\n",
       "    }\n",
       "\n",
       "    .dataframe tbody tr th {\n",
       "        vertical-align: top;\n",
       "    }\n",
       "\n",
       "    .dataframe thead th {\n",
       "        text-align: right;\n",
       "    }\n",
       "</style>\n",
       "<table border=\"1\" class=\"dataframe\">\n",
       "  <thead>\n",
       "    <tr style=\"text-align: right;\">\n",
       "      <th></th>\n",
       "      <th>beer_style</th>\n",
       "      <th>beer_name</th>\n",
       "      <th>brewery_name</th>\n",
       "      <th>abv</th>\n",
       "      <th>no_ratings</th>\n",
       "      <th>avg_rating</th>\n",
       "      <th>url</th>\n",
       "      <th>review</th>\n",
       "    </tr>\n",
       "  </thead>\n",
       "  <tbody>\n",
       "  </tbody>\n",
       "</table>\n",
       "</div>"
      ],
      "text/plain": [
       "Empty DataFrame\n",
       "Columns: [beer_style, beer_name, brewery_name, abv, no_ratings, avg_rating, url, review]\n",
       "Index: []"
      ]
     },
     "execution_count": 10,
     "metadata": {},
     "output_type": "execute_result"
    }
   ],
   "source": [
    "#checking if there are any reviewed beers without ratings\n",
    "beer_df[beer_df['no_ratings'] == 0]"
   ]
  },
  {
   "cell_type": "code",
   "execution_count": 11,
   "metadata": {},
   "outputs": [],
   "source": [
    "#turn this column from str to float\n",
    "beer_df['no_ratings'] = beer_df['no_ratings'].str.replace(',', '').astype(float)"
   ]
  },
  {
   "cell_type": "code",
   "execution_count": 12,
   "metadata": {},
   "outputs": [],
   "source": [
    "empty_rating = beer_df[beer_df['no_ratings'] == 0]"
   ]
  },
  {
   "cell_type": "code",
   "execution_count": 13,
   "metadata": {},
   "outputs": [
    {
     "data": {
      "text/plain": [
       "numpy.float64"
      ]
     },
     "execution_count": 13,
     "metadata": {},
     "output_type": "execute_result"
    }
   ],
   "source": [
    "type(beer_df['no_ratings'][5])"
   ]
  },
  {
   "cell_type": "code",
   "execution_count": 14,
   "metadata": {},
   "outputs": [],
   "source": [
    "beer_df.drop(empty_rating.index, inplace = True)"
   ]
  },
  {
   "cell_type": "code",
   "execution_count": 15,
   "metadata": {},
   "outputs": [
    {
     "data": {
      "text/html": [
       "<div>\n",
       "<style scoped>\n",
       "    .dataframe tbody tr th:only-of-type {\n",
       "        vertical-align: middle;\n",
       "    }\n",
       "\n",
       "    .dataframe tbody tr th {\n",
       "        vertical-align: top;\n",
       "    }\n",
       "\n",
       "    .dataframe thead th {\n",
       "        text-align: right;\n",
       "    }\n",
       "</style>\n",
       "<table border=\"1\" class=\"dataframe\">\n",
       "  <thead>\n",
       "    <tr style=\"text-align: right;\">\n",
       "      <th></th>\n",
       "      <th>beer_style</th>\n",
       "      <th>beer_name</th>\n",
       "      <th>brewery_name</th>\n",
       "      <th>abv</th>\n",
       "      <th>no_ratings</th>\n",
       "      <th>avg_rating</th>\n",
       "      <th>url</th>\n",
       "      <th>review</th>\n",
       "    </tr>\n",
       "  </thead>\n",
       "  <tbody>\n",
       "    <tr>\n",
       "      <th>0</th>\n",
       "      <td>Fruit and Field</td>\n",
       "      <td>#9</td>\n",
       "      <td>Magic Hat Brewing Company</td>\n",
       "      <td>5.10</td>\n",
       "      <td>5915.0</td>\n",
       "      <td>3.42</td>\n",
       "      <td>https://www.beeradvocate.com/beer/profile/96/299/</td>\n",
       "      <td>[\"Elemental19xx from Illinois3.6/5\\xa0\\xa0rDev...</td>\n",
       "    </tr>\n",
       "    <tr>\n",
       "      <th>1</th>\n",
       "      <td>Fruit and Field</td>\n",
       "      <td>Samuel Adams Cherry Wheat</td>\n",
       "      <td>Boston Beer Company (Samuel Adams)</td>\n",
       "      <td>5.30</td>\n",
       "      <td>4029.0</td>\n",
       "      <td>3.19</td>\n",
       "      <td>https://www.beeradvocate.com/beer/profile/35/108/</td>\n",
       "      <td>['BergBeer from Virginia1.15/5\\xa0\\xa0rDev -63...</td>\n",
       "    </tr>\n",
       "    <tr>\n",
       "      <th>2</th>\n",
       "      <td>Fruit and Field</td>\n",
       "      <td>Raspberry Tart</td>\n",
       "      <td>New Glarus Brewing Company</td>\n",
       "      <td>4.00</td>\n",
       "      <td>3992.0</td>\n",
       "      <td>4.41</td>\n",
       "      <td>https://www.beeradvocate.com/beer/profile/590/...</td>\n",
       "      <td>[\"TedHead from Illinois4.85/5\\xa0\\xa0rDev +10%...</td>\n",
       "    </tr>\n",
       "    <tr>\n",
       "      <th>3</th>\n",
       "      <td>Fruit and Field</td>\n",
       "      <td>Summer Shandy</td>\n",
       "      <td>Jacob Leinenkugel Brewing Company</td>\n",
       "      <td>4.20</td>\n",
       "      <td>3841.0</td>\n",
       "      <td>3.20</td>\n",
       "      <td>https://www.beeradvocate.com/beer/profile/710/...</td>\n",
       "      <td>['AlCaponeJunior from Texas2.79/5\\xa0\\xa0rDev ...</td>\n",
       "    </tr>\n",
       "    <tr>\n",
       "      <th>4</th>\n",
       "      <td>Fruit and Field</td>\n",
       "      <td>Rübæus</td>\n",
       "      <td>Founders Brewing Company</td>\n",
       "      <td>5.70</td>\n",
       "      <td>3799.0</td>\n",
       "      <td>3.91</td>\n",
       "      <td>https://www.beeradvocate.com/beer/profile/1199...</td>\n",
       "      <td>['TomQBigBeerGuy from Michigan3.88/5\\xa0\\xa0rD...</td>\n",
       "    </tr>\n",
       "    <tr>\n",
       "      <th>...</th>\n",
       "      <td>...</td>\n",
       "      <td>...</td>\n",
       "      <td>...</td>\n",
       "      <td>...</td>\n",
       "      <td>...</td>\n",
       "      <td>...</td>\n",
       "      <td>...</td>\n",
       "      <td>...</td>\n",
       "    </tr>\n",
       "    <tr>\n",
       "      <th>5649</th>\n",
       "      <td>Fruit and Field</td>\n",
       "      <td>Meggyes Favágó</td>\n",
       "      <td>Békésszentandrási Serfőzde (Agro Flott Bt.)</td>\n",
       "      <td>5.00</td>\n",
       "      <td>1.0</td>\n",
       "      <td>3.74</td>\n",
       "      <td>https://www.beeradvocate.com/beer/profile/3293...</td>\n",
       "      <td>['joaopmgoncalves from Portugal3.74/5\\xa0\\xa0r...</td>\n",
       "    </tr>\n",
       "    <tr>\n",
       "      <th>5650</th>\n",
       "      <td>Fruit and Field</td>\n",
       "      <td>Skully</td>\n",
       "      <td>Rhinegeist Brewery</td>\n",
       "      <td>7.80</td>\n",
       "      <td>1.0</td>\n",
       "      <td>3.67</td>\n",
       "      <td>https://www.beeradvocate.com/beer/profile/3199...</td>\n",
       "      <td>['West_Chester_Ale_Tester from Ohio3.67/5\\xa0\\...</td>\n",
       "    </tr>\n",
       "    <tr>\n",
       "      <th>5651</th>\n",
       "      <td>Fruit and Field</td>\n",
       "      <td>Carney Juice</td>\n",
       "      <td>Independent Republic Brewing Co.</td>\n",
       "      <td>4.00</td>\n",
       "      <td>1.0</td>\n",
       "      <td>4.00</td>\n",
       "      <td>https://www.beeradvocate.com/beer/profile/5671...</td>\n",
       "      <td>['PaleAleWalt from New York4/5\\xa0\\xa0rDev 0%l...</td>\n",
       "    </tr>\n",
       "    <tr>\n",
       "      <th>5652</th>\n",
       "      <td>Fruit and Field</td>\n",
       "      <td>Cherry Ace</td>\n",
       "      <td>The Blue Elephant Craft Brew House</td>\n",
       "      <td>4.80</td>\n",
       "      <td>1.0</td>\n",
       "      <td>3.31</td>\n",
       "      <td>https://www.beeradvocate.com/beer/profile/3446...</td>\n",
       "      <td>['KrisDLSmith from Canada (ON)3.31/5\\xa0\\xa0rD...</td>\n",
       "    </tr>\n",
       "    <tr>\n",
       "      <th>5653</th>\n",
       "      <td>Fruit and Field</td>\n",
       "      <td>Cherry Stout</td>\n",
       "      <td>Cottontown Brew Lab</td>\n",
       "      <td>?</td>\n",
       "      <td>1.0</td>\n",
       "      <td>3.41</td>\n",
       "      <td>https://www.beeradvocate.com/beer/profile/5210...</td>\n",
       "      <td>['RochefortChris from North Carolina3.41/5\\xa0...</td>\n",
       "    </tr>\n",
       "  </tbody>\n",
       "</table>\n",
       "<p>5543 rows × 8 columns</p>\n",
       "</div>"
      ],
      "text/plain": [
       "           beer_style                  beer_name  \\\n",
       "0     Fruit and Field                         #9   \n",
       "1     Fruit and Field  Samuel Adams Cherry Wheat   \n",
       "2     Fruit and Field             Raspberry Tart   \n",
       "3     Fruit and Field              Summer Shandy   \n",
       "4     Fruit and Field                     Rübæus   \n",
       "...               ...                        ...   \n",
       "5649  Fruit and Field             Meggyes Favágó   \n",
       "5650  Fruit and Field                     Skully   \n",
       "5651  Fruit and Field               Carney Juice   \n",
       "5652  Fruit and Field                 Cherry Ace   \n",
       "5653  Fruit and Field               Cherry Stout   \n",
       "\n",
       "                                     brewery_name   abv  no_ratings  \\\n",
       "0                       Magic Hat Brewing Company  5.10      5915.0   \n",
       "1              Boston Beer Company (Samuel Adams)  5.30      4029.0   \n",
       "2                      New Glarus Brewing Company  4.00      3992.0   \n",
       "3               Jacob Leinenkugel Brewing Company  4.20      3841.0   \n",
       "4                        Founders Brewing Company  5.70      3799.0   \n",
       "...                                           ...   ...         ...   \n",
       "5649  Békésszentandrási Serfőzde (Agro Flott Bt.)  5.00         1.0   \n",
       "5650                           Rhinegeist Brewery  7.80         1.0   \n",
       "5651             Independent Republic Brewing Co.  4.00         1.0   \n",
       "5652           The Blue Elephant Craft Brew House  4.80         1.0   \n",
       "5653                          Cottontown Brew Lab     ?         1.0   \n",
       "\n",
       "      avg_rating                                                url  \\\n",
       "0           3.42  https://www.beeradvocate.com/beer/profile/96/299/   \n",
       "1           3.19  https://www.beeradvocate.com/beer/profile/35/108/   \n",
       "2           4.41  https://www.beeradvocate.com/beer/profile/590/...   \n",
       "3           3.20  https://www.beeradvocate.com/beer/profile/710/...   \n",
       "4           3.91  https://www.beeradvocate.com/beer/profile/1199...   \n",
       "...          ...                                                ...   \n",
       "5649        3.74  https://www.beeradvocate.com/beer/profile/3293...   \n",
       "5650        3.67  https://www.beeradvocate.com/beer/profile/3199...   \n",
       "5651        4.00  https://www.beeradvocate.com/beer/profile/5671...   \n",
       "5652        3.31  https://www.beeradvocate.com/beer/profile/3446...   \n",
       "5653        3.41  https://www.beeradvocate.com/beer/profile/5210...   \n",
       "\n",
       "                                                 review  \n",
       "0     [\"Elemental19xx from Illinois3.6/5\\xa0\\xa0rDev...  \n",
       "1     ['BergBeer from Virginia1.15/5\\xa0\\xa0rDev -63...  \n",
       "2     [\"TedHead from Illinois4.85/5\\xa0\\xa0rDev +10%...  \n",
       "3     ['AlCaponeJunior from Texas2.79/5\\xa0\\xa0rDev ...  \n",
       "4     ['TomQBigBeerGuy from Michigan3.88/5\\xa0\\xa0rD...  \n",
       "...                                                 ...  \n",
       "5649  ['joaopmgoncalves from Portugal3.74/5\\xa0\\xa0r...  \n",
       "5650  ['West_Chester_Ale_Tester from Ohio3.67/5\\xa0\\...  \n",
       "5651  ['PaleAleWalt from New York4/5\\xa0\\xa0rDev 0%l...  \n",
       "5652  ['KrisDLSmith from Canada (ON)3.31/5\\xa0\\xa0rD...  \n",
       "5653  ['RochefortChris from North Carolina3.41/5\\xa0...  \n",
       "\n",
       "[5543 rows x 8 columns]"
      ]
     },
     "execution_count": 15,
     "metadata": {},
     "output_type": "execute_result"
    }
   ],
   "source": [
    "beer_df"
   ]
  },
  {
   "cell_type": "code",
   "execution_count": null,
   "metadata": {},
   "outputs": [],
   "source": [
    "'@[^\\s]+'  code for regex cleaning of data"
   ]
  },
  {
   "cell_type": "markdown",
   "metadata": {},
   "source": [
    "### Cleaning the Reviews w/ Stopwords"
   ]
  },
  {
   "cell_type": "code",
   "execution_count": 111,
   "metadata": {},
   "outputs": [],
   "source": [
    "stop_words = stopwords.words('english')\n",
    "stop_words.extend(['look', 'smell', 'taste', 'feel', 'overall', 'rdev', 'beer', 'beers','nice','adams', 'jan', 'feb', 'mar',\n",
    "                  'apr', 'may', 'jun', 'jul', 'aug', 'sep', 'oct', 'nov', 'dec', 'canada', 'north'])\n",
    "stop_words += string.punctuation\n",
    "\n"
   ]
  },
  {
   "cell_type": "code",
   "execution_count": 112,
   "metadata": {
    "collapsed": true
   },
   "outputs": [
    {
     "name": "stdout",
     "output_type": "stream",
     "text": [
      "['i', 'me', 'my', 'myself', 'we', 'our', 'ours', 'ourselves', 'you', \"you're\", \"you've\", \"you'll\", \"you'd\", 'your', 'yours', 'yourself', 'yourselves', 'he', 'him', 'his', 'himself', 'she', \"she's\", 'her', 'hers', 'herself', 'it', \"it's\", 'its', 'itself', 'they', 'them', 'their', 'theirs', 'themselves', 'what', 'which', 'who', 'whom', 'this', 'that', \"that'll\", 'these', 'those', 'am', 'is', 'are', 'was', 'were', 'be', 'been', 'being', 'have', 'has', 'had', 'having', 'do', 'does', 'did', 'doing', 'a', 'an', 'the', 'and', 'but', 'if', 'or', 'because', 'as', 'until', 'while', 'of', 'at', 'by', 'for', 'with', 'about', 'against', 'between', 'into', 'through', 'during', 'before', 'after', 'above', 'below', 'to', 'from', 'up', 'down', 'in', 'out', 'on', 'off', 'over', 'under', 'again', 'further', 'then', 'once', 'here', 'there', 'when', 'where', 'why', 'how', 'all', 'any', 'both', 'each', 'few', 'more', 'most', 'other', 'some', 'such', 'no', 'nor', 'not', 'only', 'own', 'same', 'so', 'than', 'too', 'very', 's', 't', 'can', 'will', 'just', 'don', \"don't\", 'should', \"should've\", 'now', 'd', 'll', 'm', 'o', 're', 've', 'y', 'ain', 'aren', \"aren't\", 'couldn', \"couldn't\", 'didn', \"didn't\", 'doesn', \"doesn't\", 'hadn', \"hadn't\", 'hasn', \"hasn't\", 'haven', \"haven't\", 'isn', \"isn't\", 'ma', 'mightn', \"mightn't\", 'mustn', \"mustn't\", 'needn', \"needn't\", 'shan', \"shan't\", 'shouldn', \"shouldn't\", 'wasn', \"wasn't\", 'weren', \"weren't\", 'won', \"won't\", 'wouldn', \"wouldn't\", 'look', 'smell', 'taste', 'feel', 'overall', 'rdev', 'beer', 'beers', 'nice', 'adams', 'jan', 'feb', 'mar', 'apr', 'may', 'jun', 'jul', 'aug', 'sep', 'oct', 'nov', 'dec', 'canada', 'north', '!', '\"', '#', '$', '%', '&', \"'\", '(', ')', '*', '+', ',', '-', '.', '/', ':', ';', '<', '=', '>', '?', '@', '[', '\\\\', ']', '^', '_', '`', '{', '|', '}', '~']\n"
     ]
    }
   ],
   "source": [
    "print(stop_words)"
   ]
  },
  {
   "cell_type": "code",
   "execution_count": 16,
   "metadata": {},
   "outputs": [],
   "source": [
    "lemmatizer = WordNetLemmatizer()"
   ]
  },
  {
   "cell_type": "code",
   "execution_count": 113,
   "metadata": {},
   "outputs": [],
   "source": [
    "# A function that will apply stop words, remove numbers, punctuation, and normalization to a body of text\n",
    "def pre_process_text(text):\n",
    "    stop = set(stopwords.words('english'))\n",
    "    exclude = set(string.punctuation)\n",
    "    lemma = WordNetLemmatizer()\n",
    "    def clean(doc):\n",
    "        if doc is not None:\n",
    "            stop_free = \" \".join([i for i in doc.lower().split() if i not in stop and i.isalpha()])\n",
    "            punc_free = ''.join(ch for ch in stop_free if ch not in exclude)\n",
    "            normalized = \" \".join(lemma.lemmatize(word) for word in punc_free.split())\n",
    "            return normalized\n",
    "        else:\n",
    "            pass\n",
    "    processed_text = clean(text)\n",
    "    if processed_text is not None:\n",
    "        return processed_text.split()"
   ]
  },
  {
   "cell_type": "code",
   "execution_count": 114,
   "metadata": {},
   "outputs": [],
   "source": [
    "#takes in a dataframe with a column with raw text and outputs a new column with pre-processed text\n",
    "def add_processed_text(df, output_column_name, column_to_target='review'):\n",
    "    df[output_column_name] = df.apply(lambda row: pre_process_text(row[column_to_target]), axis=1)"
   ]
  },
  {
   "cell_type": "code",
   "execution_count": 115,
   "metadata": {},
   "outputs": [],
   "source": [
    "def count_word_frequency(vectorizer, text):\n",
    "    try:\n",
    "        termFrequencyMatrix = vectorizer.fit_transform(text)\n",
    "        return termFrequencyMatrix\n",
    "    except:\n",
    "        print('Problem in count word freq')\n",
    "        print(traceback.format_exc())"
   ]
  },
  {
   "cell_type": "code",
   "execution_count": 116,
   "metadata": {},
   "outputs": [],
   "source": [
    "#runs a vectorizer over a row of the target column and if empty it will pass. Afterwards it will \n",
    "#generate a new column with the term frequency matrix\n",
    "def get_term_freq_matrices(vectorizer, df, target_column):\n",
    "    df['tf_matrix'] = df.apply(lambda row: count_word_frequency(vectorizer, row[target_column]) if\n",
    "    row[target_column] != None else None, axis=1)"
   ]
  },
  {
   "cell_type": "code",
   "execution_count": 117,
   "metadata": {},
   "outputs": [],
   "source": [
    "#runs the processor over the review column and creates a new one with the results\n",
    "add_processed_text(beer_df, 'clean_reviews', column_to_target='review')"
   ]
  },
  {
   "cell_type": "code",
   "execution_count": null,
   "metadata": {},
   "outputs": [],
   "source": [
    "tfidf = TfidfVectorizer()"
   ]
  },
  {
   "cell_type": "code",
   "execution_count": 173,
   "metadata": {},
   "outputs": [],
   "source": [
    "#runs the vectorizer over the df and column we just created with the processed text\n",
    "get_term_freq_matrices(tfidf, beer_df, 'clean_reviews')"
   ]
  },
  {
   "cell_type": "code",
   "execution_count": 119,
   "metadata": {},
   "outputs": [],
   "source": [
    "#creates a column that breaks the text out of a list and into a str\n",
    "beer_df['naked_reviews'] = beer_df.apply(lambda row: ' '.join(row['clean_reviews']), axis =1)"
   ]
  },
  {
   "cell_type": "code",
   "execution_count": 141,
   "metadata": {
    "scrolled": true
   },
   "outputs": [
    {
     "data": {
      "text/html": [
       "<div>\n",
       "<style scoped>\n",
       "    .dataframe tbody tr th:only-of-type {\n",
       "        vertical-align: middle;\n",
       "    }\n",
       "\n",
       "    .dataframe tbody tr th {\n",
       "        vertical-align: top;\n",
       "    }\n",
       "\n",
       "    .dataframe thead th {\n",
       "        text-align: right;\n",
       "    }\n",
       "</style>\n",
       "<table border=\"1\" class=\"dataframe\">\n",
       "  <thead>\n",
       "    <tr style=\"text-align: right;\">\n",
       "      <th></th>\n",
       "      <th>beer_style</th>\n",
       "      <th>beer_name</th>\n",
       "      <th>brewery_name</th>\n",
       "      <th>abv</th>\n",
       "      <th>no_ratings</th>\n",
       "      <th>avg_rating</th>\n",
       "      <th>url</th>\n",
       "      <th>review</th>\n",
       "      <th>clean_reviews</th>\n",
       "      <th>tf_matrix</th>\n",
       "      <th>naked_reviews</th>\n",
       "      <th>tf_array</th>\n",
       "    </tr>\n",
       "  </thead>\n",
       "  <tbody>\n",
       "    <tr>\n",
       "      <th>0</th>\n",
       "      <td>Fruit and Field</td>\n",
       "      <td>#9</td>\n",
       "      <td>Magic Hat Brewing Company</td>\n",
       "      <td>5.10</td>\n",
       "      <td>5915.0</td>\n",
       "      <td>3.42</td>\n",
       "      <td>https://www.beeradvocate.com/beer/profile/96/299/</td>\n",
       "      <td>[\"Elemental19xx from Illinois3.6/5\\xa0\\xa0rDev...</td>\n",
       "      <td>[pours, little, cloudy, little, small, smell, ...</td>\n",
       "      <td>(0, 276)\\t1.0\\n  (1, 213)\\t1.0\\n  (2, 63)\\t1...</td>\n",
       "      <td>pours little cloudy little small smell like fr...</td>\n",
       "      <td>[[0.0, 0.0, 0.0, 0.0, 0.0, 0.0, 0.0, 0.0, 0.0,...</td>\n",
       "    </tr>\n",
       "    <tr>\n",
       "      <th>1</th>\n",
       "      <td>Fruit and Field</td>\n",
       "      <td>Samuel Adams Cherry Wheat</td>\n",
       "      <td>Boston Beer Company (Samuel Adams)</td>\n",
       "      <td>5.30</td>\n",
       "      <td>4029.0</td>\n",
       "      <td>3.19</td>\n",
       "      <td>https://www.beeradvocate.com/beer/profile/35/108/</td>\n",
       "      <td>['BergBeer from Virginia1.15/5\\xa0\\xa0rDev -63...</td>\n",
       "      <td>[bottle, shaker, pint, hazy, copper, thick, wh...</td>\n",
       "      <td>(0, 44)\\t1.0\\n  (1, 324)\\t1.0\\n  (2, 279)\\t1...</td>\n",
       "      <td>bottle shaker pint hazy copper thick white che...</td>\n",
       "      <td>[[0.0, 0.0, 0.0, 0.0, 0.0, 0.0, 0.0, 0.0, 0.0,...</td>\n",
       "    </tr>\n",
       "    <tr>\n",
       "      <th>2</th>\n",
       "      <td>Fruit and Field</td>\n",
       "      <td>Raspberry Tart</td>\n",
       "      <td>New Glarus Brewing Company</td>\n",
       "      <td>4.00</td>\n",
       "      <td>3992.0</td>\n",
       "      <td>4.41</td>\n",
       "      <td>https://www.beeradvocate.com/beer/profile/590/...</td>\n",
       "      <td>[\"TedHead from Illinois4.85/5\\xa0\\xa0rDev +10%...</td>\n",
       "      <td>[beautiful, ruby, red, head, dissipates, smell...</td>\n",
       "      <td>(0, 37)\\t1.0\\n  (1, 435)\\t1.0\\n  (2, 416)\\t1...</td>\n",
       "      <td>beautiful ruby red head dissipates smell inten...</td>\n",
       "      <td>[[0.0, 0.0, 0.0, 0.0, 0.0, 0.0, 0.0, 0.0, 0.0,...</td>\n",
       "    </tr>\n",
       "    <tr>\n",
       "      <th>3</th>\n",
       "      <td>Fruit and Field</td>\n",
       "      <td>Summer Shandy</td>\n",
       "      <td>Jacob Leinenkugel Brewing Company</td>\n",
       "      <td>4.20</td>\n",
       "      <td>3841.0</td>\n",
       "      <td>3.20</td>\n",
       "      <td>https://www.beeradvocate.com/beer/profile/710/...</td>\n",
       "      <td>['AlCaponeJunior from Texas2.79/5\\xa0\\xa0rDev ...</td>\n",
       "      <td>[one, favorite, summer, beer, smell, taste, bi...</td>\n",
       "      <td>(0, 347)\\t1.0\\n  (1, 176)\\t1.0\\n  (2, 484)\\t...</td>\n",
       "      <td>one favorite summer beer smell taste bit like ...</td>\n",
       "      <td>[[0.0, 0.0, 0.0, 0.0, 0.0, 0.0, 0.0, 0.0, 0.0,...</td>\n",
       "    </tr>\n",
       "    <tr>\n",
       "      <th>4</th>\n",
       "      <td>Fruit and Field</td>\n",
       "      <td>Rübæus</td>\n",
       "      <td>Founders Brewing Company</td>\n",
       "      <td>5.70</td>\n",
       "      <td>3799.0</td>\n",
       "      <td>3.91</td>\n",
       "      <td>https://www.beeradvocate.com/beer/profile/1199...</td>\n",
       "      <td>['TomQBigBeerGuy from Michigan3.88/5\\xa0\\xa0rD...</td>\n",
       "      <td>[pour, pink, raspberry, impressive, white, hea...</td>\n",
       "      <td>(0, 299)\\t1.0\\n  (1, 293)\\t1.0\\n  (2, 312)\\t...</td>\n",
       "      <td>pour pink raspberry impressive white head ligh...</td>\n",
       "      <td>[[0.0, 0.0, 0.0, 0.0, 0.0, 0.0, 0.0, 0.0, 0.0,...</td>\n",
       "    </tr>\n",
       "    <tr>\n",
       "      <th>...</th>\n",
       "      <td>...</td>\n",
       "      <td>...</td>\n",
       "      <td>...</td>\n",
       "      <td>...</td>\n",
       "      <td>...</td>\n",
       "      <td>...</td>\n",
       "      <td>...</td>\n",
       "      <td>...</td>\n",
       "      <td>...</td>\n",
       "      <td>...</td>\n",
       "      <td>...</td>\n",
       "      <td>...</td>\n",
       "    </tr>\n",
       "    <tr>\n",
       "      <th>5639</th>\n",
       "      <td>Fruit and Field</td>\n",
       "      <td>Mos'ka Garnatxa Beer</td>\n",
       "      <td>Cerveseria Birrart</td>\n",
       "      <td>6.00</td>\n",
       "      <td>1.0</td>\n",
       "      <td>3.67</td>\n",
       "      <td>https://www.beeradvocate.com/beer/profile/1953...</td>\n",
       "      <td>['GONZALOYANNA from Spain3.67/5\\xa0\\xa0rDev 0%...</td>\n",
       "      <td>[timmermans, flute, enjoyed, reddish, amber, f...</td>\n",
       "      <td>(0, 50)\\t1.0\\n  (1, 13)\\t1.0\\n  (2, 8)\\t1.0\\...</td>\n",
       "      <td>timmermans flute enjoyed reddish amber foggy f...</td>\n",
       "      <td>[[0.0, 0.0, 0.0, 0.0, 0.0, 0.0, 0.0, 0.0, 0.0,...</td>\n",
       "    </tr>\n",
       "    <tr>\n",
       "      <th>5648</th>\n",
       "      <td>Fruit and Field</td>\n",
       "      <td>Rainier Raspberry Wheat</td>\n",
       "      <td>Harmon Restaurant &amp; Brewery</td>\n",
       "      <td>?</td>\n",
       "      <td>1.0</td>\n",
       "      <td>2.60</td>\n",
       "      <td>https://www.beeradvocate.com/beer/profile/1386...</td>\n",
       "      <td>['barleywinefiend from Washington2.6/5\\xa0\\xa0...</td>\n",
       "      <td>[poured, cloudy, straw, color, almost, head, w...</td>\n",
       "      <td>(0, 8)\\t1.0\\n  (1, 1)\\t1.0\\n  (2, 11)\\t1.0\\n...</td>\n",
       "      <td>poured cloudy straw color almost head white ma...</td>\n",
       "      <td>[[0.0, 0.0, 0.0, 0.0, 0.0, 0.0, 0.0, 1.0, 0.0,...</td>\n",
       "    </tr>\n",
       "    <tr>\n",
       "      <th>5651</th>\n",
       "      <td>Fruit and Field</td>\n",
       "      <td>Carney Juice</td>\n",
       "      <td>Independent Republic Brewing Co.</td>\n",
       "      <td>4.00</td>\n",
       "      <td>1.0</td>\n",
       "      <td>4.00</td>\n",
       "      <td>https://www.beeradvocate.com/beer/profile/5671...</td>\n",
       "      <td>['PaleAleWalt from New York4/5\\xa0\\xa0rDev 0%l...</td>\n",
       "      <td>[new, shandy, hint]</td>\n",
       "      <td>(0, 1)\\t1.0\\n  (1, 2)\\t1.0\\n  (2, 0)\\t1.0</td>\n",
       "      <td>new shandy hint</td>\n",
       "      <td>[[0.0, 0.0, 0.0, 0.0, 0.0, 0.0, 0.0, 0.0, 1.0,...</td>\n",
       "    </tr>\n",
       "    <tr>\n",
       "      <th>5652</th>\n",
       "      <td>Fruit and Field</td>\n",
       "      <td>Cherry Ace</td>\n",
       "      <td>The Blue Elephant Craft Brew House</td>\n",
       "      <td>4.80</td>\n",
       "      <td>1.0</td>\n",
       "      <td>3.31</td>\n",
       "      <td>https://www.beeradvocate.com/beer/profile/3446...</td>\n",
       "      <td>['KrisDLSmith from Canada (ON)3.31/5\\xa0\\xa0rD...</td>\n",
       "      <td>[canada]</td>\n",
       "      <td>(0, 0)\\t1.0</td>\n",
       "      <td>canada</td>\n",
       "      <td>[[0.0, 0.0, 0.0, 0.0, 0.0, 0.0, 0.0, 0.0, 1.0,...</td>\n",
       "    </tr>\n",
       "    <tr>\n",
       "      <th>5653</th>\n",
       "      <td>Fruit and Field</td>\n",
       "      <td>Cherry Stout</td>\n",
       "      <td>Cottontown Brew Lab</td>\n",
       "      <td>?</td>\n",
       "      <td>1.0</td>\n",
       "      <td>3.41</td>\n",
       "      <td>https://www.beeradvocate.com/beer/profile/5210...</td>\n",
       "      <td>['RochefortChris from North Carolina3.41/5\\xa0...</td>\n",
       "      <td>[north]</td>\n",
       "      <td>(0, 0)\\t1.0</td>\n",
       "      <td>north</td>\n",
       "      <td>[[0.0, 0.0, 0.0, 0.0, 0.0, 0.0, 0.0, 0.0, 0.0,...</td>\n",
       "    </tr>\n",
       "  </tbody>\n",
       "</table>\n",
       "<p>4077 rows × 12 columns</p>\n",
       "</div>"
      ],
      "text/plain": [
       "           beer_style                  beer_name  \\\n",
       "0     Fruit and Field                         #9   \n",
       "1     Fruit and Field  Samuel Adams Cherry Wheat   \n",
       "2     Fruit and Field             Raspberry Tart   \n",
       "3     Fruit and Field              Summer Shandy   \n",
       "4     Fruit and Field                     Rübæus   \n",
       "...               ...                        ...   \n",
       "5639  Fruit and Field       Mos'ka Garnatxa Beer   \n",
       "5648  Fruit and Field    Rainier Raspberry Wheat   \n",
       "5651  Fruit and Field               Carney Juice   \n",
       "5652  Fruit and Field                 Cherry Ace   \n",
       "5653  Fruit and Field               Cherry Stout   \n",
       "\n",
       "                            brewery_name   abv  no_ratings  avg_rating  \\\n",
       "0              Magic Hat Brewing Company  5.10      5915.0        3.42   \n",
       "1     Boston Beer Company (Samuel Adams)  5.30      4029.0        3.19   \n",
       "2             New Glarus Brewing Company  4.00      3992.0        4.41   \n",
       "3      Jacob Leinenkugel Brewing Company  4.20      3841.0        3.20   \n",
       "4               Founders Brewing Company  5.70      3799.0        3.91   \n",
       "...                                  ...   ...         ...         ...   \n",
       "5639                  Cerveseria Birrart  6.00         1.0        3.67   \n",
       "5648         Harmon Restaurant & Brewery     ?         1.0        2.60   \n",
       "5651    Independent Republic Brewing Co.  4.00         1.0        4.00   \n",
       "5652  The Blue Elephant Craft Brew House  4.80         1.0        3.31   \n",
       "5653                 Cottontown Brew Lab     ?         1.0        3.41   \n",
       "\n",
       "                                                    url  \\\n",
       "0     https://www.beeradvocate.com/beer/profile/96/299/   \n",
       "1     https://www.beeradvocate.com/beer/profile/35/108/   \n",
       "2     https://www.beeradvocate.com/beer/profile/590/...   \n",
       "3     https://www.beeradvocate.com/beer/profile/710/...   \n",
       "4     https://www.beeradvocate.com/beer/profile/1199...   \n",
       "...                                                 ...   \n",
       "5639  https://www.beeradvocate.com/beer/profile/1953...   \n",
       "5648  https://www.beeradvocate.com/beer/profile/1386...   \n",
       "5651  https://www.beeradvocate.com/beer/profile/5671...   \n",
       "5652  https://www.beeradvocate.com/beer/profile/3446...   \n",
       "5653  https://www.beeradvocate.com/beer/profile/5210...   \n",
       "\n",
       "                                                 review  \\\n",
       "0     [\"Elemental19xx from Illinois3.6/5\\xa0\\xa0rDev...   \n",
       "1     ['BergBeer from Virginia1.15/5\\xa0\\xa0rDev -63...   \n",
       "2     [\"TedHead from Illinois4.85/5\\xa0\\xa0rDev +10%...   \n",
       "3     ['AlCaponeJunior from Texas2.79/5\\xa0\\xa0rDev ...   \n",
       "4     ['TomQBigBeerGuy from Michigan3.88/5\\xa0\\xa0rD...   \n",
       "...                                                 ...   \n",
       "5639  ['GONZALOYANNA from Spain3.67/5\\xa0\\xa0rDev 0%...   \n",
       "5648  ['barleywinefiend from Washington2.6/5\\xa0\\xa0...   \n",
       "5651  ['PaleAleWalt from New York4/5\\xa0\\xa0rDev 0%l...   \n",
       "5652  ['KrisDLSmith from Canada (ON)3.31/5\\xa0\\xa0rD...   \n",
       "5653  ['RochefortChris from North Carolina3.41/5\\xa0...   \n",
       "\n",
       "                                          clean_reviews  \\\n",
       "0     [pours, little, cloudy, little, small, smell, ...   \n",
       "1     [bottle, shaker, pint, hazy, copper, thick, wh...   \n",
       "2     [beautiful, ruby, red, head, dissipates, smell...   \n",
       "3     [one, favorite, summer, beer, smell, taste, bi...   \n",
       "4     [pour, pink, raspberry, impressive, white, hea...   \n",
       "...                                                 ...   \n",
       "5639  [timmermans, flute, enjoyed, reddish, amber, f...   \n",
       "5648  [poured, cloudy, straw, color, almost, head, w...   \n",
       "5651                                [new, shandy, hint]   \n",
       "5652                                           [canada]   \n",
       "5653                                            [north]   \n",
       "\n",
       "                                              tf_matrix  \\\n",
       "0       (0, 276)\\t1.0\\n  (1, 213)\\t1.0\\n  (2, 63)\\t1...   \n",
       "1       (0, 44)\\t1.0\\n  (1, 324)\\t1.0\\n  (2, 279)\\t1...   \n",
       "2       (0, 37)\\t1.0\\n  (1, 435)\\t1.0\\n  (2, 416)\\t1...   \n",
       "3       (0, 347)\\t1.0\\n  (1, 176)\\t1.0\\n  (2, 484)\\t...   \n",
       "4       (0, 299)\\t1.0\\n  (1, 293)\\t1.0\\n  (2, 312)\\t...   \n",
       "...                                                 ...   \n",
       "5639    (0, 50)\\t1.0\\n  (1, 13)\\t1.0\\n  (2, 8)\\t1.0\\...   \n",
       "5648    (0, 8)\\t1.0\\n  (1, 1)\\t1.0\\n  (2, 11)\\t1.0\\n...   \n",
       "5651          (0, 1)\\t1.0\\n  (1, 2)\\t1.0\\n  (2, 0)\\t1.0   \n",
       "5652                                        (0, 0)\\t1.0   \n",
       "5653                                        (0, 0)\\t1.0   \n",
       "\n",
       "                                          naked_reviews  \\\n",
       "0     pours little cloudy little small smell like fr...   \n",
       "1     bottle shaker pint hazy copper thick white che...   \n",
       "2     beautiful ruby red head dissipates smell inten...   \n",
       "3     one favorite summer beer smell taste bit like ...   \n",
       "4     pour pink raspberry impressive white head ligh...   \n",
       "...                                                 ...   \n",
       "5639  timmermans flute enjoyed reddish amber foggy f...   \n",
       "5648  poured cloudy straw color almost head white ma...   \n",
       "5651                                    new shandy hint   \n",
       "5652                                             canada   \n",
       "5653                                              north   \n",
       "\n",
       "                                               tf_array  \n",
       "0     [[0.0, 0.0, 0.0, 0.0, 0.0, 0.0, 0.0, 0.0, 0.0,...  \n",
       "1     [[0.0, 0.0, 0.0, 0.0, 0.0, 0.0, 0.0, 0.0, 0.0,...  \n",
       "2     [[0.0, 0.0, 0.0, 0.0, 0.0, 0.0, 0.0, 0.0, 0.0,...  \n",
       "3     [[0.0, 0.0, 0.0, 0.0, 0.0, 0.0, 0.0, 0.0, 0.0,...  \n",
       "4     [[0.0, 0.0, 0.0, 0.0, 0.0, 0.0, 0.0, 0.0, 0.0,...  \n",
       "...                                                 ...  \n",
       "5639  [[0.0, 0.0, 0.0, 0.0, 0.0, 0.0, 0.0, 0.0, 0.0,...  \n",
       "5648  [[0.0, 0.0, 0.0, 0.0, 0.0, 0.0, 0.0, 1.0, 0.0,...  \n",
       "5651  [[0.0, 0.0, 0.0, 0.0, 0.0, 0.0, 0.0, 0.0, 1.0,...  \n",
       "5652  [[0.0, 0.0, 0.0, 0.0, 0.0, 0.0, 0.0, 0.0, 1.0,...  \n",
       "5653  [[0.0, 0.0, 0.0, 0.0, 0.0, 0.0, 0.0, 0.0, 0.0,...  \n",
       "\n",
       "[4077 rows x 12 columns]"
      ]
     },
     "execution_count": 141,
     "metadata": {},
     "output_type": "execute_result"
    }
   ],
   "source": [
    "beer_df"
   ]
  },
  {
   "cell_type": "code",
   "execution_count": 88,
   "metadata": {},
   "outputs": [],
   "source": [
    "#turned empty lists into nan values after stopwords\n",
    "beer_df.loc[~beer_df.clean_reviews.astype(bool),'clean_reviews']=np.nan"
   ]
  },
  {
   "cell_type": "code",
   "execution_count": 92,
   "metadata": {},
   "outputs": [
    {
     "data": {
      "text/plain": [
       "beer_style          0\n",
       "beer_name           0\n",
       "brewery_name        0\n",
       "abv                 0\n",
       "no_ratings          0\n",
       "avg_rating          0\n",
       "url                 0\n",
       "review              0\n",
       "clean_reviews    1466\n",
       "tf_matrix        1466\n",
       "naked_reviews       0\n",
       "tf_array            0\n",
       "dtype: int64"
      ]
     },
     "execution_count": 92,
     "metadata": {},
     "output_type": "execute_result"
    }
   ],
   "source": [
    "#checked the rows that were now empty\n",
    "beer_df.isna().sum()"
   ]
  },
  {
   "cell_type": "code",
   "execution_count": 93,
   "metadata": {},
   "outputs": [],
   "source": [
    "#dropped the rows with nan values\n",
    "beer_df.dropna(subset=['clean_reviews'], inplace = True)"
   ]
  },
  {
   "cell_type": "code",
   "execution_count": 146,
   "metadata": {
    "collapsed": true
   },
   "outputs": [
    {
     "data": {
      "text/plain": [
       "'pours little cloudy little small smell like fruity ale ipa taste pretty good hoppy pale perhaps say quite pale ale like average run mill bit fruity light hop flavor towards carbonation smooth like nitro relatively overall could drink em day sick would first choice looking drink beer two said see custom six pack fridge would okay adding one north definite rich color claim quite feel like need bit hoppy department even fruit hot day need something hoppy work quite well evening drink day dundee fifco usa portfolio beer one crossover recommendation someone looking get crafted beer granted bit pedestrian used today still delightful recently poured pint coloring may pique hue remind typical fruit pale ale listed get lot malt formerly recalled back front note sweet fruit ale get bit sticky sweetness factor entirely bottle year old poured squat pint fridge somewhat darker amber quite topped finger tam head recedes caramel malt lends sweet bready note toffee caramel plenty resinous hop bring hugely fruity aroma note peach categorised fruit field wondering peach something also slight herbal spice like fresh crazy dry given sweet malty expecting something cloying case crystal malt amidst pale malt grainy subtle lending nondescript floral fruity clear sign fruit guessing ive mango stone fruit guess lightly bitter highly floral hop resin finish stine fruit becoming even bigger abrupt lower feel fairly dry elevating crisp slightly drying hoppy convinced fruit sure reminds lot ffirst cut actually quite would easy drink couple rapid also clearly hold something go way certainly trade cheap shelf like hardly copper mildly smell like straight definitely one best smelling ale taste good still one complex formula give hop holy cap great artwork note pours clear copper producing finger head leaf weeping ring aroma toasted bread hint tangerine hoppy taste soapy cream rainbow little weak coconut thin cloyingly citrus bittersweet aftertaste faintly reminiscent ethyl felt like wheat beer golden inch thick white apricot apricot bit grassy light mediumsep canada gold colour bronze orange hue one much head first sip almost seemed described fruit beer struggled detect fruit aroma sensed peach apricot peppery final low carbonation new bottle golden color nice smell much floral found refreshingly different feel taste initially clean floral bought several great describe sort cream ale style unable discern hop mention really come decent bitterness bad beer light aroma apricot taste apricot also able taste hint cherry others know commented others taste cherry like beer fruit overpowering good fan super fruity go pretty even huge fan apricot would recommend time would go way huge selection believe low rating unique floraly taste real hoppy may reason solid tasteful new light body mild there malt aroma mostly little well tasting like dried apricot bit bad also memorablefeb new opened beer smelled like taste bitter liked magic hat beer tried one real north original recollection beer positive think right around good time like slightly average pours clear amber thin layer smell wheat floral light taste like grass apricot touch floral dry pretty much agree one innovative came pale comparison offering time got hint apricot perfectly balanced mild could drink day must try potion come one first beer ever blend sweet one power sens looking introduction fruit field good beer light fruit note hoppy like lacking taste body quite nothing really stand beer still worth highly recommend people newbie craft going assume add actual fruit least fruit flavoring make beer like apricot could wrong coct new oz bottle poured golden orange touch small foam head minimal glass bar strangest beer aroma come bubble slight wheat sweet smelling honestly smell like strange fruit cocktail got strange taste know hard like fruity highly carbonated saying fake taste like fresh hop one single characteristic stand quite bit bitterness perhaps sweet drinkable one enjoy taste enough buy grade west hazy orange color foamy white smell toasted hint taste bready malt faint finish body medium foamy mouthfeel crisp bottle bottling date information medium amber colored creamy white head stick leaf spot predominately floral slightly vegetal floral grape emphasis minor hop bitterness rather dry thick okay like old school craft come kind thin flavor grape floral new drinking reading style kind made feel like living end soylent greenjun beer easy drink always safe nice golden nice head without much lingering smell faintly taste mainly malt little fruity much hop taste thin decent slightly sweet overly botttle gold color solid lacing head carbonation seems like small citrus hop profile almost like sweet sweet ipa wine easy finish little extremely'"
      ]
     },
     "execution_count": 146,
     "metadata": {},
     "output_type": "execute_result"
    }
   ],
   "source": [
    "beer_df['naked_reviews'][0]"
   ]
  },
  {
   "cell_type": "code",
   "execution_count": 373,
   "metadata": {},
   "outputs": [
    {
     "data": {
      "text/html": [
       "<div>\n",
       "<style scoped>\n",
       "    .dataframe tbody tr th:only-of-type {\n",
       "        vertical-align: middle;\n",
       "    }\n",
       "\n",
       "    .dataframe tbody tr th {\n",
       "        vertical-align: top;\n",
       "    }\n",
       "\n",
       "    .dataframe thead th {\n",
       "        text-align: right;\n",
       "    }\n",
       "</style>\n",
       "<table border=\"1\" class=\"dataframe\">\n",
       "  <thead>\n",
       "    <tr style=\"text-align: right;\">\n",
       "      <th></th>\n",
       "      <th>beer_style</th>\n",
       "      <th>beer_name</th>\n",
       "      <th>brewery_name</th>\n",
       "      <th>abv</th>\n",
       "      <th>no_ratings</th>\n",
       "      <th>avg_rating</th>\n",
       "      <th>url</th>\n",
       "      <th>review</th>\n",
       "      <th>clean_reviews</th>\n",
       "      <th>tf_matrix</th>\n",
       "      <th>naked_reviews</th>\n",
       "      <th>tf_array</th>\n",
       "    </tr>\n",
       "  </thead>\n",
       "  <tbody>\n",
       "    <tr>\n",
       "      <th>0</th>\n",
       "      <td>Fruit and Field</td>\n",
       "      <td>#9</td>\n",
       "      <td>Magic Hat Brewing Company</td>\n",
       "      <td>5.10</td>\n",
       "      <td>5915.0</td>\n",
       "      <td>3.42</td>\n",
       "      <td>https://www.beeradvocate.com/beer/profile/96/299/</td>\n",
       "      <td>[\"Elemental19xx from Illinois3.6/5\\xa0\\xa0rDev...</td>\n",
       "      <td>[pours, little, cloudy, little, small, smell, ...</td>\n",
       "      <td>(0, 276)\\t1.0\\n  (1, 213)\\t1.0\\n  (2, 63)\\t1...</td>\n",
       "      <td>pours little cloudy little small smell like fr...</td>\n",
       "      <td>[[0.0, 0.0, 0.0, 0.0, 0.0, 0.0, 0.0, 0.0, 0.0,...</td>\n",
       "    </tr>\n",
       "    <tr>\n",
       "      <th>1</th>\n",
       "      <td>Fruit and Field</td>\n",
       "      <td>Samuel Adams Cherry Wheat</td>\n",
       "      <td>Boston Beer Company (Samuel Adams)</td>\n",
       "      <td>5.30</td>\n",
       "      <td>4029.0</td>\n",
       "      <td>3.19</td>\n",
       "      <td>https://www.beeradvocate.com/beer/profile/35/108/</td>\n",
       "      <td>['BergBeer from Virginia1.15/5\\xa0\\xa0rDev -63...</td>\n",
       "      <td>[bottle, shaker, pint, hazy, copper, thick, wh...</td>\n",
       "      <td>(0, 44)\\t1.0\\n  (1, 324)\\t1.0\\n  (2, 279)\\t1...</td>\n",
       "      <td>bottle shaker pint hazy copper thick white che...</td>\n",
       "      <td>[[0.0, 0.0, 0.0, 0.0, 0.0, 0.0, 0.0, 0.0, 0.0,...</td>\n",
       "    </tr>\n",
       "    <tr>\n",
       "      <th>2</th>\n",
       "      <td>Fruit and Field</td>\n",
       "      <td>Raspberry Tart</td>\n",
       "      <td>New Glarus Brewing Company</td>\n",
       "      <td>4.00</td>\n",
       "      <td>3992.0</td>\n",
       "      <td>4.41</td>\n",
       "      <td>https://www.beeradvocate.com/beer/profile/590/...</td>\n",
       "      <td>[\"TedHead from Illinois4.85/5\\xa0\\xa0rDev +10%...</td>\n",
       "      <td>[beautiful, ruby, red, head, dissipates, smell...</td>\n",
       "      <td>(0, 37)\\t1.0\\n  (1, 435)\\t1.0\\n  (2, 416)\\t1...</td>\n",
       "      <td>beautiful ruby red head dissipates smell inten...</td>\n",
       "      <td>[[0.0, 0.0, 0.0, 0.0, 0.0, 0.0, 0.0, 0.0, 0.0,...</td>\n",
       "    </tr>\n",
       "    <tr>\n",
       "      <th>3</th>\n",
       "      <td>Fruit and Field</td>\n",
       "      <td>Summer Shandy</td>\n",
       "      <td>Jacob Leinenkugel Brewing Company</td>\n",
       "      <td>4.20</td>\n",
       "      <td>3841.0</td>\n",
       "      <td>3.20</td>\n",
       "      <td>https://www.beeradvocate.com/beer/profile/710/...</td>\n",
       "      <td>['AlCaponeJunior from Texas2.79/5\\xa0\\xa0rDev ...</td>\n",
       "      <td>[one, favorite, summer, beer, smell, taste, bi...</td>\n",
       "      <td>(0, 347)\\t1.0\\n  (1, 176)\\t1.0\\n  (2, 484)\\t...</td>\n",
       "      <td>one favorite summer beer smell taste bit like ...</td>\n",
       "      <td>[[0.0, 0.0, 0.0, 0.0, 0.0, 0.0, 0.0, 0.0, 0.0,...</td>\n",
       "    </tr>\n",
       "    <tr>\n",
       "      <th>4</th>\n",
       "      <td>Fruit and Field</td>\n",
       "      <td>Rübæus</td>\n",
       "      <td>Founders Brewing Company</td>\n",
       "      <td>5.70</td>\n",
       "      <td>3799.0</td>\n",
       "      <td>3.91</td>\n",
       "      <td>https://www.beeradvocate.com/beer/profile/1199...</td>\n",
       "      <td>['TomQBigBeerGuy from Michigan3.88/5\\xa0\\xa0rD...</td>\n",
       "      <td>[pour, pink, raspberry, impressive, white, hea...</td>\n",
       "      <td>(0, 299)\\t1.0\\n  (1, 293)\\t1.0\\n  (2, 312)\\t...</td>\n",
       "      <td>pour pink raspberry impressive white head ligh...</td>\n",
       "      <td>[[0.0, 0.0, 0.0, 0.0, 0.0, 0.0, 0.0, 0.0, 0.0,...</td>\n",
       "    </tr>\n",
       "    <tr>\n",
       "      <th>...</th>\n",
       "      <td>...</td>\n",
       "      <td>...</td>\n",
       "      <td>...</td>\n",
       "      <td>...</td>\n",
       "      <td>...</td>\n",
       "      <td>...</td>\n",
       "      <td>...</td>\n",
       "      <td>...</td>\n",
       "      <td>...</td>\n",
       "      <td>...</td>\n",
       "      <td>...</td>\n",
       "      <td>...</td>\n",
       "    </tr>\n",
       "    <tr>\n",
       "      <th>5639</th>\n",
       "      <td>Fruit and Field</td>\n",
       "      <td>Mos'ka Garnatxa Beer</td>\n",
       "      <td>Cerveseria Birrart</td>\n",
       "      <td>6.00</td>\n",
       "      <td>1.0</td>\n",
       "      <td>3.67</td>\n",
       "      <td>https://www.beeradvocate.com/beer/profile/1953...</td>\n",
       "      <td>['GONZALOYANNA from Spain3.67/5\\xa0\\xa0rDev 0%...</td>\n",
       "      <td>[timmermans, flute, enjoyed, reddish, amber, f...</td>\n",
       "      <td>(0, 50)\\t1.0\\n  (1, 13)\\t1.0\\n  (2, 8)\\t1.0\\...</td>\n",
       "      <td>timmermans flute enjoyed reddish amber foggy f...</td>\n",
       "      <td>[[0.0, 0.0, 0.0, 0.0, 0.0, 0.0, 0.0, 0.0, 0.0,...</td>\n",
       "    </tr>\n",
       "    <tr>\n",
       "      <th>5648</th>\n",
       "      <td>Fruit and Field</td>\n",
       "      <td>Rainier Raspberry Wheat</td>\n",
       "      <td>Harmon Restaurant &amp; Brewery</td>\n",
       "      <td>?</td>\n",
       "      <td>1.0</td>\n",
       "      <td>2.60</td>\n",
       "      <td>https://www.beeradvocate.com/beer/profile/1386...</td>\n",
       "      <td>['barleywinefiend from Washington2.6/5\\xa0\\xa0...</td>\n",
       "      <td>[poured, cloudy, straw, color, almost, head, w...</td>\n",
       "      <td>(0, 8)\\t1.0\\n  (1, 1)\\t1.0\\n  (2, 11)\\t1.0\\n...</td>\n",
       "      <td>poured cloudy straw color almost head white ma...</td>\n",
       "      <td>[[0.0, 0.0, 0.0, 0.0, 0.0, 0.0, 0.0, 1.0, 0.0,...</td>\n",
       "    </tr>\n",
       "    <tr>\n",
       "      <th>5651</th>\n",
       "      <td>Fruit and Field</td>\n",
       "      <td>Carney Juice</td>\n",
       "      <td>Independent Republic Brewing Co.</td>\n",
       "      <td>4.00</td>\n",
       "      <td>1.0</td>\n",
       "      <td>4.00</td>\n",
       "      <td>https://www.beeradvocate.com/beer/profile/5671...</td>\n",
       "      <td>['PaleAleWalt from New York4/5\\xa0\\xa0rDev 0%l...</td>\n",
       "      <td>[new, shandy, hint]</td>\n",
       "      <td>(0, 1)\\t1.0\\n  (1, 2)\\t1.0\\n  (2, 0)\\t1.0</td>\n",
       "      <td>new shandy hint</td>\n",
       "      <td>[[0.0, 0.0, 0.0, 0.0, 0.0, 0.0, 0.0, 0.0, 1.0,...</td>\n",
       "    </tr>\n",
       "    <tr>\n",
       "      <th>5652</th>\n",
       "      <td>Fruit and Field</td>\n",
       "      <td>Cherry Ace</td>\n",
       "      <td>The Blue Elephant Craft Brew House</td>\n",
       "      <td>4.80</td>\n",
       "      <td>1.0</td>\n",
       "      <td>3.31</td>\n",
       "      <td>https://www.beeradvocate.com/beer/profile/3446...</td>\n",
       "      <td>['KrisDLSmith from Canada (ON)3.31/5\\xa0\\xa0rD...</td>\n",
       "      <td>[canada]</td>\n",
       "      <td>(0, 0)\\t1.0</td>\n",
       "      <td>canada</td>\n",
       "      <td>[[0.0, 0.0, 0.0, 0.0, 0.0, 0.0, 0.0, 0.0, 1.0,...</td>\n",
       "    </tr>\n",
       "    <tr>\n",
       "      <th>5653</th>\n",
       "      <td>Fruit and Field</td>\n",
       "      <td>Cherry Stout</td>\n",
       "      <td>Cottontown Brew Lab</td>\n",
       "      <td>?</td>\n",
       "      <td>1.0</td>\n",
       "      <td>3.41</td>\n",
       "      <td>https://www.beeradvocate.com/beer/profile/5210...</td>\n",
       "      <td>['RochefortChris from North Carolina3.41/5\\xa0...</td>\n",
       "      <td>[north]</td>\n",
       "      <td>(0, 0)\\t1.0</td>\n",
       "      <td>north</td>\n",
       "      <td>[[0.0, 0.0, 0.0, 0.0, 0.0, 0.0, 0.0, 0.0, 0.0,...</td>\n",
       "    </tr>\n",
       "  </tbody>\n",
       "</table>\n",
       "<p>4077 rows × 12 columns</p>\n",
       "</div>"
      ],
      "text/plain": [
       "           beer_style                  beer_name  \\\n",
       "0     Fruit and Field                         #9   \n",
       "1     Fruit and Field  Samuel Adams Cherry Wheat   \n",
       "2     Fruit and Field             Raspberry Tart   \n",
       "3     Fruit and Field              Summer Shandy   \n",
       "4     Fruit and Field                     Rübæus   \n",
       "...               ...                        ...   \n",
       "5639  Fruit and Field       Mos'ka Garnatxa Beer   \n",
       "5648  Fruit and Field    Rainier Raspberry Wheat   \n",
       "5651  Fruit and Field               Carney Juice   \n",
       "5652  Fruit and Field                 Cherry Ace   \n",
       "5653  Fruit and Field               Cherry Stout   \n",
       "\n",
       "                            brewery_name   abv  no_ratings  avg_rating  \\\n",
       "0              Magic Hat Brewing Company  5.10      5915.0        3.42   \n",
       "1     Boston Beer Company (Samuel Adams)  5.30      4029.0        3.19   \n",
       "2             New Glarus Brewing Company  4.00      3992.0        4.41   \n",
       "3      Jacob Leinenkugel Brewing Company  4.20      3841.0        3.20   \n",
       "4               Founders Brewing Company  5.70      3799.0        3.91   \n",
       "...                                  ...   ...         ...         ...   \n",
       "5639                  Cerveseria Birrart  6.00         1.0        3.67   \n",
       "5648         Harmon Restaurant & Brewery     ?         1.0        2.60   \n",
       "5651    Independent Republic Brewing Co.  4.00         1.0        4.00   \n",
       "5652  The Blue Elephant Craft Brew House  4.80         1.0        3.31   \n",
       "5653                 Cottontown Brew Lab     ?         1.0        3.41   \n",
       "\n",
       "                                                    url  \\\n",
       "0     https://www.beeradvocate.com/beer/profile/96/299/   \n",
       "1     https://www.beeradvocate.com/beer/profile/35/108/   \n",
       "2     https://www.beeradvocate.com/beer/profile/590/...   \n",
       "3     https://www.beeradvocate.com/beer/profile/710/...   \n",
       "4     https://www.beeradvocate.com/beer/profile/1199...   \n",
       "...                                                 ...   \n",
       "5639  https://www.beeradvocate.com/beer/profile/1953...   \n",
       "5648  https://www.beeradvocate.com/beer/profile/1386...   \n",
       "5651  https://www.beeradvocate.com/beer/profile/5671...   \n",
       "5652  https://www.beeradvocate.com/beer/profile/3446...   \n",
       "5653  https://www.beeradvocate.com/beer/profile/5210...   \n",
       "\n",
       "                                                 review  \\\n",
       "0     [\"Elemental19xx from Illinois3.6/5\\xa0\\xa0rDev...   \n",
       "1     ['BergBeer from Virginia1.15/5\\xa0\\xa0rDev -63...   \n",
       "2     [\"TedHead from Illinois4.85/5\\xa0\\xa0rDev +10%...   \n",
       "3     ['AlCaponeJunior from Texas2.79/5\\xa0\\xa0rDev ...   \n",
       "4     ['TomQBigBeerGuy from Michigan3.88/5\\xa0\\xa0rD...   \n",
       "...                                                 ...   \n",
       "5639  ['GONZALOYANNA from Spain3.67/5\\xa0\\xa0rDev 0%...   \n",
       "5648  ['barleywinefiend from Washington2.6/5\\xa0\\xa0...   \n",
       "5651  ['PaleAleWalt from New York4/5\\xa0\\xa0rDev 0%l...   \n",
       "5652  ['KrisDLSmith from Canada (ON)3.31/5\\xa0\\xa0rD...   \n",
       "5653  ['RochefortChris from North Carolina3.41/5\\xa0...   \n",
       "\n",
       "                                          clean_reviews  \\\n",
       "0     [pours, little, cloudy, little, small, smell, ...   \n",
       "1     [bottle, shaker, pint, hazy, copper, thick, wh...   \n",
       "2     [beautiful, ruby, red, head, dissipates, smell...   \n",
       "3     [one, favorite, summer, beer, smell, taste, bi...   \n",
       "4     [pour, pink, raspberry, impressive, white, hea...   \n",
       "...                                                 ...   \n",
       "5639  [timmermans, flute, enjoyed, reddish, amber, f...   \n",
       "5648  [poured, cloudy, straw, color, almost, head, w...   \n",
       "5651                                [new, shandy, hint]   \n",
       "5652                                           [canada]   \n",
       "5653                                            [north]   \n",
       "\n",
       "                                              tf_matrix  \\\n",
       "0       (0, 276)\\t1.0\\n  (1, 213)\\t1.0\\n  (2, 63)\\t1...   \n",
       "1       (0, 44)\\t1.0\\n  (1, 324)\\t1.0\\n  (2, 279)\\t1...   \n",
       "2       (0, 37)\\t1.0\\n  (1, 435)\\t1.0\\n  (2, 416)\\t1...   \n",
       "3       (0, 347)\\t1.0\\n  (1, 176)\\t1.0\\n  (2, 484)\\t...   \n",
       "4       (0, 299)\\t1.0\\n  (1, 293)\\t1.0\\n  (2, 312)\\t...   \n",
       "...                                                 ...   \n",
       "5639    (0, 50)\\t1.0\\n  (1, 13)\\t1.0\\n  (2, 8)\\t1.0\\...   \n",
       "5648    (0, 8)\\t1.0\\n  (1, 1)\\t1.0\\n  (2, 11)\\t1.0\\n...   \n",
       "5651          (0, 1)\\t1.0\\n  (1, 2)\\t1.0\\n  (2, 0)\\t1.0   \n",
       "5652                                        (0, 0)\\t1.0   \n",
       "5653                                        (0, 0)\\t1.0   \n",
       "\n",
       "                                          naked_reviews  \\\n",
       "0     pours little cloudy little small smell like fr...   \n",
       "1     bottle shaker pint hazy copper thick white che...   \n",
       "2     beautiful ruby red head dissipates smell inten...   \n",
       "3     one favorite summer beer smell taste bit like ...   \n",
       "4     pour pink raspberry impressive white head ligh...   \n",
       "...                                                 ...   \n",
       "5639  timmermans flute enjoyed reddish amber foggy f...   \n",
       "5648  poured cloudy straw color almost head white ma...   \n",
       "5651                                    new shandy hint   \n",
       "5652                                             canada   \n",
       "5653                                              north   \n",
       "\n",
       "                                               tf_array  \n",
       "0     [[0.0, 0.0, 0.0, 0.0, 0.0, 0.0, 0.0, 0.0, 0.0,...  \n",
       "1     [[0.0, 0.0, 0.0, 0.0, 0.0, 0.0, 0.0, 0.0, 0.0,...  \n",
       "2     [[0.0, 0.0, 0.0, 0.0, 0.0, 0.0, 0.0, 0.0, 0.0,...  \n",
       "3     [[0.0, 0.0, 0.0, 0.0, 0.0, 0.0, 0.0, 0.0, 0.0,...  \n",
       "4     [[0.0, 0.0, 0.0, 0.0, 0.0, 0.0, 0.0, 0.0, 0.0,...  \n",
       "...                                                 ...  \n",
       "5639  [[0.0, 0.0, 0.0, 0.0, 0.0, 0.0, 0.0, 0.0, 0.0,...  \n",
       "5648  [[0.0, 0.0, 0.0, 0.0, 0.0, 0.0, 0.0, 1.0, 0.0,...  \n",
       "5651  [[0.0, 0.0, 0.0, 0.0, 0.0, 0.0, 0.0, 0.0, 1.0,...  \n",
       "5652  [[0.0, 0.0, 0.0, 0.0, 0.0, 0.0, 0.0, 0.0, 1.0,...  \n",
       "5653  [[0.0, 0.0, 0.0, 0.0, 0.0, 0.0, 0.0, 0.0, 0.0,...  \n",
       "\n",
       "[4077 rows x 12 columns]"
      ]
     },
     "execution_count": 373,
     "metadata": {},
     "output_type": "execute_result"
    }
   ],
   "source": [
    "beer_df"
   ]
  },
  {
   "cell_type": "markdown",
   "metadata": {},
   "source": [
    "### test run"
   ]
  },
  {
   "cell_type": "code",
   "execution_count": 348,
   "metadata": {},
   "outputs": [],
   "source": [
    "df = beer_df[['abv', 'avg_rating', 'naked_reviews']]"
   ]
  },
  {
   "cell_type": "code",
   "execution_count": 349,
   "metadata": {},
   "outputs": [
    {
     "name": "stderr",
     "output_type": "stream",
     "text": [
      "<ipython-input-349-83af63e261ec>:1: SettingWithCopyWarning: \n",
      "A value is trying to be set on a copy of a slice from a DataFrame.\n",
      "Try using .loc[row_indexer,col_indexer] = value instead\n",
      "\n",
      "See the caveats in the documentation: https://pandas.pydata.org/pandas-docs/stable/user_guide/indexing.html#returning-a-view-versus-a-copy\n",
      "  df['abv'] = df['abv'].replace(['?'], [0])\n"
     ]
    }
   ],
   "source": [
    "df['abv'] = df['abv'].replace(['?'], [0])"
   ]
  },
  {
   "cell_type": "code",
   "execution_count": 350,
   "metadata": {},
   "outputs": [],
   "source": [
    "zeros = df[df['abv'] == 0]"
   ]
  },
  {
   "cell_type": "code",
   "execution_count": 351,
   "metadata": {},
   "outputs": [
    {
     "name": "stderr",
     "output_type": "stream",
     "text": [
      "C:\\Users\\GMoneyMan\\anaconda3\\envs\\learn-env\\lib\\site-packages\\pandas\\core\\frame.py:4163: SettingWithCopyWarning: \n",
      "A value is trying to be set on a copy of a slice from a DataFrame\n",
      "\n",
      "See the caveats in the documentation: https://pandas.pydata.org/pandas-docs/stable/user_guide/indexing.html#returning-a-view-versus-a-copy\n",
      "  return super().drop(\n"
     ]
    }
   ],
   "source": [
    "df.drop(zeros.index, inplace = True)"
   ]
  },
  {
   "cell_type": "code",
   "execution_count": 357,
   "metadata": {},
   "outputs": [
    {
     "data": {
      "text/html": [
       "<div>\n",
       "<style scoped>\n",
       "    .dataframe tbody tr th:only-of-type {\n",
       "        vertical-align: middle;\n",
       "    }\n",
       "\n",
       "    .dataframe tbody tr th {\n",
       "        vertical-align: top;\n",
       "    }\n",
       "\n",
       "    .dataframe thead th {\n",
       "        text-align: right;\n",
       "    }\n",
       "</style>\n",
       "<table border=\"1\" class=\"dataframe\">\n",
       "  <thead>\n",
       "    <tr style=\"text-align: right;\">\n",
       "      <th></th>\n",
       "      <th>abv</th>\n",
       "      <th>avg_rating</th>\n",
       "      <th>naked_reviews</th>\n",
       "    </tr>\n",
       "  </thead>\n",
       "  <tbody>\n",
       "    <tr>\n",
       "      <th>0</th>\n",
       "      <td>5.10</td>\n",
       "      <td>3.0</td>\n",
       "      <td>pours little cloudy little small smell like fr...</td>\n",
       "    </tr>\n",
       "    <tr>\n",
       "      <th>1</th>\n",
       "      <td>5.30</td>\n",
       "      <td>3.0</td>\n",
       "      <td>bottle shaker pint hazy copper thick white che...</td>\n",
       "    </tr>\n",
       "    <tr>\n",
       "      <th>2</th>\n",
       "      <td>4.00</td>\n",
       "      <td>4.0</td>\n",
       "      <td>beautiful ruby red head dissipates smell inten...</td>\n",
       "    </tr>\n",
       "    <tr>\n",
       "      <th>3</th>\n",
       "      <td>4.20</td>\n",
       "      <td>3.0</td>\n",
       "      <td>one favorite summer beer smell taste bit like ...</td>\n",
       "    </tr>\n",
       "    <tr>\n",
       "      <th>4</th>\n",
       "      <td>5.70</td>\n",
       "      <td>4.0</td>\n",
       "      <td>pour pink raspberry impressive white head ligh...</td>\n",
       "    </tr>\n",
       "    <tr>\n",
       "      <th>...</th>\n",
       "      <td>...</td>\n",
       "      <td>...</td>\n",
       "      <td>...</td>\n",
       "    </tr>\n",
       "    <tr>\n",
       "      <th>5636</th>\n",
       "      <td>5.00</td>\n",
       "      <td>4.0</td>\n",
       "      <td>bottle purchased la crécelle brewery tasted sl...</td>\n",
       "    </tr>\n",
       "    <tr>\n",
       "      <th>5638</th>\n",
       "      <td>4.50</td>\n",
       "      <td>4.0</td>\n",
       "      <td>bright color fizzy white ton blood orange tast...</td>\n",
       "    </tr>\n",
       "    <tr>\n",
       "      <th>5639</th>\n",
       "      <td>6.00</td>\n",
       "      <td>4.0</td>\n",
       "      <td>timmermans flute enjoyed reddish amber foggy f...</td>\n",
       "    </tr>\n",
       "    <tr>\n",
       "      <th>5651</th>\n",
       "      <td>4.00</td>\n",
       "      <td>4.0</td>\n",
       "      <td>new shandy hint</td>\n",
       "    </tr>\n",
       "    <tr>\n",
       "      <th>5652</th>\n",
       "      <td>4.80</td>\n",
       "      <td>3.0</td>\n",
       "      <td>canada</td>\n",
       "    </tr>\n",
       "  </tbody>\n",
       "</table>\n",
       "<p>3796 rows × 3 columns</p>\n",
       "</div>"
      ],
      "text/plain": [
       "       abv  avg_rating                                      naked_reviews\n",
       "0     5.10         3.0  pours little cloudy little small smell like fr...\n",
       "1     5.30         3.0  bottle shaker pint hazy copper thick white che...\n",
       "2     4.00         4.0  beautiful ruby red head dissipates smell inten...\n",
       "3     4.20         3.0  one favorite summer beer smell taste bit like ...\n",
       "4     5.70         4.0  pour pink raspberry impressive white head ligh...\n",
       "...    ...         ...                                                ...\n",
       "5636  5.00         4.0  bottle purchased la crécelle brewery tasted sl...\n",
       "5638  4.50         4.0  bright color fizzy white ton blood orange tast...\n",
       "5639  6.00         4.0  timmermans flute enjoyed reddish amber foggy f...\n",
       "5651  4.00         4.0                                    new shandy hint\n",
       "5652  4.80         3.0                                             canada\n",
       "\n",
       "[3796 rows x 3 columns]"
      ]
     },
     "execution_count": 357,
     "metadata": {},
     "output_type": "execute_result"
    }
   ],
   "source": [
    "df"
   ]
  },
  {
   "cell_type": "code",
   "execution_count": 353,
   "metadata": {},
   "outputs": [
    {
     "name": "stderr",
     "output_type": "stream",
     "text": [
      "<ipython-input-353-9211e852e62a>:1: SettingWithCopyWarning: \n",
      "A value is trying to be set on a copy of a slice from a DataFrame.\n",
      "Try using .loc[row_indexer,col_indexer] = value instead\n",
      "\n",
      "See the caveats in the documentation: https://pandas.pydata.org/pandas-docs/stable/user_guide/indexing.html#returning-a-view-versus-a-copy\n",
      "  df['avg_rating'] = df['avg_rating'].round()\n"
     ]
    }
   ],
   "source": [
    "df['avg_rating'] = df['avg_rating'].round()"
   ]
  },
  {
   "cell_type": "code",
   "execution_count": 354,
   "metadata": {},
   "outputs": [
    {
     "data": {
      "text/plain": [
       "4.0    2388\n",
       "3.0    1166\n",
       "2.0     171\n",
       "5.0      60\n",
       "1.0      11\n",
       "Name: avg_rating, dtype: int64"
      ]
     },
     "execution_count": 354,
     "metadata": {},
     "output_type": "execute_result"
    }
   ],
   "source": [
    "df['avg_rating'].value_counts()"
   ]
  },
  {
   "cell_type": "code",
   "execution_count": 355,
   "metadata": {},
   "outputs": [],
   "source": [
    "x = df['naked_reviews']\n",
    "y = df['avg_rating']"
   ]
  },
  {
   "cell_type": "code",
   "execution_count": 356,
   "metadata": {},
   "outputs": [],
   "source": [
    "#running train / test / split on naked reviews (str)\n",
    "data_train, data_test, target_train, target_test = train_test_split(x, y, test_size=0.20, random_state=21)"
   ]
  },
  {
   "cell_type": "code",
   "execution_count": 358,
   "metadata": {},
   "outputs": [],
   "source": [
    "tfidf = TfidfVectorizer(max_df = .9, min_df=.1)"
   ]
  },
  {
   "cell_type": "code",
   "execution_count": 359,
   "metadata": {},
   "outputs": [
    {
     "name": "stdout",
     "output_type": "stream",
     "text": [
      "(3036, 236)\n",
      "(760, 236)\n"
     ]
    }
   ],
   "source": [
    "tfidf_data_train = tfidf.fit_transform(data_train)\n",
    "tfidf_data_test = tfidf.transform(data_test)\n",
    "\n",
    "print(tfidf_data_train.shape)\n",
    "print(tfidf_data_test.shape)"
   ]
  },
  {
   "cell_type": "code",
   "execution_count": 361,
   "metadata": {},
   "outputs": [
    {
     "data": {
      "text/plain": [
       "3204    pleased berry component prominent giving tart ...\n",
       "969     canada hoppypocket bottled jun cloudy dark cop...\n",
       "939     new oz expires dec sampled september pours str...\n",
       "2065    south beer answer poured snifter pink color cl...\n",
       "1048    definitely first beer long bomber bottle reall...\n",
       "                              ...                        \n",
       "48      pint brown ruby thin head becomes leaving litt...\n",
       "811     confused razberry two different poured glowing...\n",
       "2130    tap bruery terreux tasting room fruit beer coc...\n",
       "1340    oz bottle pours dark tinged lightly murky ambe...\n",
       "4116    oz sampler light pink color look almost like p...\n",
       "Name: naked_reviews, Length: 3036, dtype: object"
      ]
     },
     "execution_count": 361,
     "metadata": {},
     "output_type": "execute_result"
    }
   ],
   "source": [
    "data_train"
   ]
  },
  {
   "cell_type": "code",
   "execution_count": 360,
   "metadata": {},
   "outputs": [
    {
     "name": "stdout",
     "output_type": "stream",
     "text": [
      "Average Number of Non-Zero Elements in Vectorized Articles: 44.85935441370224\n",
      "Percentage of columns containing 0: 0.8099179897724481\n"
     ]
    }
   ],
   "source": [
    "non_zero_cols = tfidf_data_train.nnz / float(tfidf_data_train.shape[0])\n",
    "print(\"Average Number of Non-Zero Elements in Vectorized Articles: {}\".format(non_zero_cols))\n",
    "\n",
    "percent_sparse = 1 - (non_zero_cols / float(tfidf_data_train.shape[1]))\n",
    "print('Percentage of columns containing 0: {}'.format(percent_sparse))"
   ]
  },
  {
   "cell_type": "code",
   "execution_count": 302,
   "metadata": {},
   "outputs": [
    {
     "data": {
      "text/plain": [
       "<3036x236 sparse matrix of type '<class 'numpy.float64'>'\n",
       "\twith 136193 stored elements in Compressed Sparse Row format>"
      ]
     },
     "execution_count": 302,
     "metadata": {},
     "output_type": "execute_result"
    }
   ],
   "source": [
    "tfidf_data_train"
   ]
  },
  {
   "cell_type": "code",
   "execution_count": 303,
   "metadata": {},
   "outputs": [
    {
     "data": {
      "text/plain": [
       "3204    4.0\n",
       "969     3.0\n",
       "939     3.0\n",
       "2065    4.0\n",
       "1048    3.0\n",
       "       ... \n",
       "48      4.0\n",
       "811     4.0\n",
       "2130    4.0\n",
       "1340    3.0\n",
       "4116    3.0\n",
       "Name: avg_rating, Length: 3036, dtype: float64"
      ]
     },
     "execution_count": 303,
     "metadata": {},
     "output_type": "execute_result"
    }
   ],
   "source": [
    "target_train"
   ]
  },
  {
   "cell_type": "code",
   "execution_count": 318,
   "metadata": {},
   "outputs": [
    {
     "data": {
      "text/plain": [
       "RandomForestClassifier(random_state=21)"
      ]
     },
     "execution_count": 318,
     "metadata": {},
     "output_type": "execute_result"
    }
   ],
   "source": [
    "rf = RandomForestClassifier(random_state = 21)#max_depth=10,max_features=10)\n",
    "rf.fit(tfidf_data_train, target_train)"
   ]
  },
  {
   "cell_type": "code",
   "execution_count": 319,
   "metadata": {},
   "outputs": [],
   "source": [
    "rf_test_preds = rf.predict(tfidf_data_test)"
   ]
  },
  {
   "cell_type": "code",
   "execution_count": 320,
   "metadata": {},
   "outputs": [
    {
     "name": "stdout",
     "output_type": "stream",
     "text": [
      "Random Forest with Stematized Features:\n",
      "---------------\n",
      "Recall: 0.6816\n",
      "Testing Accuracy: 0.6816\n",
      "F1 Score: 0.6285\n"
     ]
    }
   ],
   "source": [
    "rf_recall = recall_score(target_test, rf_test_preds, average='weighted')\n",
    "rf_acc_score = accuracy_score(target_test, rf_test_preds)\n",
    "rf_f1_score = f1_score(target_test, rf_test_preds, average='weighted')\n",
    "print('Random Forest with Stematized Features:')\n",
    "print(3*'-----')\n",
    "\n",
    "print('Recall: {:.4}'.format(rf_recall))\n",
    "print(\"Testing Accuracy: {:.4}\".format(rf_acc_score))\n",
    "print(\"F1 Score: {:.4}\".format(rf_f1_score))"
   ]
  },
  {
   "cell_type": "code",
   "execution_count": 311,
   "metadata": {},
   "outputs": [],
   "source": [
    "''' XGBoost '''\n",
    "from xgboost import XGBClassifier"
   ]
  },
  {
   "cell_type": "code",
   "execution_count": null,
   "metadata": {},
   "outputs": [],
   "source": []
  },
  {
   "cell_type": "code",
   "execution_count": 362,
   "metadata": {},
   "outputs": [
    {
     "data": {
      "text/plain": [
       "XGBClassifier(base_score=0.5, booster='gbtree', colsample_bylevel=1,\n",
       "              colsample_bynode=1, colsample_bytree=1, gamma=0, gpu_id=-1,\n",
       "              importance_type='gain', interaction_constraints='',\n",
       "              learning_rate=0.300000012, max_delta_step=0, max_depth=6,\n",
       "              min_child_weight=1, missing=nan, monotone_constraints='()',\n",
       "              n_estimators=100, n_jobs=0, num_parallel_tree=1,\n",
       "              objective='multi:softprob', random_state=0, reg_alpha=0,\n",
       "              reg_lambda=1, scale_pos_weight=None, subsample=1,\n",
       "              tree_method='exact', validate_parameters=1, verbosity=None)"
      ]
     },
     "execution_count": 362,
     "metadata": {},
     "output_type": "execute_result"
    }
   ],
   "source": [
    "xgb = XGBClassifier()\n",
    "xgb.fit(tfidf_data_train, target_train)"
   ]
  },
  {
   "cell_type": "code",
   "execution_count": 365,
   "metadata": {},
   "outputs": [],
   "source": [
    "xgb_test_preds = xgb.predict(tfidf_data_test)"
   ]
  },
  {
   "cell_type": "code",
   "execution_count": 366,
   "metadata": {},
   "outputs": [
    {
     "name": "stdout",
     "output_type": "stream",
     "text": [
      "XGBOOST with Stematized Features:\n",
      "---------------\n",
      "Recall: 0.6671\n",
      "Testing Accuracy: 0.6671\n",
      "F1 Score: 0.6305\n"
     ]
    }
   ],
   "source": [
    "xgb_recall = recall_score(target_test, xgb_test_preds, average='weighted')\n",
    "xgb_acc_score = accuracy_score(target_test, xgb_test_preds)\n",
    "xgb_f1_score = f1_score(target_test, xgb_test_preds, average='weighted')\n",
    "\n",
    "print('XGBOOST with Stematized Features:')\n",
    "print(3*'-----')\n",
    "\n",
    "print('Recall: {:.4}'.format(xgb_recall))\n",
    "\n",
    "print(\"Testing Accuracy: {:.4}\".format(xgb_acc_score))\n",
    "print(\"F1 Score: {:.4}\".format(xgb_f1_score))"
   ]
  },
  {
   "cell_type": "code",
   "execution_count": 368,
   "metadata": {
    "scrolled": true
   },
   "outputs": [
    {
     "ename": "ValueError",
     "evalue": "could not convert string to float: 'pleased berry component prominent giving tart emphasis blonde refreshing nicely'",
     "output_type": "error",
     "traceback": [
      "\u001b[1;31m---------------------------------------------------------------------------\u001b[0m",
      "\u001b[1;31mValueError\u001b[0m                                Traceback (most recent call last)",
      "\u001b[1;32m<ipython-input-368-6f06e5dbcbcf>\u001b[0m in \u001b[0;36m<module>\u001b[1;34m\u001b[0m\n\u001b[0;32m      2\u001b[0m \u001b[1;33m\u001b[0m\u001b[0m\n\u001b[0;32m      3\u001b[0m \u001b[0mscaler\u001b[0m \u001b[1;33m=\u001b[0m \u001b[0mStandardScaler\u001b[0m\u001b[1;33m(\u001b[0m\u001b[1;33m)\u001b[0m\u001b[1;33m\u001b[0m\u001b[1;33m\u001b[0m\u001b[0m\n\u001b[1;32m----> 4\u001b[1;33m \u001b[0mscaled_data_train\u001b[0m \u001b[1;33m=\u001b[0m \u001b[0mscaler\u001b[0m\u001b[1;33m.\u001b[0m\u001b[0mfit_transform\u001b[0m\u001b[1;33m(\u001b[0m\u001b[0mdata_train\u001b[0m\u001b[1;33m)\u001b[0m\u001b[1;33m\u001b[0m\u001b[1;33m\u001b[0m\u001b[0m\n\u001b[0m\u001b[0;32m      5\u001b[0m \u001b[0mscaled_data_test\u001b[0m \u001b[1;33m=\u001b[0m \u001b[0mscaler\u001b[0m\u001b[1;33m.\u001b[0m\u001b[0mtransform\u001b[0m\u001b[1;33m(\u001b[0m\u001b[0mdata_test\u001b[0m\u001b[1;33m)\u001b[0m\u001b[1;33m\u001b[0m\u001b[1;33m\u001b[0m\u001b[0m\n",
      "\u001b[1;32m~\\anaconda3\\envs\\learn-env\\lib\\site-packages\\sklearn\\base.py\u001b[0m in \u001b[0;36mfit_transform\u001b[1;34m(self, X, y, **fit_params)\u001b[0m\n\u001b[0;32m    688\u001b[0m         \u001b[1;32mif\u001b[0m \u001b[0my\u001b[0m \u001b[1;32mis\u001b[0m \u001b[1;32mNone\u001b[0m\u001b[1;33m:\u001b[0m\u001b[1;33m\u001b[0m\u001b[1;33m\u001b[0m\u001b[0m\n\u001b[0;32m    689\u001b[0m             \u001b[1;31m# fit method of arity 1 (unsupervised transformation)\u001b[0m\u001b[1;33m\u001b[0m\u001b[1;33m\u001b[0m\u001b[1;33m\u001b[0m\u001b[0m\n\u001b[1;32m--> 690\u001b[1;33m             \u001b[1;32mreturn\u001b[0m \u001b[0mself\u001b[0m\u001b[1;33m.\u001b[0m\u001b[0mfit\u001b[0m\u001b[1;33m(\u001b[0m\u001b[0mX\u001b[0m\u001b[1;33m,\u001b[0m \u001b[1;33m**\u001b[0m\u001b[0mfit_params\u001b[0m\u001b[1;33m)\u001b[0m\u001b[1;33m.\u001b[0m\u001b[0mtransform\u001b[0m\u001b[1;33m(\u001b[0m\u001b[0mX\u001b[0m\u001b[1;33m)\u001b[0m\u001b[1;33m\u001b[0m\u001b[1;33m\u001b[0m\u001b[0m\n\u001b[0m\u001b[0;32m    691\u001b[0m         \u001b[1;32melse\u001b[0m\u001b[1;33m:\u001b[0m\u001b[1;33m\u001b[0m\u001b[1;33m\u001b[0m\u001b[0m\n\u001b[0;32m    692\u001b[0m             \u001b[1;31m# fit method of arity 2 (supervised transformation)\u001b[0m\u001b[1;33m\u001b[0m\u001b[1;33m\u001b[0m\u001b[1;33m\u001b[0m\u001b[0m\n",
      "\u001b[1;32m~\\anaconda3\\envs\\learn-env\\lib\\site-packages\\sklearn\\preprocessing\\_data.py\u001b[0m in \u001b[0;36mfit\u001b[1;34m(self, X, y)\u001b[0m\n\u001b[0;32m    665\u001b[0m         \u001b[1;31m# Reset internal state before fitting\u001b[0m\u001b[1;33m\u001b[0m\u001b[1;33m\u001b[0m\u001b[1;33m\u001b[0m\u001b[0m\n\u001b[0;32m    666\u001b[0m         \u001b[0mself\u001b[0m\u001b[1;33m.\u001b[0m\u001b[0m_reset\u001b[0m\u001b[1;33m(\u001b[0m\u001b[1;33m)\u001b[0m\u001b[1;33m\u001b[0m\u001b[1;33m\u001b[0m\u001b[0m\n\u001b[1;32m--> 667\u001b[1;33m         \u001b[1;32mreturn\u001b[0m \u001b[0mself\u001b[0m\u001b[1;33m.\u001b[0m\u001b[0mpartial_fit\u001b[0m\u001b[1;33m(\u001b[0m\u001b[0mX\u001b[0m\u001b[1;33m,\u001b[0m \u001b[0my\u001b[0m\u001b[1;33m)\u001b[0m\u001b[1;33m\u001b[0m\u001b[1;33m\u001b[0m\u001b[0m\n\u001b[0m\u001b[0;32m    668\u001b[0m \u001b[1;33m\u001b[0m\u001b[0m\n\u001b[0;32m    669\u001b[0m     \u001b[1;32mdef\u001b[0m \u001b[0mpartial_fit\u001b[0m\u001b[1;33m(\u001b[0m\u001b[0mself\u001b[0m\u001b[1;33m,\u001b[0m \u001b[0mX\u001b[0m\u001b[1;33m,\u001b[0m \u001b[0my\u001b[0m\u001b[1;33m=\u001b[0m\u001b[1;32mNone\u001b[0m\u001b[1;33m)\u001b[0m\u001b[1;33m:\u001b[0m\u001b[1;33m\u001b[0m\u001b[1;33m\u001b[0m\u001b[0m\n",
      "\u001b[1;32m~\\anaconda3\\envs\\learn-env\\lib\\site-packages\\sklearn\\preprocessing\\_data.py\u001b[0m in \u001b[0;36mpartial_fit\u001b[1;34m(self, X, y)\u001b[0m\n\u001b[0;32m    694\u001b[0m             \u001b[0mTransformer\u001b[0m \u001b[0minstance\u001b[0m\u001b[1;33m.\u001b[0m\u001b[1;33m\u001b[0m\u001b[1;33m\u001b[0m\u001b[0m\n\u001b[0;32m    695\u001b[0m         \"\"\"\n\u001b[1;32m--> 696\u001b[1;33m         X = self._validate_data(X, accept_sparse=('csr', 'csc'),\n\u001b[0m\u001b[0;32m    697\u001b[0m                                 \u001b[0mestimator\u001b[0m\u001b[1;33m=\u001b[0m\u001b[0mself\u001b[0m\u001b[1;33m,\u001b[0m \u001b[0mdtype\u001b[0m\u001b[1;33m=\u001b[0m\u001b[0mFLOAT_DTYPES\u001b[0m\u001b[1;33m,\u001b[0m\u001b[1;33m\u001b[0m\u001b[1;33m\u001b[0m\u001b[0m\n\u001b[0;32m    698\u001b[0m                                 force_all_finite='allow-nan')\n",
      "\u001b[1;32m~\\anaconda3\\envs\\learn-env\\lib\\site-packages\\sklearn\\base.py\u001b[0m in \u001b[0;36m_validate_data\u001b[1;34m(self, X, y, reset, validate_separately, **check_params)\u001b[0m\n\u001b[0;32m    418\u001b[0m                     \u001b[1;34mf\"requires y to be passed, but the target y is None.\"\u001b[0m\u001b[1;33m\u001b[0m\u001b[1;33m\u001b[0m\u001b[0m\n\u001b[0;32m    419\u001b[0m                 )\n\u001b[1;32m--> 420\u001b[1;33m             \u001b[0mX\u001b[0m \u001b[1;33m=\u001b[0m \u001b[0mcheck_array\u001b[0m\u001b[1;33m(\u001b[0m\u001b[0mX\u001b[0m\u001b[1;33m,\u001b[0m \u001b[1;33m**\u001b[0m\u001b[0mcheck_params\u001b[0m\u001b[1;33m)\u001b[0m\u001b[1;33m\u001b[0m\u001b[1;33m\u001b[0m\u001b[0m\n\u001b[0m\u001b[0;32m    421\u001b[0m             \u001b[0mout\u001b[0m \u001b[1;33m=\u001b[0m \u001b[0mX\u001b[0m\u001b[1;33m\u001b[0m\u001b[1;33m\u001b[0m\u001b[0m\n\u001b[0;32m    422\u001b[0m         \u001b[1;32melse\u001b[0m\u001b[1;33m:\u001b[0m\u001b[1;33m\u001b[0m\u001b[1;33m\u001b[0m\u001b[0m\n",
      "\u001b[1;32m~\\anaconda3\\envs\\learn-env\\lib\\site-packages\\sklearn\\utils\\validation.py\u001b[0m in \u001b[0;36minner_f\u001b[1;34m(*args, **kwargs)\u001b[0m\n\u001b[0;32m     70\u001b[0m                           FutureWarning)\n\u001b[0;32m     71\u001b[0m         \u001b[0mkwargs\u001b[0m\u001b[1;33m.\u001b[0m\u001b[0mupdate\u001b[0m\u001b[1;33m(\u001b[0m\u001b[1;33m{\u001b[0m\u001b[0mk\u001b[0m\u001b[1;33m:\u001b[0m \u001b[0marg\u001b[0m \u001b[1;32mfor\u001b[0m \u001b[0mk\u001b[0m\u001b[1;33m,\u001b[0m \u001b[0marg\u001b[0m \u001b[1;32min\u001b[0m \u001b[0mzip\u001b[0m\u001b[1;33m(\u001b[0m\u001b[0msig\u001b[0m\u001b[1;33m.\u001b[0m\u001b[0mparameters\u001b[0m\u001b[1;33m,\u001b[0m \u001b[0margs\u001b[0m\u001b[1;33m)\u001b[0m\u001b[1;33m}\u001b[0m\u001b[1;33m)\u001b[0m\u001b[1;33m\u001b[0m\u001b[1;33m\u001b[0m\u001b[0m\n\u001b[1;32m---> 72\u001b[1;33m         \u001b[1;32mreturn\u001b[0m \u001b[0mf\u001b[0m\u001b[1;33m(\u001b[0m\u001b[1;33m**\u001b[0m\u001b[0mkwargs\u001b[0m\u001b[1;33m)\u001b[0m\u001b[1;33m\u001b[0m\u001b[1;33m\u001b[0m\u001b[0m\n\u001b[0m\u001b[0;32m     73\u001b[0m     \u001b[1;32mreturn\u001b[0m \u001b[0minner_f\u001b[0m\u001b[1;33m\u001b[0m\u001b[1;33m\u001b[0m\u001b[0m\n\u001b[0;32m     74\u001b[0m \u001b[1;33m\u001b[0m\u001b[0m\n",
      "\u001b[1;32m~\\anaconda3\\envs\\learn-env\\lib\\site-packages\\sklearn\\utils\\validation.py\u001b[0m in \u001b[0;36mcheck_array\u001b[1;34m(array, accept_sparse, accept_large_sparse, dtype, order, copy, force_all_finite, ensure_2d, allow_nd, ensure_min_samples, ensure_min_features, estimator)\u001b[0m\n\u001b[0;32m    596\u001b[0m                     \u001b[0marray\u001b[0m \u001b[1;33m=\u001b[0m \u001b[0marray\u001b[0m\u001b[1;33m.\u001b[0m\u001b[0mastype\u001b[0m\u001b[1;33m(\u001b[0m\u001b[0mdtype\u001b[0m\u001b[1;33m,\u001b[0m \u001b[0mcasting\u001b[0m\u001b[1;33m=\u001b[0m\u001b[1;34m\"unsafe\"\u001b[0m\u001b[1;33m,\u001b[0m \u001b[0mcopy\u001b[0m\u001b[1;33m=\u001b[0m\u001b[1;32mFalse\u001b[0m\u001b[1;33m)\u001b[0m\u001b[1;33m\u001b[0m\u001b[1;33m\u001b[0m\u001b[0m\n\u001b[0;32m    597\u001b[0m                 \u001b[1;32melse\u001b[0m\u001b[1;33m:\u001b[0m\u001b[1;33m\u001b[0m\u001b[1;33m\u001b[0m\u001b[0m\n\u001b[1;32m--> 598\u001b[1;33m                     \u001b[0marray\u001b[0m \u001b[1;33m=\u001b[0m \u001b[0mnp\u001b[0m\u001b[1;33m.\u001b[0m\u001b[0masarray\u001b[0m\u001b[1;33m(\u001b[0m\u001b[0marray\u001b[0m\u001b[1;33m,\u001b[0m \u001b[0morder\u001b[0m\u001b[1;33m=\u001b[0m\u001b[0morder\u001b[0m\u001b[1;33m,\u001b[0m \u001b[0mdtype\u001b[0m\u001b[1;33m=\u001b[0m\u001b[0mdtype\u001b[0m\u001b[1;33m)\u001b[0m\u001b[1;33m\u001b[0m\u001b[1;33m\u001b[0m\u001b[0m\n\u001b[0m\u001b[0;32m    599\u001b[0m             \u001b[1;32mexcept\u001b[0m \u001b[0mComplexWarning\u001b[0m\u001b[1;33m:\u001b[0m\u001b[1;33m\u001b[0m\u001b[1;33m\u001b[0m\u001b[0m\n\u001b[0;32m    600\u001b[0m                 raise ValueError(\"Complex data not supported\\n\"\n",
      "\u001b[1;32m~\\anaconda3\\envs\\learn-env\\lib\\site-packages\\numpy\\core\\_asarray.py\u001b[0m in \u001b[0;36masarray\u001b[1;34m(a, dtype, order)\u001b[0m\n\u001b[0;32m     83\u001b[0m \u001b[1;33m\u001b[0m\u001b[0m\n\u001b[0;32m     84\u001b[0m     \"\"\"\n\u001b[1;32m---> 85\u001b[1;33m     \u001b[1;32mreturn\u001b[0m \u001b[0marray\u001b[0m\u001b[1;33m(\u001b[0m\u001b[0ma\u001b[0m\u001b[1;33m,\u001b[0m \u001b[0mdtype\u001b[0m\u001b[1;33m,\u001b[0m \u001b[0mcopy\u001b[0m\u001b[1;33m=\u001b[0m\u001b[1;32mFalse\u001b[0m\u001b[1;33m,\u001b[0m \u001b[0morder\u001b[0m\u001b[1;33m=\u001b[0m\u001b[0morder\u001b[0m\u001b[1;33m)\u001b[0m\u001b[1;33m\u001b[0m\u001b[1;33m\u001b[0m\u001b[0m\n\u001b[0m\u001b[0;32m     86\u001b[0m \u001b[1;33m\u001b[0m\u001b[0m\n\u001b[0;32m     87\u001b[0m \u001b[1;33m\u001b[0m\u001b[0m\n",
      "\u001b[1;32m~\\anaconda3\\envs\\learn-env\\lib\\site-packages\\pandas\\core\\series.py\u001b[0m in \u001b[0;36m__array__\u001b[1;34m(self, dtype)\u001b[0m\n\u001b[0;32m    795\u001b[0m               dtype='datetime64[ns]')\n\u001b[0;32m    796\u001b[0m         \"\"\"\n\u001b[1;32m--> 797\u001b[1;33m         \u001b[1;32mreturn\u001b[0m \u001b[0mnp\u001b[0m\u001b[1;33m.\u001b[0m\u001b[0masarray\u001b[0m\u001b[1;33m(\u001b[0m\u001b[0mself\u001b[0m\u001b[1;33m.\u001b[0m\u001b[0marray\u001b[0m\u001b[1;33m,\u001b[0m \u001b[0mdtype\u001b[0m\u001b[1;33m)\u001b[0m\u001b[1;33m\u001b[0m\u001b[1;33m\u001b[0m\u001b[0m\n\u001b[0m\u001b[0;32m    798\u001b[0m \u001b[1;33m\u001b[0m\u001b[0m\n\u001b[0;32m    799\u001b[0m     \u001b[1;31m# ----------------------------------------------------------------------\u001b[0m\u001b[1;33m\u001b[0m\u001b[1;33m\u001b[0m\u001b[1;33m\u001b[0m\u001b[0m\n",
      "\u001b[1;32m~\\anaconda3\\envs\\learn-env\\lib\\site-packages\\numpy\\core\\_asarray.py\u001b[0m in \u001b[0;36masarray\u001b[1;34m(a, dtype, order)\u001b[0m\n\u001b[0;32m     83\u001b[0m \u001b[1;33m\u001b[0m\u001b[0m\n\u001b[0;32m     84\u001b[0m     \"\"\"\n\u001b[1;32m---> 85\u001b[1;33m     \u001b[1;32mreturn\u001b[0m \u001b[0marray\u001b[0m\u001b[1;33m(\u001b[0m\u001b[0ma\u001b[0m\u001b[1;33m,\u001b[0m \u001b[0mdtype\u001b[0m\u001b[1;33m,\u001b[0m \u001b[0mcopy\u001b[0m\u001b[1;33m=\u001b[0m\u001b[1;32mFalse\u001b[0m\u001b[1;33m,\u001b[0m \u001b[0morder\u001b[0m\u001b[1;33m=\u001b[0m\u001b[0morder\u001b[0m\u001b[1;33m)\u001b[0m\u001b[1;33m\u001b[0m\u001b[1;33m\u001b[0m\u001b[0m\n\u001b[0m\u001b[0;32m     86\u001b[0m \u001b[1;33m\u001b[0m\u001b[0m\n\u001b[0;32m     87\u001b[0m \u001b[1;33m\u001b[0m\u001b[0m\n",
      "\u001b[1;32m~\\anaconda3\\envs\\learn-env\\lib\\site-packages\\pandas\\core\\arrays\\numpy_.py\u001b[0m in \u001b[0;36m__array__\u001b[1;34m(self, dtype)\u001b[0m\n\u001b[0;32m    209\u001b[0m \u001b[1;33m\u001b[0m\u001b[0m\n\u001b[0;32m    210\u001b[0m     \u001b[1;32mdef\u001b[0m \u001b[0m__array__\u001b[0m\u001b[1;33m(\u001b[0m\u001b[0mself\u001b[0m\u001b[1;33m,\u001b[0m \u001b[0mdtype\u001b[0m\u001b[1;33m=\u001b[0m\u001b[1;32mNone\u001b[0m\u001b[1;33m)\u001b[0m \u001b[1;33m->\u001b[0m \u001b[0mnp\u001b[0m\u001b[1;33m.\u001b[0m\u001b[0mndarray\u001b[0m\u001b[1;33m:\u001b[0m\u001b[1;33m\u001b[0m\u001b[1;33m\u001b[0m\u001b[0m\n\u001b[1;32m--> 211\u001b[1;33m         \u001b[1;32mreturn\u001b[0m \u001b[0mnp\u001b[0m\u001b[1;33m.\u001b[0m\u001b[0masarray\u001b[0m\u001b[1;33m(\u001b[0m\u001b[0mself\u001b[0m\u001b[1;33m.\u001b[0m\u001b[0m_ndarray\u001b[0m\u001b[1;33m,\u001b[0m \u001b[0mdtype\u001b[0m\u001b[1;33m=\u001b[0m\u001b[0mdtype\u001b[0m\u001b[1;33m)\u001b[0m\u001b[1;33m\u001b[0m\u001b[1;33m\u001b[0m\u001b[0m\n\u001b[0m\u001b[0;32m    212\u001b[0m \u001b[1;33m\u001b[0m\u001b[0m\n\u001b[0;32m    213\u001b[0m     \u001b[0m_HANDLED_TYPES\u001b[0m \u001b[1;33m=\u001b[0m \u001b[1;33m(\u001b[0m\u001b[0mnp\u001b[0m\u001b[1;33m.\u001b[0m\u001b[0mndarray\u001b[0m\u001b[1;33m,\u001b[0m \u001b[0mnumbers\u001b[0m\u001b[1;33m.\u001b[0m\u001b[0mNumber\u001b[0m\u001b[1;33m)\u001b[0m\u001b[1;33m\u001b[0m\u001b[1;33m\u001b[0m\u001b[0m\n",
      "\u001b[1;32m~\\anaconda3\\envs\\learn-env\\lib\\site-packages\\numpy\\core\\_asarray.py\u001b[0m in \u001b[0;36masarray\u001b[1;34m(a, dtype, order)\u001b[0m\n\u001b[0;32m     83\u001b[0m \u001b[1;33m\u001b[0m\u001b[0m\n\u001b[0;32m     84\u001b[0m     \"\"\"\n\u001b[1;32m---> 85\u001b[1;33m     \u001b[1;32mreturn\u001b[0m \u001b[0marray\u001b[0m\u001b[1;33m(\u001b[0m\u001b[0ma\u001b[0m\u001b[1;33m,\u001b[0m \u001b[0mdtype\u001b[0m\u001b[1;33m,\u001b[0m \u001b[0mcopy\u001b[0m\u001b[1;33m=\u001b[0m\u001b[1;32mFalse\u001b[0m\u001b[1;33m,\u001b[0m \u001b[0morder\u001b[0m\u001b[1;33m=\u001b[0m\u001b[0morder\u001b[0m\u001b[1;33m)\u001b[0m\u001b[1;33m\u001b[0m\u001b[1;33m\u001b[0m\u001b[0m\n\u001b[0m\u001b[0;32m     86\u001b[0m \u001b[1;33m\u001b[0m\u001b[0m\n\u001b[0;32m     87\u001b[0m \u001b[1;33m\u001b[0m\u001b[0m\n",
      "\u001b[1;31mValueError\u001b[0m: could not convert string to float: 'pleased berry component prominent giving tart emphasis blonde refreshing nicely'"
     ]
    }
   ],
   "source": [
    "#scale X_train and X_test for svm\n",
    "\n",
    "scaler = StandardScaler()\n",
    "scaled_data_train = scaler.fit_transform(tfidf_data_train)\n",
    "scaled_data_test = scaler.transform(tfidf_data_test)"
   ]
  },
  {
   "cell_type": "code",
   "execution_count": null,
   "metadata": {},
   "outputs": [],
   "source": []
  },
  {
   "cell_type": "code",
   "execution_count": 369,
   "metadata": {
    "scrolled": true
   },
   "outputs": [],
   "source": [
    "from sklearn.linear_model import LogisticRegression\n",
    "\n",
    "logreg = LogisticRegression(fit_intercept=False, C=1e12, solver='liblinear')\n",
    "model_log = logreg.fit(tfidf_data_train, target_train)"
   ]
  },
  {
   "cell_type": "code",
   "execution_count": 370,
   "metadata": {},
   "outputs": [],
   "source": [
    "log_test_pred = model_log.predict(tfidf_data_test)"
   ]
  },
  {
   "cell_type": "code",
   "execution_count": 372,
   "metadata": {},
   "outputs": [
    {
     "name": "stdout",
     "output_type": "stream",
     "text": [
      "Random Forest with Stematized Features:\n",
      "---------------\n",
      "Recall: 0.5882\n",
      "Testing Accuracy: 0.5882\n",
      "F1 Score: 0.5991\n"
     ]
    }
   ],
   "source": [
    "log_recall = recall_score(target_test, log_test_pred, average='weighted')\n",
    "log_acc_score = accuracy_score(target_test, log_test_pred)\n",
    "log_f1_score = f1_score(target_test, log_test_pred, average='weighted')\n",
    "print('Random Forest with Stematized Features:')\n",
    "print(3*'-----')\n",
    "\n",
    "print('Recall: {:.4}'.format(log_recall))\n",
    "\n",
    "print(\"Testing Accuracy: {:.4}\".format(log_acc_score))\n",
    "print(\"F1 Score: {:.4}\".format(log_f1_score))"
   ]
  },
  {
   "cell_type": "code",
   "execution_count": null,
   "metadata": {},
   "outputs": [],
   "source": []
  },
  {
   "cell_type": "code",
   "execution_count": null,
   "metadata": {},
   "outputs": [],
   "source": []
  },
  {
   "cell_type": "markdown",
   "metadata": {},
   "source": [
    "### end of test"
   ]
  },
  {
   "cell_type": "code",
   "execution_count": 41,
   "metadata": {},
   "outputs": [],
   "source": [
    "beer_df['tf_array'] = beer_df.apply(lambda row: row['tf_matrix'].toarray(), axis = 1)"
   ]
  },
  {
   "cell_type": "code",
   "execution_count": 59,
   "metadata": {},
   "outputs": [
    {
     "data": {
      "text/plain": [
       "scipy.sparse.csr.csr_matrix"
      ]
     },
     "execution_count": 59,
     "metadata": {},
     "output_type": "execute_result"
    }
   ],
   "source": [
    "type(beer_df['tf_matrix'][0])"
   ]
  },
  {
   "cell_type": "code",
   "execution_count": 60,
   "metadata": {},
   "outputs": [
    {
     "data": {
      "text/plain": [
       "numpy.ndarray"
      ]
     },
     "execution_count": 60,
     "metadata": {},
     "output_type": "execute_result"
    }
   ],
   "source": [
    "type(beer_df['tf_array'][0])"
   ]
  },
  {
   "cell_type": "code",
   "execution_count": null,
   "metadata": {},
   "outputs": [],
   "source": [
    "#running the clean_reviews column through tfidf\n",
    "beer_l = beer_df['clean_reviews'].values.tolist()\n",
    "type(beer_l)"
   ]
  },
  {
   "cell_type": "code",
   "execution_count": null,
   "metadata": {},
   "outputs": [],
   "source": [
    "collected_c_r = count_word_frequency(tfidf, beer_l)"
   ]
  },
  {
   "cell_type": "code",
   "execution_count": null,
   "metadata": {},
   "outputs": [],
   "source": [
    "#running the naked_reviews column through tfidf\n",
    "beer_r = beer_df['naked_reviews'].values.tolist()\n",
    "type(beer_r)"
   ]
  },
  {
   "cell_type": "code",
   "execution_count": null,
   "metadata": {},
   "outputs": [],
   "source": [
    "collected_n_r = count_word_frequency(tfidf, beer_r)"
   ]
  },
  {
   "cell_type": "code",
   "execution_count": null,
   "metadata": {},
   "outputs": [],
   "source": [
    "type(collected_n_r)"
   ]
  },
  {
   "cell_type": "code",
   "execution_count": 49,
   "metadata": {},
   "outputs": [
    {
     "data": {
      "text/plain": [
       "numpy.float64"
      ]
     },
     "execution_count": 49,
     "metadata": {},
     "output_type": "execute_result"
    }
   ],
   "source": [
    "type(beer_df['avg_rating'][0])"
   ]
  },
  {
   "cell_type": "code",
   "execution_count": 34,
   "metadata": {},
   "outputs": [
    {
     "data": {
      "text/plain": [
       "list"
      ]
     },
     "execution_count": 34,
     "metadata": {},
     "output_type": "execute_result"
    }
   ],
   "source": [
    "type(beer_df['clean_reviews'][0])"
   ]
  },
  {
   "cell_type": "code",
   "execution_count": 35,
   "metadata": {},
   "outputs": [
    {
     "data": {
      "text/plain": [
       "str"
      ]
     },
     "execution_count": 35,
     "metadata": {},
     "output_type": "execute_result"
    }
   ],
   "source": [
    "type(beer_df['naked_reviews'][0])"
   ]
  },
  {
   "cell_type": "code",
   "execution_count": 54,
   "metadata": {
    "collapsed": true
   },
   "outputs": [
    {
     "ename": "AttributeError",
     "evalue": "lower not found",
     "output_type": "error",
     "traceback": [
      "\u001b[1;31m---------------------------------------------------------------------------\u001b[0m",
      "\u001b[1;31mAttributeError\u001b[0m                            Traceback (most recent call last)",
      "\u001b[1;32m<ipython-input-54-82163786ac0f>\u001b[0m in \u001b[0;36m<module>\u001b[1;34m\u001b[0m\n\u001b[1;32m----> 1\u001b[1;33m \u001b[0mtext_tf\u001b[0m \u001b[1;33m=\u001b[0m \u001b[0mtfidf\u001b[0m\u001b[1;33m.\u001b[0m\u001b[0mfit_transform\u001b[0m\u001b[1;33m(\u001b[0m\u001b[0mbeer_df\u001b[0m\u001b[1;33m[\u001b[0m\u001b[1;34m'tf_matrix'\u001b[0m\u001b[1;33m]\u001b[0m\u001b[1;33m)\u001b[0m\u001b[1;33m\u001b[0m\u001b[1;33m\u001b[0m\u001b[0m\n\u001b[0m",
      "\u001b[1;32m~\\anaconda3\\envs\\learn-env\\lib\\site-packages\\sklearn\\feature_extraction\\text.py\u001b[0m in \u001b[0;36mfit_transform\u001b[1;34m(self, raw_documents, y)\u001b[0m\n\u001b[0;32m   1839\u001b[0m         \"\"\"\n\u001b[0;32m   1840\u001b[0m         \u001b[0mself\u001b[0m\u001b[1;33m.\u001b[0m\u001b[0m_check_params\u001b[0m\u001b[1;33m(\u001b[0m\u001b[1;33m)\u001b[0m\u001b[1;33m\u001b[0m\u001b[1;33m\u001b[0m\u001b[0m\n\u001b[1;32m-> 1841\u001b[1;33m         \u001b[0mX\u001b[0m \u001b[1;33m=\u001b[0m \u001b[0msuper\u001b[0m\u001b[1;33m(\u001b[0m\u001b[1;33m)\u001b[0m\u001b[1;33m.\u001b[0m\u001b[0mfit_transform\u001b[0m\u001b[1;33m(\u001b[0m\u001b[0mraw_documents\u001b[0m\u001b[1;33m)\u001b[0m\u001b[1;33m\u001b[0m\u001b[1;33m\u001b[0m\u001b[0m\n\u001b[0m\u001b[0;32m   1842\u001b[0m         \u001b[0mself\u001b[0m\u001b[1;33m.\u001b[0m\u001b[0m_tfidf\u001b[0m\u001b[1;33m.\u001b[0m\u001b[0mfit\u001b[0m\u001b[1;33m(\u001b[0m\u001b[0mX\u001b[0m\u001b[1;33m)\u001b[0m\u001b[1;33m\u001b[0m\u001b[1;33m\u001b[0m\u001b[0m\n\u001b[0;32m   1843\u001b[0m         \u001b[1;31m# X is already a transformed view of raw_documents so\u001b[0m\u001b[1;33m\u001b[0m\u001b[1;33m\u001b[0m\u001b[1;33m\u001b[0m\u001b[0m\n",
      "\u001b[1;32m~\\anaconda3\\envs\\learn-env\\lib\\site-packages\\sklearn\\feature_extraction\\text.py\u001b[0m in \u001b[0;36mfit_transform\u001b[1;34m(self, raw_documents, y)\u001b[0m\n\u001b[0;32m   1196\u001b[0m         \u001b[0mmax_features\u001b[0m \u001b[1;33m=\u001b[0m \u001b[0mself\u001b[0m\u001b[1;33m.\u001b[0m\u001b[0mmax_features\u001b[0m\u001b[1;33m\u001b[0m\u001b[1;33m\u001b[0m\u001b[0m\n\u001b[0;32m   1197\u001b[0m \u001b[1;33m\u001b[0m\u001b[0m\n\u001b[1;32m-> 1198\u001b[1;33m         vocabulary, X = self._count_vocab(raw_documents,\n\u001b[0m\u001b[0;32m   1199\u001b[0m                                           self.fixed_vocabulary_)\n\u001b[0;32m   1200\u001b[0m \u001b[1;33m\u001b[0m\u001b[0m\n",
      "\u001b[1;32m~\\anaconda3\\envs\\learn-env\\lib\\site-packages\\sklearn\\feature_extraction\\text.py\u001b[0m in \u001b[0;36m_count_vocab\u001b[1;34m(self, raw_documents, fixed_vocab)\u001b[0m\n\u001b[0;32m   1108\u001b[0m         \u001b[1;32mfor\u001b[0m \u001b[0mdoc\u001b[0m \u001b[1;32min\u001b[0m \u001b[0mraw_documents\u001b[0m\u001b[1;33m:\u001b[0m\u001b[1;33m\u001b[0m\u001b[1;33m\u001b[0m\u001b[0m\n\u001b[0;32m   1109\u001b[0m             \u001b[0mfeature_counter\u001b[0m \u001b[1;33m=\u001b[0m \u001b[1;33m{\u001b[0m\u001b[1;33m}\u001b[0m\u001b[1;33m\u001b[0m\u001b[1;33m\u001b[0m\u001b[0m\n\u001b[1;32m-> 1110\u001b[1;33m             \u001b[1;32mfor\u001b[0m \u001b[0mfeature\u001b[0m \u001b[1;32min\u001b[0m \u001b[0manalyze\u001b[0m\u001b[1;33m(\u001b[0m\u001b[0mdoc\u001b[0m\u001b[1;33m)\u001b[0m\u001b[1;33m:\u001b[0m\u001b[1;33m\u001b[0m\u001b[1;33m\u001b[0m\u001b[0m\n\u001b[0m\u001b[0;32m   1111\u001b[0m                 \u001b[1;32mtry\u001b[0m\u001b[1;33m:\u001b[0m\u001b[1;33m\u001b[0m\u001b[1;33m\u001b[0m\u001b[0m\n\u001b[0;32m   1112\u001b[0m                     \u001b[0mfeature_idx\u001b[0m \u001b[1;33m=\u001b[0m \u001b[0mvocabulary\u001b[0m\u001b[1;33m[\u001b[0m\u001b[0mfeature\u001b[0m\u001b[1;33m]\u001b[0m\u001b[1;33m\u001b[0m\u001b[1;33m\u001b[0m\u001b[0m\n",
      "\u001b[1;32m~\\anaconda3\\envs\\learn-env\\lib\\site-packages\\sklearn\\feature_extraction\\text.py\u001b[0m in \u001b[0;36m_analyze\u001b[1;34m(doc, analyzer, tokenizer, ngrams, preprocessor, decoder, stop_words)\u001b[0m\n\u001b[0;32m    102\u001b[0m     \u001b[1;32melse\u001b[0m\u001b[1;33m:\u001b[0m\u001b[1;33m\u001b[0m\u001b[1;33m\u001b[0m\u001b[0m\n\u001b[0;32m    103\u001b[0m         \u001b[1;32mif\u001b[0m \u001b[0mpreprocessor\u001b[0m \u001b[1;32mis\u001b[0m \u001b[1;32mnot\u001b[0m \u001b[1;32mNone\u001b[0m\u001b[1;33m:\u001b[0m\u001b[1;33m\u001b[0m\u001b[1;33m\u001b[0m\u001b[0m\n\u001b[1;32m--> 104\u001b[1;33m             \u001b[0mdoc\u001b[0m \u001b[1;33m=\u001b[0m \u001b[0mpreprocessor\u001b[0m\u001b[1;33m(\u001b[0m\u001b[0mdoc\u001b[0m\u001b[1;33m)\u001b[0m\u001b[1;33m\u001b[0m\u001b[1;33m\u001b[0m\u001b[0m\n\u001b[0m\u001b[0;32m    105\u001b[0m         \u001b[1;32mif\u001b[0m \u001b[0mtokenizer\u001b[0m \u001b[1;32mis\u001b[0m \u001b[1;32mnot\u001b[0m \u001b[1;32mNone\u001b[0m\u001b[1;33m:\u001b[0m\u001b[1;33m\u001b[0m\u001b[1;33m\u001b[0m\u001b[0m\n\u001b[0;32m    106\u001b[0m             \u001b[0mdoc\u001b[0m \u001b[1;33m=\u001b[0m \u001b[0mtokenizer\u001b[0m\u001b[1;33m(\u001b[0m\u001b[0mdoc\u001b[0m\u001b[1;33m)\u001b[0m\u001b[1;33m\u001b[0m\u001b[1;33m\u001b[0m\u001b[0m\n",
      "\u001b[1;32m~\\anaconda3\\envs\\learn-env\\lib\\site-packages\\sklearn\\feature_extraction\\text.py\u001b[0m in \u001b[0;36m_preprocess\u001b[1;34m(doc, accent_function, lower)\u001b[0m\n\u001b[0;32m     67\u001b[0m     \"\"\"\n\u001b[0;32m     68\u001b[0m     \u001b[1;32mif\u001b[0m \u001b[0mlower\u001b[0m\u001b[1;33m:\u001b[0m\u001b[1;33m\u001b[0m\u001b[1;33m\u001b[0m\u001b[0m\n\u001b[1;32m---> 69\u001b[1;33m         \u001b[0mdoc\u001b[0m \u001b[1;33m=\u001b[0m \u001b[0mdoc\u001b[0m\u001b[1;33m.\u001b[0m\u001b[0mlower\u001b[0m\u001b[1;33m(\u001b[0m\u001b[1;33m)\u001b[0m\u001b[1;33m\u001b[0m\u001b[1;33m\u001b[0m\u001b[0m\n\u001b[0m\u001b[0;32m     70\u001b[0m     \u001b[1;32mif\u001b[0m \u001b[0maccent_function\u001b[0m \u001b[1;32mis\u001b[0m \u001b[1;32mnot\u001b[0m \u001b[1;32mNone\u001b[0m\u001b[1;33m:\u001b[0m\u001b[1;33m\u001b[0m\u001b[1;33m\u001b[0m\u001b[0m\n\u001b[0;32m     71\u001b[0m         \u001b[0mdoc\u001b[0m \u001b[1;33m=\u001b[0m \u001b[0maccent_function\u001b[0m\u001b[1;33m(\u001b[0m\u001b[0mdoc\u001b[0m\u001b[1;33m)\u001b[0m\u001b[1;33m\u001b[0m\u001b[1;33m\u001b[0m\u001b[0m\n",
      "\u001b[1;32m~\\anaconda3\\envs\\learn-env\\lib\\site-packages\\scipy\\sparse\\base.py\u001b[0m in \u001b[0;36m__getattr__\u001b[1;34m(self, attr)\u001b[0m\n\u001b[0;32m    685\u001b[0m             \u001b[1;32mreturn\u001b[0m \u001b[0mself\u001b[0m\u001b[1;33m.\u001b[0m\u001b[0mgetnnz\u001b[0m\u001b[1;33m(\u001b[0m\u001b[1;33m)\u001b[0m\u001b[1;33m\u001b[0m\u001b[1;33m\u001b[0m\u001b[0m\n\u001b[0;32m    686\u001b[0m         \u001b[1;32melse\u001b[0m\u001b[1;33m:\u001b[0m\u001b[1;33m\u001b[0m\u001b[1;33m\u001b[0m\u001b[0m\n\u001b[1;32m--> 687\u001b[1;33m             \u001b[1;32mraise\u001b[0m \u001b[0mAttributeError\u001b[0m\u001b[1;33m(\u001b[0m\u001b[0mattr\u001b[0m \u001b[1;33m+\u001b[0m \u001b[1;34m\" not found\"\u001b[0m\u001b[1;33m)\u001b[0m\u001b[1;33m\u001b[0m\u001b[1;33m\u001b[0m\u001b[0m\n\u001b[0m\u001b[0;32m    688\u001b[0m \u001b[1;33m\u001b[0m\u001b[0m\n\u001b[0;32m    689\u001b[0m     \u001b[1;32mdef\u001b[0m \u001b[0mtranspose\u001b[0m\u001b[1;33m(\u001b[0m\u001b[0mself\u001b[0m\u001b[1;33m,\u001b[0m \u001b[0maxes\u001b[0m\u001b[1;33m=\u001b[0m\u001b[1;32mNone\u001b[0m\u001b[1;33m,\u001b[0m \u001b[0mcopy\u001b[0m\u001b[1;33m=\u001b[0m\u001b[1;32mFalse\u001b[0m\u001b[1;33m)\u001b[0m\u001b[1;33m:\u001b[0m\u001b[1;33m\u001b[0m\u001b[1;33m\u001b[0m\u001b[0m\n",
      "\u001b[1;31mAttributeError\u001b[0m: lower not found"
     ]
    }
   ],
   "source": [
    "text_tf = tfidf.fit_transform(beer_df['tf_matrix'])"
   ]
  },
  {
   "cell_type": "code",
   "execution_count": 202,
   "metadata": {},
   "outputs": [
    {
     "data": {
      "text/plain": [
       "0       pours little cloudy little small smell like fr...\n",
       "1       bottle shaker pint hazy copper thick white che...\n",
       "2       beautiful ruby red head dissipates smell inten...\n",
       "3       one favorite summer beer smell taste bit like ...\n",
       "4       pour pink raspberry impressive white head ligh...\n",
       "                              ...                        \n",
       "5639    timmermans flute enjoyed reddish amber foggy f...\n",
       "5648    poured cloudy straw color almost head white ma...\n",
       "5651                                      new shandy hint\n",
       "5652                                               canada\n",
       "5653                                                north\n",
       "Name: naked_reviews, Length: 4077, dtype: object"
      ]
     },
     "execution_count": 202,
     "metadata": {},
     "output_type": "execute_result"
    }
   ],
   "source": [
    "beer_df['naked_reviews']"
   ]
  },
  {
   "cell_type": "code",
   "execution_count": 238,
   "metadata": {},
   "outputs": [],
   "source": [
    "#running train / test / split on naked reviews (str)\n",
    "data_train, data_test, target_train, target_test = train_test_split(beer_df['naked_reviews'], beer_df['avg_rating'].values, test_size=0.20, random_state=21)"
   ]
  },
  {
   "cell_type": "code",
   "execution_count": 236,
   "metadata": {},
   "outputs": [],
   "source": [
    "#running train / test/ split on clean_reviews (list)\n",
    "data_train, data_test, target_train, target_test = train_test_split(beer_df['clean_reviews'], beer_df['avg_rating'].values, test_size=0.20, random_state=21)"
   ]
  },
  {
   "cell_type": "code",
   "execution_count": 191,
   "metadata": {},
   "outputs": [],
   "source": [
    "tfidf = TfidfVectorizer(max_df = .9, min_df=.1)"
   ]
  },
  {
   "cell_type": "code",
   "execution_count": 239,
   "metadata": {},
   "outputs": [
    {
     "name": "stdout",
     "output_type": "stream",
     "text": [
      "(3261, 226)\n",
      "(816, 226)\n"
     ]
    }
   ],
   "source": [
    "tfidf_data_train = tfidf.fit_transform(data_train)\n",
    "tfidf_data_test = tfidf.transform(data_test)\n",
    "\n",
    "print(tfidf_data_train.shape)\n",
    "print(tfidf_data_test.shape)"
   ]
  },
  {
   "cell_type": "code",
   "execution_count": 203,
   "metadata": {},
   "outputs": [
    {
     "name": "stdout",
     "output_type": "stream",
     "text": [
      "Average Number of Non-Zero Elements in Vectorized Articles: 42.61729530818767\n",
      "Percentage of columns containing 0: 0.8114278968664262\n"
     ]
    }
   ],
   "source": [
    "non_zero_cols = tfidf_data_train.nnz / float(tfidf_data_train.shape[0])\n",
    "print(\"Average Number of Non-Zero Elements in Vectorized Articles: {}\".format(non_zero_cols))\n",
    "\n",
    "percent_sparse = 1 - (non_zero_cols / float(tfidf_data_train.shape[1]))\n",
    "print('Percentage of columns containing 0: {}'.format(percent_sparse))"
   ]
  },
  {
   "cell_type": "code",
   "execution_count": 223,
   "metadata": {},
   "outputs": [
    {
     "data": {
      "text/plain": [
       "array([[0.        , 0.        , 0.        , ..., 0.        , 0.        ,\n",
       "        0.        ],\n",
       "       [0.        , 0.        , 0.        , ..., 0.        , 0.        ,\n",
       "        0.        ],\n",
       "       [0.        , 0.        , 0.        , ..., 0.12002252, 0.        ,\n",
       "        0.        ],\n",
       "       ...,\n",
       "       [0.        , 0.        , 0.        , ..., 0.        , 0.        ,\n",
       "        0.        ],\n",
       "       [0.        , 0.        , 0.        , ..., 0.15972417, 0.        ,\n",
       "        0.        ],\n",
       "       [0.        , 0.        , 0.        , ..., 0.        , 0.        ,\n",
       "        0.        ]])"
      ]
     },
     "execution_count": 223,
     "metadata": {},
     "output_type": "execute_result"
    }
   ],
   "source": [
    "tfidf_data_train.toarray()"
   ]
  },
  {
   "cell_type": "code",
   "execution_count": 233,
   "metadata": {},
   "outputs": [
    {
     "data": {
      "text/plain": [
       "array([0.69485207, 0.7191527 , 0.34586865, ..., 0.14072918, 0.07282541,\n",
       "       1.        ])"
      ]
     },
     "execution_count": 233,
     "metadata": {},
     "output_type": "execute_result"
    }
   ],
   "source": [
    "tfidf_data_train.reshape(-1, 1).data"
   ]
  },
  {
   "cell_type": "code",
   "execution_count": 235,
   "metadata": {},
   "outputs": [
    {
     "name": "stdout",
     "output_type": "stream",
     "text": [
      "<class 'numpy.ndarray'>\n"
     ]
    },
    {
     "data": {
      "text/plain": [
       "array([0.69485207, 0.7191527 , 0.34586865, ..., 0.14072918, 0.07282541,\n",
       "       1.        ])"
      ]
     },
     "execution_count": 235,
     "metadata": {},
     "output_type": "execute_result"
    }
   ],
   "source": [
    "print(type(tfidf_data_train.toarray()))\n",
    "tfidf_data_train.data"
   ]
  },
  {
   "cell_type": "code",
   "execution_count": 225,
   "metadata": {},
   "outputs": [
    {
     "data": {
      "text/plain": [
       "array([3.5 , 2.99, 3.74, ..., 3.67, 3.46, 3.51])"
      ]
     },
     "execution_count": 225,
     "metadata": {},
     "output_type": "execute_result"
    }
   ],
   "source": [
    "target_train"
   ]
  },
  {
   "cell_type": "code",
   "execution_count": 230,
   "metadata": {},
   "outputs": [
    {
     "ename": "ValueError",
     "evalue": "Expected 2D array, got 1D array instead:\narray=[0.69485205 0.7191527  0.34586865 ... 0.14072917 0.0728254  1.        ].\nReshape your data either using array.reshape(-1, 1) if your data has a single feature or array.reshape(1, -1) if it contains a single sample.",
     "output_type": "error",
     "traceback": [
      "\u001b[1;31m---------------------------------------------------------------------------\u001b[0m",
      "\u001b[1;31mValueError\u001b[0m                                Traceback (most recent call last)",
      "\u001b[1;32m<ipython-input-230-494432f79838>\u001b[0m in \u001b[0;36m<module>\u001b[1;34m\u001b[0m\n\u001b[0;32m      1\u001b[0m \u001b[0mrf\u001b[0m \u001b[1;33m=\u001b[0m \u001b[0mRandomForestClassifier\u001b[0m\u001b[1;33m(\u001b[0m\u001b[0mrandom_state\u001b[0m \u001b[1;33m=\u001b[0m \u001b[1;36m21\u001b[0m\u001b[1;33m)\u001b[0m\u001b[1;31m#max_depth=10,max_features=10)\u001b[0m\u001b[1;33m\u001b[0m\u001b[1;33m\u001b[0m\u001b[0m\n\u001b[1;32m----> 2\u001b[1;33m \u001b[0mrf\u001b[0m\u001b[1;33m.\u001b[0m\u001b[0mfit\u001b[0m\u001b[1;33m(\u001b[0m\u001b[0mtfidf_data_train\u001b[0m\u001b[1;33m.\u001b[0m\u001b[0mdata\u001b[0m\u001b[1;33m,\u001b[0m\u001b[0mtarget_train\u001b[0m\u001b[1;33m)\u001b[0m\u001b[1;33m\u001b[0m\u001b[1;33m\u001b[0m\u001b[0m\n\u001b[0m",
      "\u001b[1;32m~\\anaconda3\\envs\\learn-env\\lib\\site-packages\\sklearn\\ensemble\\_forest.py\u001b[0m in \u001b[0;36mfit\u001b[1;34m(self, X, y, sample_weight)\u001b[0m\n\u001b[0;32m    301\u001b[0m                 \u001b[1;34m\"sparse multilabel-indicator for y is not supported.\"\u001b[0m\u001b[1;33m\u001b[0m\u001b[1;33m\u001b[0m\u001b[0m\n\u001b[0;32m    302\u001b[0m             )\n\u001b[1;32m--> 303\u001b[1;33m         X, y = self._validate_data(X, y, multi_output=True,\n\u001b[0m\u001b[0;32m    304\u001b[0m                                    accept_sparse=\"csc\", dtype=DTYPE)\n\u001b[0;32m    305\u001b[0m         \u001b[1;32mif\u001b[0m \u001b[0msample_weight\u001b[0m \u001b[1;32mis\u001b[0m \u001b[1;32mnot\u001b[0m \u001b[1;32mNone\u001b[0m\u001b[1;33m:\u001b[0m\u001b[1;33m\u001b[0m\u001b[1;33m\u001b[0m\u001b[0m\n",
      "\u001b[1;32m~\\anaconda3\\envs\\learn-env\\lib\\site-packages\\sklearn\\base.py\u001b[0m in \u001b[0;36m_validate_data\u001b[1;34m(self, X, y, reset, validate_separately, **check_params)\u001b[0m\n\u001b[0;32m    430\u001b[0m                 \u001b[0my\u001b[0m \u001b[1;33m=\u001b[0m \u001b[0mcheck_array\u001b[0m\u001b[1;33m(\u001b[0m\u001b[0my\u001b[0m\u001b[1;33m,\u001b[0m \u001b[1;33m**\u001b[0m\u001b[0mcheck_y_params\u001b[0m\u001b[1;33m)\u001b[0m\u001b[1;33m\u001b[0m\u001b[1;33m\u001b[0m\u001b[0m\n\u001b[0;32m    431\u001b[0m             \u001b[1;32melse\u001b[0m\u001b[1;33m:\u001b[0m\u001b[1;33m\u001b[0m\u001b[1;33m\u001b[0m\u001b[0m\n\u001b[1;32m--> 432\u001b[1;33m                 \u001b[0mX\u001b[0m\u001b[1;33m,\u001b[0m \u001b[0my\u001b[0m \u001b[1;33m=\u001b[0m \u001b[0mcheck_X_y\u001b[0m\u001b[1;33m(\u001b[0m\u001b[0mX\u001b[0m\u001b[1;33m,\u001b[0m \u001b[0my\u001b[0m\u001b[1;33m,\u001b[0m \u001b[1;33m**\u001b[0m\u001b[0mcheck_params\u001b[0m\u001b[1;33m)\u001b[0m\u001b[1;33m\u001b[0m\u001b[1;33m\u001b[0m\u001b[0m\n\u001b[0m\u001b[0;32m    433\u001b[0m             \u001b[0mout\u001b[0m \u001b[1;33m=\u001b[0m \u001b[0mX\u001b[0m\u001b[1;33m,\u001b[0m \u001b[0my\u001b[0m\u001b[1;33m\u001b[0m\u001b[1;33m\u001b[0m\u001b[0m\n\u001b[0;32m    434\u001b[0m \u001b[1;33m\u001b[0m\u001b[0m\n",
      "\u001b[1;32m~\\anaconda3\\envs\\learn-env\\lib\\site-packages\\sklearn\\utils\\validation.py\u001b[0m in \u001b[0;36minner_f\u001b[1;34m(*args, **kwargs)\u001b[0m\n\u001b[0;32m     70\u001b[0m                           FutureWarning)\n\u001b[0;32m     71\u001b[0m         \u001b[0mkwargs\u001b[0m\u001b[1;33m.\u001b[0m\u001b[0mupdate\u001b[0m\u001b[1;33m(\u001b[0m\u001b[1;33m{\u001b[0m\u001b[0mk\u001b[0m\u001b[1;33m:\u001b[0m \u001b[0marg\u001b[0m \u001b[1;32mfor\u001b[0m \u001b[0mk\u001b[0m\u001b[1;33m,\u001b[0m \u001b[0marg\u001b[0m \u001b[1;32min\u001b[0m \u001b[0mzip\u001b[0m\u001b[1;33m(\u001b[0m\u001b[0msig\u001b[0m\u001b[1;33m.\u001b[0m\u001b[0mparameters\u001b[0m\u001b[1;33m,\u001b[0m \u001b[0margs\u001b[0m\u001b[1;33m)\u001b[0m\u001b[1;33m}\u001b[0m\u001b[1;33m)\u001b[0m\u001b[1;33m\u001b[0m\u001b[1;33m\u001b[0m\u001b[0m\n\u001b[1;32m---> 72\u001b[1;33m         \u001b[1;32mreturn\u001b[0m \u001b[0mf\u001b[0m\u001b[1;33m(\u001b[0m\u001b[1;33m**\u001b[0m\u001b[0mkwargs\u001b[0m\u001b[1;33m)\u001b[0m\u001b[1;33m\u001b[0m\u001b[1;33m\u001b[0m\u001b[0m\n\u001b[0m\u001b[0;32m     73\u001b[0m     \u001b[1;32mreturn\u001b[0m \u001b[0minner_f\u001b[0m\u001b[1;33m\u001b[0m\u001b[1;33m\u001b[0m\u001b[0m\n\u001b[0;32m     74\u001b[0m \u001b[1;33m\u001b[0m\u001b[0m\n",
      "\u001b[1;32m~\\anaconda3\\envs\\learn-env\\lib\\site-packages\\sklearn\\utils\\validation.py\u001b[0m in \u001b[0;36mcheck_X_y\u001b[1;34m(X, y, accept_sparse, accept_large_sparse, dtype, order, copy, force_all_finite, ensure_2d, allow_nd, multi_output, ensure_min_samples, ensure_min_features, y_numeric, estimator)\u001b[0m\n\u001b[0;32m    793\u001b[0m         \u001b[1;32mraise\u001b[0m \u001b[0mValueError\u001b[0m\u001b[1;33m(\u001b[0m\u001b[1;34m\"y cannot be None\"\u001b[0m\u001b[1;33m)\u001b[0m\u001b[1;33m\u001b[0m\u001b[1;33m\u001b[0m\u001b[0m\n\u001b[0;32m    794\u001b[0m \u001b[1;33m\u001b[0m\u001b[0m\n\u001b[1;32m--> 795\u001b[1;33m     X = check_array(X, accept_sparse=accept_sparse,\n\u001b[0m\u001b[0;32m    796\u001b[0m                     \u001b[0maccept_large_sparse\u001b[0m\u001b[1;33m=\u001b[0m\u001b[0maccept_large_sparse\u001b[0m\u001b[1;33m,\u001b[0m\u001b[1;33m\u001b[0m\u001b[1;33m\u001b[0m\u001b[0m\n\u001b[0;32m    797\u001b[0m                     \u001b[0mdtype\u001b[0m\u001b[1;33m=\u001b[0m\u001b[0mdtype\u001b[0m\u001b[1;33m,\u001b[0m \u001b[0morder\u001b[0m\u001b[1;33m=\u001b[0m\u001b[0morder\u001b[0m\u001b[1;33m,\u001b[0m \u001b[0mcopy\u001b[0m\u001b[1;33m=\u001b[0m\u001b[0mcopy\u001b[0m\u001b[1;33m,\u001b[0m\u001b[1;33m\u001b[0m\u001b[1;33m\u001b[0m\u001b[0m\n",
      "\u001b[1;32m~\\anaconda3\\envs\\learn-env\\lib\\site-packages\\sklearn\\utils\\validation.py\u001b[0m in \u001b[0;36minner_f\u001b[1;34m(*args, **kwargs)\u001b[0m\n\u001b[0;32m     70\u001b[0m                           FutureWarning)\n\u001b[0;32m     71\u001b[0m         \u001b[0mkwargs\u001b[0m\u001b[1;33m.\u001b[0m\u001b[0mupdate\u001b[0m\u001b[1;33m(\u001b[0m\u001b[1;33m{\u001b[0m\u001b[0mk\u001b[0m\u001b[1;33m:\u001b[0m \u001b[0marg\u001b[0m \u001b[1;32mfor\u001b[0m \u001b[0mk\u001b[0m\u001b[1;33m,\u001b[0m \u001b[0marg\u001b[0m \u001b[1;32min\u001b[0m \u001b[0mzip\u001b[0m\u001b[1;33m(\u001b[0m\u001b[0msig\u001b[0m\u001b[1;33m.\u001b[0m\u001b[0mparameters\u001b[0m\u001b[1;33m,\u001b[0m \u001b[0margs\u001b[0m\u001b[1;33m)\u001b[0m\u001b[1;33m}\u001b[0m\u001b[1;33m)\u001b[0m\u001b[1;33m\u001b[0m\u001b[1;33m\u001b[0m\u001b[0m\n\u001b[1;32m---> 72\u001b[1;33m         \u001b[1;32mreturn\u001b[0m \u001b[0mf\u001b[0m\u001b[1;33m(\u001b[0m\u001b[1;33m**\u001b[0m\u001b[0mkwargs\u001b[0m\u001b[1;33m)\u001b[0m\u001b[1;33m\u001b[0m\u001b[1;33m\u001b[0m\u001b[0m\n\u001b[0m\u001b[0;32m     73\u001b[0m     \u001b[1;32mreturn\u001b[0m \u001b[0minner_f\u001b[0m\u001b[1;33m\u001b[0m\u001b[1;33m\u001b[0m\u001b[0m\n\u001b[0;32m     74\u001b[0m \u001b[1;33m\u001b[0m\u001b[0m\n",
      "\u001b[1;32m~\\anaconda3\\envs\\learn-env\\lib\\site-packages\\sklearn\\utils\\validation.py\u001b[0m in \u001b[0;36mcheck_array\u001b[1;34m(array, accept_sparse, accept_large_sparse, dtype, order, copy, force_all_finite, ensure_2d, allow_nd, ensure_min_samples, ensure_min_features, estimator)\u001b[0m\n\u001b[0;32m    617\u001b[0m             \u001b[1;31m# If input is 1D raise error\u001b[0m\u001b[1;33m\u001b[0m\u001b[1;33m\u001b[0m\u001b[1;33m\u001b[0m\u001b[0m\n\u001b[0;32m    618\u001b[0m             \u001b[1;32mif\u001b[0m \u001b[0marray\u001b[0m\u001b[1;33m.\u001b[0m\u001b[0mndim\u001b[0m \u001b[1;33m==\u001b[0m \u001b[1;36m1\u001b[0m\u001b[1;33m:\u001b[0m\u001b[1;33m\u001b[0m\u001b[1;33m\u001b[0m\u001b[0m\n\u001b[1;32m--> 619\u001b[1;33m                 raise ValueError(\n\u001b[0m\u001b[0;32m    620\u001b[0m                     \u001b[1;34m\"Expected 2D array, got 1D array instead:\\narray={}.\\n\"\u001b[0m\u001b[1;33m\u001b[0m\u001b[1;33m\u001b[0m\u001b[0m\n\u001b[0;32m    621\u001b[0m                     \u001b[1;34m\"Reshape your data either using array.reshape(-1, 1) if \"\u001b[0m\u001b[1;33m\u001b[0m\u001b[1;33m\u001b[0m\u001b[0m\n",
      "\u001b[1;31mValueError\u001b[0m: Expected 2D array, got 1D array instead:\narray=[0.69485205 0.7191527  0.34586865 ... 0.14072917 0.0728254  1.        ].\nReshape your data either using array.reshape(-1, 1) if your data has a single feature or array.reshape(1, -1) if it contains a single sample."
     ]
    }
   ],
   "source": [
    "rf = RandomForestClassifier(random_state = 21)#max_depth=10,max_features=10)\n",
    "rf.fit(tfidf_data_train.data,target_train)"
   ]
  },
  {
   "cell_type": "code",
   "execution_count": 182,
   "metadata": {},
   "outputs": [
    {
     "data": {
      "text/plain": [
       "pandas.core.series.Series"
      ]
     },
     "execution_count": 182,
     "metadata": {},
     "output_type": "execute_result"
    }
   ],
   "source": [
    "type(data_train)"
   ]
  },
  {
   "cell_type": "code",
   "execution_count": 143,
   "metadata": {},
   "outputs": [
    {
     "data": {
      "text/plain": [
       "array([0.0681992 , 0.0416199 , 0.32642651, ..., 0.1714665 , 0.16462331,\n",
       "       0.10582308])"
      ]
     },
     "execution_count": 143,
     "metadata": {},
     "output_type": "execute_result"
    }
   ],
   "source": []
  },
  {
   "cell_type": "code",
   "execution_count": 187,
   "metadata": {},
   "outputs": [
    {
     "ename": "ValueError",
     "evalue": "Unknown label type: 'continuous'",
     "output_type": "error",
     "traceback": [
      "\u001b[1;31m---------------------------------------------------------------------------\u001b[0m",
      "\u001b[1;31mValueError\u001b[0m                                Traceback (most recent call last)",
      "\u001b[1;32m<ipython-input-187-c8fb80b6c428>\u001b[0m in \u001b[0;36m<module>\u001b[1;34m\u001b[0m\n\u001b[0;32m      1\u001b[0m \u001b[0mrf\u001b[0m \u001b[1;33m=\u001b[0m \u001b[0mRandomForestClassifier\u001b[0m\u001b[1;33m(\u001b[0m\u001b[0mrandom_state\u001b[0m \u001b[1;33m=\u001b[0m \u001b[1;36m21\u001b[0m\u001b[1;33m)\u001b[0m\u001b[1;31m#max_depth=10,max_features=10)\u001b[0m\u001b[1;33m\u001b[0m\u001b[1;33m\u001b[0m\u001b[0m\n\u001b[1;32m----> 2\u001b[1;33m \u001b[0mrf\u001b[0m\u001b[1;33m.\u001b[0m\u001b[0mfit\u001b[0m\u001b[1;33m(\u001b[0m\u001b[0mtfidf_data_train\u001b[0m\u001b[1;33m,\u001b[0m\u001b[0mtarget_train\u001b[0m\u001b[1;33m)\u001b[0m\u001b[1;33m\u001b[0m\u001b[1;33m\u001b[0m\u001b[0m\n\u001b[0m",
      "\u001b[1;32m~\\anaconda3\\envs\\learn-env\\lib\\site-packages\\sklearn\\ensemble\\_forest.py\u001b[0m in \u001b[0;36mfit\u001b[1;34m(self, X, y, sample_weight)\u001b[0m\n\u001b[0;32m    328\u001b[0m         \u001b[0mself\u001b[0m\u001b[1;33m.\u001b[0m\u001b[0mn_outputs_\u001b[0m \u001b[1;33m=\u001b[0m \u001b[0my\u001b[0m\u001b[1;33m.\u001b[0m\u001b[0mshape\u001b[0m\u001b[1;33m[\u001b[0m\u001b[1;36m1\u001b[0m\u001b[1;33m]\u001b[0m\u001b[1;33m\u001b[0m\u001b[1;33m\u001b[0m\u001b[0m\n\u001b[0;32m    329\u001b[0m \u001b[1;33m\u001b[0m\u001b[0m\n\u001b[1;32m--> 330\u001b[1;33m         \u001b[0my\u001b[0m\u001b[1;33m,\u001b[0m \u001b[0mexpanded_class_weight\u001b[0m \u001b[1;33m=\u001b[0m \u001b[0mself\u001b[0m\u001b[1;33m.\u001b[0m\u001b[0m_validate_y_class_weight\u001b[0m\u001b[1;33m(\u001b[0m\u001b[0my\u001b[0m\u001b[1;33m)\u001b[0m\u001b[1;33m\u001b[0m\u001b[1;33m\u001b[0m\u001b[0m\n\u001b[0m\u001b[0;32m    331\u001b[0m \u001b[1;33m\u001b[0m\u001b[0m\n\u001b[0;32m    332\u001b[0m         \u001b[1;32mif\u001b[0m \u001b[0mgetattr\u001b[0m\u001b[1;33m(\u001b[0m\u001b[0my\u001b[0m\u001b[1;33m,\u001b[0m \u001b[1;34m\"dtype\"\u001b[0m\u001b[1;33m,\u001b[0m \u001b[1;32mNone\u001b[0m\u001b[1;33m)\u001b[0m \u001b[1;33m!=\u001b[0m \u001b[0mDOUBLE\u001b[0m \u001b[1;32mor\u001b[0m \u001b[1;32mnot\u001b[0m \u001b[0my\u001b[0m\u001b[1;33m.\u001b[0m\u001b[0mflags\u001b[0m\u001b[1;33m.\u001b[0m\u001b[0mcontiguous\u001b[0m\u001b[1;33m:\u001b[0m\u001b[1;33m\u001b[0m\u001b[1;33m\u001b[0m\u001b[0m\n",
      "\u001b[1;32m~\\anaconda3\\envs\\learn-env\\lib\\site-packages\\sklearn\\ensemble\\_forest.py\u001b[0m in \u001b[0;36m_validate_y_class_weight\u001b[1;34m(self, y)\u001b[0m\n\u001b[0;32m    556\u001b[0m \u001b[1;33m\u001b[0m\u001b[0m\n\u001b[0;32m    557\u001b[0m     \u001b[1;32mdef\u001b[0m \u001b[0m_validate_y_class_weight\u001b[0m\u001b[1;33m(\u001b[0m\u001b[0mself\u001b[0m\u001b[1;33m,\u001b[0m \u001b[0my\u001b[0m\u001b[1;33m)\u001b[0m\u001b[1;33m:\u001b[0m\u001b[1;33m\u001b[0m\u001b[1;33m\u001b[0m\u001b[0m\n\u001b[1;32m--> 558\u001b[1;33m         \u001b[0mcheck_classification_targets\u001b[0m\u001b[1;33m(\u001b[0m\u001b[0my\u001b[0m\u001b[1;33m)\u001b[0m\u001b[1;33m\u001b[0m\u001b[1;33m\u001b[0m\u001b[0m\n\u001b[0m\u001b[0;32m    559\u001b[0m \u001b[1;33m\u001b[0m\u001b[0m\n\u001b[0;32m    560\u001b[0m         \u001b[0my\u001b[0m \u001b[1;33m=\u001b[0m \u001b[0mnp\u001b[0m\u001b[1;33m.\u001b[0m\u001b[0mcopy\u001b[0m\u001b[1;33m(\u001b[0m\u001b[0my\u001b[0m\u001b[1;33m)\u001b[0m\u001b[1;33m\u001b[0m\u001b[1;33m\u001b[0m\u001b[0m\n",
      "\u001b[1;32m~\\anaconda3\\envs\\learn-env\\lib\\site-packages\\sklearn\\utils\\multiclass.py\u001b[0m in \u001b[0;36mcheck_classification_targets\u001b[1;34m(y)\u001b[0m\n\u001b[0;32m    170\u001b[0m     if y_type not in ['binary', 'multiclass', 'multiclass-multioutput',\n\u001b[0;32m    171\u001b[0m                       'multilabel-indicator', 'multilabel-sequences']:\n\u001b[1;32m--> 172\u001b[1;33m         \u001b[1;32mraise\u001b[0m \u001b[0mValueError\u001b[0m\u001b[1;33m(\u001b[0m\u001b[1;34m\"Unknown label type: %r\"\u001b[0m \u001b[1;33m%\u001b[0m \u001b[0my_type\u001b[0m\u001b[1;33m)\u001b[0m\u001b[1;33m\u001b[0m\u001b[1;33m\u001b[0m\u001b[0m\n\u001b[0m\u001b[0;32m    173\u001b[0m \u001b[1;33m\u001b[0m\u001b[0m\n\u001b[0;32m    174\u001b[0m \u001b[1;33m\u001b[0m\u001b[0m\n",
      "\u001b[1;31mValueError\u001b[0m: Unknown label type: 'continuous'"
     ]
    }
   ],
   "source": [
    "rf = RandomForestClassifier(random_state = 21)#max_depth=10,max_features=10)\n",
    "rf.fit(tfidf_data_train,target_train)"
   ]
  },
  {
   "cell_type": "code",
   "execution_count": 46,
   "metadata": {
    "collapsed": true
   },
   "outputs": [
    {
     "ename": "ValueError",
     "evalue": "setting an array element with a sequence.",
     "output_type": "error",
     "traceback": [
      "\u001b[1;31m---------------------------------------------------------------------------\u001b[0m",
      "\u001b[1;31mTypeError\u001b[0m                                 Traceback (most recent call last)",
      "\u001b[1;31mTypeError\u001b[0m: float() argument must be a string or a number, not 'list'",
      "\nThe above exception was the direct cause of the following exception:\n",
      "\u001b[1;31mValueError\u001b[0m                                Traceback (most recent call last)",
      "\u001b[1;32m<ipython-input-46-22812ca28b8b>\u001b[0m in \u001b[0;36m<module>\u001b[1;34m\u001b[0m\n\u001b[0;32m      1\u001b[0m \u001b[0mrf\u001b[0m \u001b[1;33m=\u001b[0m \u001b[0mRandomForestClassifier\u001b[0m\u001b[1;33m(\u001b[0m\u001b[0mrandom_state\u001b[0m \u001b[1;33m=\u001b[0m \u001b[1;36m21\u001b[0m\u001b[1;33m)\u001b[0m\u001b[1;31m#max_depth=10,max_features=10)\u001b[0m\u001b[1;33m\u001b[0m\u001b[1;33m\u001b[0m\u001b[0m\n\u001b[1;32m----> 2\u001b[1;33m \u001b[0mrf\u001b[0m\u001b[1;33m.\u001b[0m\u001b[0mfit\u001b[0m\u001b[1;33m(\u001b[0m\u001b[0mdata_train\u001b[0m\u001b[1;33m,\u001b[0m\u001b[0mtarget_train\u001b[0m\u001b[1;33m)\u001b[0m\u001b[1;33m\u001b[0m\u001b[1;33m\u001b[0m\u001b[0m\n\u001b[0m",
      "\u001b[1;32m~\\anaconda3\\envs\\learn-env\\lib\\site-packages\\sklearn\\ensemble\\_forest.py\u001b[0m in \u001b[0;36mfit\u001b[1;34m(self, X, y, sample_weight)\u001b[0m\n\u001b[0;32m    301\u001b[0m                 \u001b[1;34m\"sparse multilabel-indicator for y is not supported.\"\u001b[0m\u001b[1;33m\u001b[0m\u001b[1;33m\u001b[0m\u001b[0m\n\u001b[0;32m    302\u001b[0m             )\n\u001b[1;32m--> 303\u001b[1;33m         X, y = self._validate_data(X, y, multi_output=True,\n\u001b[0m\u001b[0;32m    304\u001b[0m                                    accept_sparse=\"csc\", dtype=DTYPE)\n\u001b[0;32m    305\u001b[0m         \u001b[1;32mif\u001b[0m \u001b[0msample_weight\u001b[0m \u001b[1;32mis\u001b[0m \u001b[1;32mnot\u001b[0m \u001b[1;32mNone\u001b[0m\u001b[1;33m:\u001b[0m\u001b[1;33m\u001b[0m\u001b[1;33m\u001b[0m\u001b[0m\n",
      "\u001b[1;32m~\\anaconda3\\envs\\learn-env\\lib\\site-packages\\sklearn\\base.py\u001b[0m in \u001b[0;36m_validate_data\u001b[1;34m(self, X, y, reset, validate_separately, **check_params)\u001b[0m\n\u001b[0;32m    430\u001b[0m                 \u001b[0my\u001b[0m \u001b[1;33m=\u001b[0m \u001b[0mcheck_array\u001b[0m\u001b[1;33m(\u001b[0m\u001b[0my\u001b[0m\u001b[1;33m,\u001b[0m \u001b[1;33m**\u001b[0m\u001b[0mcheck_y_params\u001b[0m\u001b[1;33m)\u001b[0m\u001b[1;33m\u001b[0m\u001b[1;33m\u001b[0m\u001b[0m\n\u001b[0;32m    431\u001b[0m             \u001b[1;32melse\u001b[0m\u001b[1;33m:\u001b[0m\u001b[1;33m\u001b[0m\u001b[1;33m\u001b[0m\u001b[0m\n\u001b[1;32m--> 432\u001b[1;33m                 \u001b[0mX\u001b[0m\u001b[1;33m,\u001b[0m \u001b[0my\u001b[0m \u001b[1;33m=\u001b[0m \u001b[0mcheck_X_y\u001b[0m\u001b[1;33m(\u001b[0m\u001b[0mX\u001b[0m\u001b[1;33m,\u001b[0m \u001b[0my\u001b[0m\u001b[1;33m,\u001b[0m \u001b[1;33m**\u001b[0m\u001b[0mcheck_params\u001b[0m\u001b[1;33m)\u001b[0m\u001b[1;33m\u001b[0m\u001b[1;33m\u001b[0m\u001b[0m\n\u001b[0m\u001b[0;32m    433\u001b[0m             \u001b[0mout\u001b[0m \u001b[1;33m=\u001b[0m \u001b[0mX\u001b[0m\u001b[1;33m,\u001b[0m \u001b[0my\u001b[0m\u001b[1;33m\u001b[0m\u001b[1;33m\u001b[0m\u001b[0m\n\u001b[0;32m    434\u001b[0m \u001b[1;33m\u001b[0m\u001b[0m\n",
      "\u001b[1;32m~\\anaconda3\\envs\\learn-env\\lib\\site-packages\\sklearn\\utils\\validation.py\u001b[0m in \u001b[0;36minner_f\u001b[1;34m(*args, **kwargs)\u001b[0m\n\u001b[0;32m     70\u001b[0m                           FutureWarning)\n\u001b[0;32m     71\u001b[0m         \u001b[0mkwargs\u001b[0m\u001b[1;33m.\u001b[0m\u001b[0mupdate\u001b[0m\u001b[1;33m(\u001b[0m\u001b[1;33m{\u001b[0m\u001b[0mk\u001b[0m\u001b[1;33m:\u001b[0m \u001b[0marg\u001b[0m \u001b[1;32mfor\u001b[0m \u001b[0mk\u001b[0m\u001b[1;33m,\u001b[0m \u001b[0marg\u001b[0m \u001b[1;32min\u001b[0m \u001b[0mzip\u001b[0m\u001b[1;33m(\u001b[0m\u001b[0msig\u001b[0m\u001b[1;33m.\u001b[0m\u001b[0mparameters\u001b[0m\u001b[1;33m,\u001b[0m \u001b[0margs\u001b[0m\u001b[1;33m)\u001b[0m\u001b[1;33m}\u001b[0m\u001b[1;33m)\u001b[0m\u001b[1;33m\u001b[0m\u001b[1;33m\u001b[0m\u001b[0m\n\u001b[1;32m---> 72\u001b[1;33m         \u001b[1;32mreturn\u001b[0m \u001b[0mf\u001b[0m\u001b[1;33m(\u001b[0m\u001b[1;33m**\u001b[0m\u001b[0mkwargs\u001b[0m\u001b[1;33m)\u001b[0m\u001b[1;33m\u001b[0m\u001b[1;33m\u001b[0m\u001b[0m\n\u001b[0m\u001b[0;32m     73\u001b[0m     \u001b[1;32mreturn\u001b[0m \u001b[0minner_f\u001b[0m\u001b[1;33m\u001b[0m\u001b[1;33m\u001b[0m\u001b[0m\n\u001b[0;32m     74\u001b[0m \u001b[1;33m\u001b[0m\u001b[0m\n",
      "\u001b[1;32m~\\anaconda3\\envs\\learn-env\\lib\\site-packages\\sklearn\\utils\\validation.py\u001b[0m in \u001b[0;36mcheck_X_y\u001b[1;34m(X, y, accept_sparse, accept_large_sparse, dtype, order, copy, force_all_finite, ensure_2d, allow_nd, multi_output, ensure_min_samples, ensure_min_features, y_numeric, estimator)\u001b[0m\n\u001b[0;32m    793\u001b[0m         \u001b[1;32mraise\u001b[0m \u001b[0mValueError\u001b[0m\u001b[1;33m(\u001b[0m\u001b[1;34m\"y cannot be None\"\u001b[0m\u001b[1;33m)\u001b[0m\u001b[1;33m\u001b[0m\u001b[1;33m\u001b[0m\u001b[0m\n\u001b[0;32m    794\u001b[0m \u001b[1;33m\u001b[0m\u001b[0m\n\u001b[1;32m--> 795\u001b[1;33m     X = check_array(X, accept_sparse=accept_sparse,\n\u001b[0m\u001b[0;32m    796\u001b[0m                     \u001b[0maccept_large_sparse\u001b[0m\u001b[1;33m=\u001b[0m\u001b[0maccept_large_sparse\u001b[0m\u001b[1;33m,\u001b[0m\u001b[1;33m\u001b[0m\u001b[1;33m\u001b[0m\u001b[0m\n\u001b[0;32m    797\u001b[0m                     \u001b[0mdtype\u001b[0m\u001b[1;33m=\u001b[0m\u001b[0mdtype\u001b[0m\u001b[1;33m,\u001b[0m \u001b[0morder\u001b[0m\u001b[1;33m=\u001b[0m\u001b[0morder\u001b[0m\u001b[1;33m,\u001b[0m \u001b[0mcopy\u001b[0m\u001b[1;33m=\u001b[0m\u001b[0mcopy\u001b[0m\u001b[1;33m,\u001b[0m\u001b[1;33m\u001b[0m\u001b[1;33m\u001b[0m\u001b[0m\n",
      "\u001b[1;32m~\\anaconda3\\envs\\learn-env\\lib\\site-packages\\sklearn\\utils\\validation.py\u001b[0m in \u001b[0;36minner_f\u001b[1;34m(*args, **kwargs)\u001b[0m\n\u001b[0;32m     70\u001b[0m                           FutureWarning)\n\u001b[0;32m     71\u001b[0m         \u001b[0mkwargs\u001b[0m\u001b[1;33m.\u001b[0m\u001b[0mupdate\u001b[0m\u001b[1;33m(\u001b[0m\u001b[1;33m{\u001b[0m\u001b[0mk\u001b[0m\u001b[1;33m:\u001b[0m \u001b[0marg\u001b[0m \u001b[1;32mfor\u001b[0m \u001b[0mk\u001b[0m\u001b[1;33m,\u001b[0m \u001b[0marg\u001b[0m \u001b[1;32min\u001b[0m \u001b[0mzip\u001b[0m\u001b[1;33m(\u001b[0m\u001b[0msig\u001b[0m\u001b[1;33m.\u001b[0m\u001b[0mparameters\u001b[0m\u001b[1;33m,\u001b[0m \u001b[0margs\u001b[0m\u001b[1;33m)\u001b[0m\u001b[1;33m}\u001b[0m\u001b[1;33m)\u001b[0m\u001b[1;33m\u001b[0m\u001b[1;33m\u001b[0m\u001b[0m\n\u001b[1;32m---> 72\u001b[1;33m         \u001b[1;32mreturn\u001b[0m \u001b[0mf\u001b[0m\u001b[1;33m(\u001b[0m\u001b[1;33m**\u001b[0m\u001b[0mkwargs\u001b[0m\u001b[1;33m)\u001b[0m\u001b[1;33m\u001b[0m\u001b[1;33m\u001b[0m\u001b[0m\n\u001b[0m\u001b[0;32m     73\u001b[0m     \u001b[1;32mreturn\u001b[0m \u001b[0minner_f\u001b[0m\u001b[1;33m\u001b[0m\u001b[1;33m\u001b[0m\u001b[0m\n\u001b[0;32m     74\u001b[0m \u001b[1;33m\u001b[0m\u001b[0m\n",
      "\u001b[1;32m~\\anaconda3\\envs\\learn-env\\lib\\site-packages\\sklearn\\utils\\validation.py\u001b[0m in \u001b[0;36mcheck_array\u001b[1;34m(array, accept_sparse, accept_large_sparse, dtype, order, copy, force_all_finite, ensure_2d, allow_nd, ensure_min_samples, ensure_min_features, estimator)\u001b[0m\n\u001b[0;32m    596\u001b[0m                     \u001b[0marray\u001b[0m \u001b[1;33m=\u001b[0m \u001b[0marray\u001b[0m\u001b[1;33m.\u001b[0m\u001b[0mastype\u001b[0m\u001b[1;33m(\u001b[0m\u001b[0mdtype\u001b[0m\u001b[1;33m,\u001b[0m \u001b[0mcasting\u001b[0m\u001b[1;33m=\u001b[0m\u001b[1;34m\"unsafe\"\u001b[0m\u001b[1;33m,\u001b[0m \u001b[0mcopy\u001b[0m\u001b[1;33m=\u001b[0m\u001b[1;32mFalse\u001b[0m\u001b[1;33m)\u001b[0m\u001b[1;33m\u001b[0m\u001b[1;33m\u001b[0m\u001b[0m\n\u001b[0;32m    597\u001b[0m                 \u001b[1;32melse\u001b[0m\u001b[1;33m:\u001b[0m\u001b[1;33m\u001b[0m\u001b[1;33m\u001b[0m\u001b[0m\n\u001b[1;32m--> 598\u001b[1;33m                     \u001b[0marray\u001b[0m \u001b[1;33m=\u001b[0m \u001b[0mnp\u001b[0m\u001b[1;33m.\u001b[0m\u001b[0masarray\u001b[0m\u001b[1;33m(\u001b[0m\u001b[0marray\u001b[0m\u001b[1;33m,\u001b[0m \u001b[0morder\u001b[0m\u001b[1;33m=\u001b[0m\u001b[0morder\u001b[0m\u001b[1;33m,\u001b[0m \u001b[0mdtype\u001b[0m\u001b[1;33m=\u001b[0m\u001b[0mdtype\u001b[0m\u001b[1;33m)\u001b[0m\u001b[1;33m\u001b[0m\u001b[1;33m\u001b[0m\u001b[0m\n\u001b[0m\u001b[0;32m    599\u001b[0m             \u001b[1;32mexcept\u001b[0m \u001b[0mComplexWarning\u001b[0m\u001b[1;33m:\u001b[0m\u001b[1;33m\u001b[0m\u001b[1;33m\u001b[0m\u001b[0m\n\u001b[0;32m    600\u001b[0m                 raise ValueError(\"Complex data not supported\\n\"\n",
      "\u001b[1;32m~\\anaconda3\\envs\\learn-env\\lib\\site-packages\\numpy\\core\\_asarray.py\u001b[0m in \u001b[0;36masarray\u001b[1;34m(a, dtype, order)\u001b[0m\n\u001b[0;32m     83\u001b[0m \u001b[1;33m\u001b[0m\u001b[0m\n\u001b[0;32m     84\u001b[0m     \"\"\"\n\u001b[1;32m---> 85\u001b[1;33m     \u001b[1;32mreturn\u001b[0m \u001b[0marray\u001b[0m\u001b[1;33m(\u001b[0m\u001b[0ma\u001b[0m\u001b[1;33m,\u001b[0m \u001b[0mdtype\u001b[0m\u001b[1;33m,\u001b[0m \u001b[0mcopy\u001b[0m\u001b[1;33m=\u001b[0m\u001b[1;32mFalse\u001b[0m\u001b[1;33m,\u001b[0m \u001b[0morder\u001b[0m\u001b[1;33m=\u001b[0m\u001b[0morder\u001b[0m\u001b[1;33m)\u001b[0m\u001b[1;33m\u001b[0m\u001b[1;33m\u001b[0m\u001b[0m\n\u001b[0m\u001b[0;32m     86\u001b[0m \u001b[1;33m\u001b[0m\u001b[0m\n\u001b[0;32m     87\u001b[0m \u001b[1;33m\u001b[0m\u001b[0m\n",
      "\u001b[1;32m~\\anaconda3\\envs\\learn-env\\lib\\site-packages\\pandas\\core\\series.py\u001b[0m in \u001b[0;36m__array__\u001b[1;34m(self, dtype)\u001b[0m\n\u001b[0;32m    795\u001b[0m               dtype='datetime64[ns]')\n\u001b[0;32m    796\u001b[0m         \"\"\"\n\u001b[1;32m--> 797\u001b[1;33m         \u001b[1;32mreturn\u001b[0m \u001b[0mnp\u001b[0m\u001b[1;33m.\u001b[0m\u001b[0masarray\u001b[0m\u001b[1;33m(\u001b[0m\u001b[0mself\u001b[0m\u001b[1;33m.\u001b[0m\u001b[0marray\u001b[0m\u001b[1;33m,\u001b[0m \u001b[0mdtype\u001b[0m\u001b[1;33m)\u001b[0m\u001b[1;33m\u001b[0m\u001b[1;33m\u001b[0m\u001b[0m\n\u001b[0m\u001b[0;32m    798\u001b[0m \u001b[1;33m\u001b[0m\u001b[0m\n\u001b[0;32m    799\u001b[0m     \u001b[1;31m# ----------------------------------------------------------------------\u001b[0m\u001b[1;33m\u001b[0m\u001b[1;33m\u001b[0m\u001b[1;33m\u001b[0m\u001b[0m\n",
      "\u001b[1;32m~\\anaconda3\\envs\\learn-env\\lib\\site-packages\\numpy\\core\\_asarray.py\u001b[0m in \u001b[0;36masarray\u001b[1;34m(a, dtype, order)\u001b[0m\n\u001b[0;32m     83\u001b[0m \u001b[1;33m\u001b[0m\u001b[0m\n\u001b[0;32m     84\u001b[0m     \"\"\"\n\u001b[1;32m---> 85\u001b[1;33m     \u001b[1;32mreturn\u001b[0m \u001b[0marray\u001b[0m\u001b[1;33m(\u001b[0m\u001b[0ma\u001b[0m\u001b[1;33m,\u001b[0m \u001b[0mdtype\u001b[0m\u001b[1;33m,\u001b[0m \u001b[0mcopy\u001b[0m\u001b[1;33m=\u001b[0m\u001b[1;32mFalse\u001b[0m\u001b[1;33m,\u001b[0m \u001b[0morder\u001b[0m\u001b[1;33m=\u001b[0m\u001b[0morder\u001b[0m\u001b[1;33m)\u001b[0m\u001b[1;33m\u001b[0m\u001b[1;33m\u001b[0m\u001b[0m\n\u001b[0m\u001b[0;32m     86\u001b[0m \u001b[1;33m\u001b[0m\u001b[0m\n\u001b[0;32m     87\u001b[0m \u001b[1;33m\u001b[0m\u001b[0m\n",
      "\u001b[1;32m~\\anaconda3\\envs\\learn-env\\lib\\site-packages\\pandas\\core\\arrays\\numpy_.py\u001b[0m in \u001b[0;36m__array__\u001b[1;34m(self, dtype)\u001b[0m\n\u001b[0;32m    209\u001b[0m \u001b[1;33m\u001b[0m\u001b[0m\n\u001b[0;32m    210\u001b[0m     \u001b[1;32mdef\u001b[0m \u001b[0m__array__\u001b[0m\u001b[1;33m(\u001b[0m\u001b[0mself\u001b[0m\u001b[1;33m,\u001b[0m \u001b[0mdtype\u001b[0m\u001b[1;33m=\u001b[0m\u001b[1;32mNone\u001b[0m\u001b[1;33m)\u001b[0m \u001b[1;33m->\u001b[0m \u001b[0mnp\u001b[0m\u001b[1;33m.\u001b[0m\u001b[0mndarray\u001b[0m\u001b[1;33m:\u001b[0m\u001b[1;33m\u001b[0m\u001b[1;33m\u001b[0m\u001b[0m\n\u001b[1;32m--> 211\u001b[1;33m         \u001b[1;32mreturn\u001b[0m \u001b[0mnp\u001b[0m\u001b[1;33m.\u001b[0m\u001b[0masarray\u001b[0m\u001b[1;33m(\u001b[0m\u001b[0mself\u001b[0m\u001b[1;33m.\u001b[0m\u001b[0m_ndarray\u001b[0m\u001b[1;33m,\u001b[0m \u001b[0mdtype\u001b[0m\u001b[1;33m=\u001b[0m\u001b[0mdtype\u001b[0m\u001b[1;33m)\u001b[0m\u001b[1;33m\u001b[0m\u001b[1;33m\u001b[0m\u001b[0m\n\u001b[0m\u001b[0;32m    212\u001b[0m \u001b[1;33m\u001b[0m\u001b[0m\n\u001b[0;32m    213\u001b[0m     \u001b[0m_HANDLED_TYPES\u001b[0m \u001b[1;33m=\u001b[0m \u001b[1;33m(\u001b[0m\u001b[0mnp\u001b[0m\u001b[1;33m.\u001b[0m\u001b[0mndarray\u001b[0m\u001b[1;33m,\u001b[0m \u001b[0mnumbers\u001b[0m\u001b[1;33m.\u001b[0m\u001b[0mNumber\u001b[0m\u001b[1;33m)\u001b[0m\u001b[1;33m\u001b[0m\u001b[1;33m\u001b[0m\u001b[0m\n",
      "\u001b[1;32m~\\anaconda3\\envs\\learn-env\\lib\\site-packages\\numpy\\core\\_asarray.py\u001b[0m in \u001b[0;36masarray\u001b[1;34m(a, dtype, order)\u001b[0m\n\u001b[0;32m     83\u001b[0m \u001b[1;33m\u001b[0m\u001b[0m\n\u001b[0;32m     84\u001b[0m     \"\"\"\n\u001b[1;32m---> 85\u001b[1;33m     \u001b[1;32mreturn\u001b[0m \u001b[0marray\u001b[0m\u001b[1;33m(\u001b[0m\u001b[0ma\u001b[0m\u001b[1;33m,\u001b[0m \u001b[0mdtype\u001b[0m\u001b[1;33m,\u001b[0m \u001b[0mcopy\u001b[0m\u001b[1;33m=\u001b[0m\u001b[1;32mFalse\u001b[0m\u001b[1;33m,\u001b[0m \u001b[0morder\u001b[0m\u001b[1;33m=\u001b[0m\u001b[0morder\u001b[0m\u001b[1;33m)\u001b[0m\u001b[1;33m\u001b[0m\u001b[1;33m\u001b[0m\u001b[0m\n\u001b[0m\u001b[0;32m     86\u001b[0m \u001b[1;33m\u001b[0m\u001b[0m\n\u001b[0;32m     87\u001b[0m \u001b[1;33m\u001b[0m\u001b[0m\n",
      "\u001b[1;31mValueError\u001b[0m: setting an array element with a sequence."
     ]
    }
   ],
   "source": [
    "rf = RandomForestClassifier(random_state = 21)#max_depth=10,max_features=10)\n",
    "rf.fit(data_train,target_train)"
   ]
  },
  {
   "cell_type": "markdown",
   "metadata": {},
   "source": [
    "1) tts on df\n",
    "2) take either lem or stem for both train and test and put in new var\n",
    "3) tfidf fit transform on train and transform on test\n",
    "4) put sparse tfidf to array (to dense maybe) (1 for test and 1 for train) (to allow concat)\n",
    "it will be number of obs by the number of unique words (columns will be the same for both since we used fit transform for train as test) \n",
    "5) concat train tfidf to train columns not including text or the lem or stem, and same for test\n",
    "6) run RF"
   ]
  },
  {
   "cell_type": "code",
   "execution_count": null,
   "metadata": {},
   "outputs": [],
   "source": []
  },
  {
   "cell_type": "code",
   "execution_count": 67,
   "metadata": {},
   "outputs": [],
   "source": [
    "'''1: tts on df, using reviews that have already been lemmitized'''\n",
    "\n",
    "data_train, data_test, target_train, target_test = train_test_split(beer_df['naked_reviews'] ,beer_df['avg_rating'].values, test_size=0.20, random_state=21)"
   ]
  },
  {
   "cell_type": "code",
   "execution_count": 160,
   "metadata": {},
   "outputs": [
    {
     "data": {
      "text/plain": [
       "array([0.0681992 , 0.0416199 , 0.32642651, ..., 0.1714665 , 0.16462331,\n",
       "       0.10582308])"
      ]
     },
     "execution_count": 160,
     "metadata": {},
     "output_type": "execute_result"
    }
   ],
   "source": [
    "'''2: lemitize for both train and test and put into a new var\n",
    "   3: tfidf fit transform on train and transform on test'''\n",
    "\n",
    "#Here we will use the pre_process_text function to put the training and testing data through\n",
    "\n",
    "tfidf_data_train = tfidf.fit_transform(data_train)\n",
    "tfidf_data_test = tfidf.transform(data_test)\n",
    "\n",
    "tfidf_data_test.data\n",
    "\n"
   ]
  },
  {
   "cell_type": "code",
   "execution_count": 189,
   "metadata": {},
   "outputs": [
    {
     "data": {
      "text/plain": [
       "(816, 226)"
      ]
     },
     "execution_count": 189,
     "metadata": {},
     "output_type": "execute_result"
    }
   ],
   "source": [
    "tfidf_data_test.shape"
   ]
  },
  {
   "cell_type": "code",
   "execution_count": 184,
   "metadata": {},
   "outputs": [
    {
     "data": {
      "text/plain": [
       "array([[0., 0., 0., ..., 0., 0., 0.],\n",
       "       [0., 0., 0., ..., 0., 0., 0.],\n",
       "       [0., 0., 0., ..., 0., 0., 0.],\n",
       "       ...,\n",
       "       [0., 0., 0., ..., 0., 0., 0.],\n",
       "       [0., 0., 0., ..., 0., 0., 0.],\n",
       "       [0., 0., 0., ..., 0., 0., 0.]])"
      ]
     },
     "execution_count": 184,
     "metadata": {},
     "output_type": "execute_result"
    }
   ],
   "source": [
    "'''4: put sparse tfidf to array (to dense maybe) (1 for test and 1 for train) (to allow concat)\n",
    "it will be number of obs by the number of unique words (columns will be the same for both since'''\n",
    "\n",
    "tfidf_data_train.toarray()"
   ]
  },
  {
   "cell_type": "code",
   "execution_count": null,
   "metadata": {},
   "outputs": [],
   "source": [
    "'''5: concat train tfidf to train columns not including text or the lem or stem, and same for test'''\n",
    "\n",
    "\n"
   ]
  },
  {
   "cell_type": "code",
   "execution_count": 165,
   "metadata": {},
   "outputs": [],
   "source": [
    "def model_Evaluate(model):\n",
    "    # Predict values for Test dataset\n",
    "    y_pred = model.predict(data_test)\n",
    "    # Print the evaluation metrics for the dataset.\n",
    "    print(classification_report(target_test, y_pred))"
   ]
  },
  {
   "cell_type": "code",
   "execution_count": 166,
   "metadata": {},
   "outputs": [
    {
     "ename": "AttributeError",
     "evalue": "'RandomForestClassifier' object has no attribute 'estimators_'",
     "output_type": "error",
     "traceback": [
      "\u001b[1;31m---------------------------------------------------------------------------\u001b[0m",
      "\u001b[1;31mAttributeError\u001b[0m                            Traceback (most recent call last)",
      "\u001b[1;32m<ipython-input-166-749b4c03476d>\u001b[0m in \u001b[0;36m<module>\u001b[1;34m\u001b[0m\n\u001b[1;32m----> 1\u001b[1;33m \u001b[0mmodel_Evaluate\u001b[0m\u001b[1;33m(\u001b[0m\u001b[0mrf\u001b[0m\u001b[1;33m)\u001b[0m\u001b[1;33m\u001b[0m\u001b[1;33m\u001b[0m\u001b[0m\n\u001b[0m",
      "\u001b[1;32m<ipython-input-165-ced59e4c84af>\u001b[0m in \u001b[0;36mmodel_Evaluate\u001b[1;34m(model)\u001b[0m\n\u001b[0;32m      1\u001b[0m \u001b[1;32mdef\u001b[0m \u001b[0mmodel_Evaluate\u001b[0m\u001b[1;33m(\u001b[0m\u001b[0mmodel\u001b[0m\u001b[1;33m)\u001b[0m\u001b[1;33m:\u001b[0m\u001b[1;33m\u001b[0m\u001b[1;33m\u001b[0m\u001b[0m\n\u001b[0;32m      2\u001b[0m     \u001b[1;31m# Predict values for Test dataset\u001b[0m\u001b[1;33m\u001b[0m\u001b[1;33m\u001b[0m\u001b[1;33m\u001b[0m\u001b[0m\n\u001b[1;32m----> 3\u001b[1;33m     \u001b[0my_pred\u001b[0m \u001b[1;33m=\u001b[0m \u001b[0mmodel\u001b[0m\u001b[1;33m.\u001b[0m\u001b[0mpredict\u001b[0m\u001b[1;33m(\u001b[0m\u001b[0mdata_test\u001b[0m\u001b[1;33m)\u001b[0m\u001b[1;33m\u001b[0m\u001b[1;33m\u001b[0m\u001b[0m\n\u001b[0m\u001b[0;32m      4\u001b[0m     \u001b[1;31m# Print the evaluation metrics for the dataset.\u001b[0m\u001b[1;33m\u001b[0m\u001b[1;33m\u001b[0m\u001b[1;33m\u001b[0m\u001b[0m\n\u001b[0;32m      5\u001b[0m     \u001b[0mprint\u001b[0m\u001b[1;33m(\u001b[0m\u001b[0mclassification_report\u001b[0m\u001b[1;33m(\u001b[0m\u001b[0mtarget_test\u001b[0m\u001b[1;33m,\u001b[0m \u001b[0my_pred\u001b[0m\u001b[1;33m)\u001b[0m\u001b[1;33m)\u001b[0m\u001b[1;33m\u001b[0m\u001b[1;33m\u001b[0m\u001b[0m\n",
      "\u001b[1;32m~\\anaconda3\\envs\\learn-env\\lib\\site-packages\\sklearn\\ensemble\\_forest.py\u001b[0m in \u001b[0;36mpredict\u001b[1;34m(self, X)\u001b[0m\n\u001b[0;32m    627\u001b[0m             \u001b[0mThe\u001b[0m \u001b[0mpredicted\u001b[0m \u001b[0mclasses\u001b[0m\u001b[1;33m.\u001b[0m\u001b[1;33m\u001b[0m\u001b[1;33m\u001b[0m\u001b[0m\n\u001b[0;32m    628\u001b[0m         \"\"\"\n\u001b[1;32m--> 629\u001b[1;33m         \u001b[0mproba\u001b[0m \u001b[1;33m=\u001b[0m \u001b[0mself\u001b[0m\u001b[1;33m.\u001b[0m\u001b[0mpredict_proba\u001b[0m\u001b[1;33m(\u001b[0m\u001b[0mX\u001b[0m\u001b[1;33m)\u001b[0m\u001b[1;33m\u001b[0m\u001b[1;33m\u001b[0m\u001b[0m\n\u001b[0m\u001b[0;32m    630\u001b[0m \u001b[1;33m\u001b[0m\u001b[0m\n\u001b[0;32m    631\u001b[0m         \u001b[1;32mif\u001b[0m \u001b[0mself\u001b[0m\u001b[1;33m.\u001b[0m\u001b[0mn_outputs_\u001b[0m \u001b[1;33m==\u001b[0m \u001b[1;36m1\u001b[0m\u001b[1;33m:\u001b[0m\u001b[1;33m\u001b[0m\u001b[1;33m\u001b[0m\u001b[0m\n",
      "\u001b[1;32m~\\anaconda3\\envs\\learn-env\\lib\\site-packages\\sklearn\\ensemble\\_forest.py\u001b[0m in \u001b[0;36mpredict_proba\u001b[1;34m(self, X)\u001b[0m\n\u001b[0;32m    671\u001b[0m         \u001b[0mcheck_is_fitted\u001b[0m\u001b[1;33m(\u001b[0m\u001b[0mself\u001b[0m\u001b[1;33m)\u001b[0m\u001b[1;33m\u001b[0m\u001b[1;33m\u001b[0m\u001b[0m\n\u001b[0;32m    672\u001b[0m         \u001b[1;31m# Check data\u001b[0m\u001b[1;33m\u001b[0m\u001b[1;33m\u001b[0m\u001b[1;33m\u001b[0m\u001b[0m\n\u001b[1;32m--> 673\u001b[1;33m         \u001b[0mX\u001b[0m \u001b[1;33m=\u001b[0m \u001b[0mself\u001b[0m\u001b[1;33m.\u001b[0m\u001b[0m_validate_X_predict\u001b[0m\u001b[1;33m(\u001b[0m\u001b[0mX\u001b[0m\u001b[1;33m)\u001b[0m\u001b[1;33m\u001b[0m\u001b[1;33m\u001b[0m\u001b[0m\n\u001b[0m\u001b[0;32m    674\u001b[0m \u001b[1;33m\u001b[0m\u001b[0m\n\u001b[0;32m    675\u001b[0m         \u001b[1;31m# Assign chunk of trees to jobs\u001b[0m\u001b[1;33m\u001b[0m\u001b[1;33m\u001b[0m\u001b[1;33m\u001b[0m\u001b[0m\n",
      "\u001b[1;32m~\\anaconda3\\envs\\learn-env\\lib\\site-packages\\sklearn\\ensemble\\_forest.py\u001b[0m in \u001b[0;36m_validate_X_predict\u001b[1;34m(self, X)\u001b[0m\n\u001b[0;32m    419\u001b[0m         \u001b[0mcheck_is_fitted\u001b[0m\u001b[1;33m(\u001b[0m\u001b[0mself\u001b[0m\u001b[1;33m)\u001b[0m\u001b[1;33m\u001b[0m\u001b[1;33m\u001b[0m\u001b[0m\n\u001b[0;32m    420\u001b[0m \u001b[1;33m\u001b[0m\u001b[0m\n\u001b[1;32m--> 421\u001b[1;33m         \u001b[1;32mreturn\u001b[0m \u001b[0mself\u001b[0m\u001b[1;33m.\u001b[0m\u001b[0mestimators_\u001b[0m\u001b[1;33m[\u001b[0m\u001b[1;36m0\u001b[0m\u001b[1;33m]\u001b[0m\u001b[1;33m.\u001b[0m\u001b[0m_validate_X_predict\u001b[0m\u001b[1;33m(\u001b[0m\u001b[0mX\u001b[0m\u001b[1;33m,\u001b[0m \u001b[0mcheck_input\u001b[0m\u001b[1;33m=\u001b[0m\u001b[1;32mTrue\u001b[0m\u001b[1;33m)\u001b[0m\u001b[1;33m\u001b[0m\u001b[1;33m\u001b[0m\u001b[0m\n\u001b[0m\u001b[0;32m    422\u001b[0m \u001b[1;33m\u001b[0m\u001b[0m\n\u001b[0;32m    423\u001b[0m     \u001b[1;33m@\u001b[0m\u001b[0mproperty\u001b[0m\u001b[1;33m\u001b[0m\u001b[1;33m\u001b[0m\u001b[0m\n",
      "\u001b[1;31mAttributeError\u001b[0m: 'RandomForestClassifier' object has no attribute 'estimators_'"
     ]
    }
   ],
   "source": [
    "model_Evaluate(rf)"
   ]
  },
  {
   "cell_type": "code",
   "execution_count": null,
   "metadata": {},
   "outputs": [],
   "source": []
  },
  {
   "cell_type": "code",
   "execution_count": null,
   "metadata": {},
   "outputs": [],
   "source": []
  },
  {
   "cell_type": "code",
   "execution_count": null,
   "metadata": {},
   "outputs": [],
   "source": []
  },
  {
   "cell_type": "code",
   "execution_count": null,
   "metadata": {},
   "outputs": [],
   "source": []
  },
  {
   "cell_type": "code",
   "execution_count": null,
   "metadata": {},
   "outputs": [],
   "source": []
  },
  {
   "cell_type": "markdown",
   "metadata": {
    "heading_collapsed": true
   },
   "source": [
    "### scrap"
   ]
  },
  {
   "cell_type": "code",
   "execution_count": null,
   "metadata": {
    "hidden": true
   },
   "outputs": [],
   "source": [
    "#funtion to lower text\n",
    "def to_lower(text):\n",
    "    return ' '.join([w.lower() for w in word_tokenize(text)])\n",
    "\n",
    "def remove_number(text):\n",
    "    return ' '.join(c for c in text if not c.isdigit())\n",
    "\n",
    "def process_article(article):\n",
    "    tokens = nltk.word_tokenize(article)\n",
    "    stopwords_removed = [token.lower() for token in tokens if token.lower() not in sw_set]\n",
    "    return stopwords_removed \n",
    "    "
   ]
  },
  {
   "cell_type": "code",
   "execution_count": null,
   "metadata": {
    "hidden": true
   },
   "outputs": [],
   "source": [
    "beer_df['cleaned_review'] = beer_df['review'].apply(pre_process_text)"
   ]
  },
  {
   "cell_type": "code",
   "execution_count": null,
   "metadata": {
    "hidden": true,
    "scrolled": true
   },
   "outputs": [],
   "source": [
    "beer_df"
   ]
  },
  {
   "cell_type": "code",
   "execution_count": null,
   "metadata": {
    "hidden": true
   },
   "outputs": [],
   "source": [
    "beer_df['naked_reviews'] = beer_df.apply(lambda row: ' '.join(row['cleaned_review']), axis =1)"
   ]
  },
  {
   "cell_type": "code",
   "execution_count": null,
   "metadata": {
    "hidden": true
   },
   "outputs": [],
   "source": [
    "beer_df"
   ]
  },
  {
   "cell_type": "code",
   "execution_count": 79,
   "metadata": {
    "hidden": true
   },
   "outputs": [],
   "source": [
    "review1 = beer_df['review'][0]"
   ]
  },
  {
   "cell_type": "code",
   "execution_count": null,
   "metadata": {
    "hidden": true
   },
   "outputs": [],
   "source": [
    "tokenizer = RegexpTokenizer(r'[a-zA-Z0-9]+') #tokenize just normal characters and numbers\n",
    "\n",
    "tokenized_review = tokenizer.tokenize(review1)"
   ]
  },
  {
   "cell_type": "code",
   "execution_count": null,
   "metadata": {
    "hidden": true
   },
   "outputs": [],
   "source": [
    "def filtering(words):\n",
    "    filtered_review = []\n",
    "    for x in words:\n",
    "        if x not in stop_words:\n",
    "            filtered_review.append(x)\n",
    "            print(filtered_review)\n",
    "    return filtered_review\n",
    "\n",
    "        "
   ]
  },
  {
   "cell_type": "code",
   "execution_count": null,
   "metadata": {
    "hidden": true,
    "scrolled": true
   },
   "outputs": [],
   "source": [
    "f_review = filtering(tokenized_review)\n",
    "f_review"
   ]
  },
  {
   "cell_type": "code",
   "execution_count": null,
   "metadata": {
    "hidden": true,
    "scrolled": true
   },
   "outputs": [],
   "source": [
    "fdist = FreqDist(filtering(tokenized_review))\n",
    "plt.figure(figsize=(10,10))\n",
    "fdist.plot(10)"
   ]
  },
  {
   "cell_type": "markdown",
   "metadata": {
    "heading_collapsed": true
   },
   "source": [
    "### Stemming"
   ]
  },
  {
   "cell_type": "code",
   "execution_count": null,
   "metadata": {
    "hidden": true
   },
   "outputs": [],
   "source": [
    "ps = PorterStemmer()\n",
    "\n",
    "stemmed_review=[]\n",
    "for w in f_review:\n",
    "    stemmed_review.append(ps.stem(w))\n",
    "\n",
    "print(stemmed_review)"
   ]
  },
  {
   "cell_type": "markdown",
   "metadata": {
    "heading_collapsed": true
   },
   "source": [
    "### Lemmatize"
   ]
  },
  {
   "cell_type": "code",
   "execution_count": null,
   "metadata": {
    "hidden": true
   },
   "outputs": [],
   "source": []
  },
  {
   "cell_type": "code",
   "execution_count": null,
   "metadata": {
    "hidden": true
   },
   "outputs": [],
   "source": [
    "wordnet_lemmatizer = WordNetLemmatizer()"
   ]
  },
  {
   "cell_type": "code",
   "execution_count": null,
   "metadata": {
    "hidden": true,
    "scrolled": true
   },
   "outputs": [],
   "source": [
    "review1"
   ]
  },
  {
   "cell_type": "code",
   "execution_count": null,
   "metadata": {
    "hidden": true
   },
   "outputs": [],
   "source": []
  },
  {
   "cell_type": "code",
   "execution_count": null,
   "metadata": {
    "hidden": true
   },
   "outputs": [],
   "source": [
    "def pre_process_documents(abstracts):\n",
    "    output = {}\n",
    "    stop = set(stopwords.words('english'))\n",
    "    exclude = set(string.punctuation)\n",
    "    lemma = WordNetLemmatizer()\n",
    "\n",
    "    def clean(doc):\n",
    "        stop_free = \" \".join([i for i in doc.lower().split() if i not in stop])\n",
    "        punc_free = ''.join(ch for ch in stop_free if ch not in exclude)\n",
    "        normalized = \" \".join(lemma.lemmatize(word) for word in punc_free.split())\n",
    "        return normalized\n",
    "    for pmid, abstract in abstracts.items():\n",
    "        output[pmid] = clean(abstract).split()\n",
    "    return output"
   ]
  },
  {
   "cell_type": "code",
   "execution_count": null,
   "metadata": {
    "hidden": true
   },
   "outputs": [],
   "source": [
    "pre_process_documents({n:k for n, k in enumerate(f_review)})"
   ]
  },
  {
   "cell_type": "code",
   "execution_count": null,
   "metadata": {
    "hidden": true
   },
   "outputs": [],
   "source": [
    "def pre_process_text(text):\n",
    "    stop = set(stopwords.words('english'))\n",
    "    exclude = set(string.punctuation)\n",
    "    lemma = WordNetLemmatizer()\n",
    "    def clean(doc):\n",
    "        if doc is not None:\n",
    "            stop_free = \" \".join([i for i in doc.lower().split() if i not in stop])\n",
    "            punc_free = ''.join(ch for ch in stop_free if ch not in exclude)\n",
    "            normalized = \" \".join(lemma.lemmatize(word) for word in punc_free.split())\n",
    "            return normalized\n",
    "        else:\n",
    "            pass\n",
    "    processed_text = clean(text)\n",
    "    if processed_text is not None:\n",
    "        return processed_text.split()"
   ]
  },
  {
   "cell_type": "code",
   "execution_count": 126,
   "metadata": {
    "hidden": true
   },
   "outputs": [
    {
     "data": {
      "text/plain": [
       "['pours',\n",
       " 'little',\n",
       " 'cloudy',\n",
       " 'little',\n",
       " 'small',\n",
       " 'smell',\n",
       " 'like',\n",
       " 'fruity',\n",
       " 'ale',\n",
       " 'ipa',\n",
       " 'taste',\n",
       " 'pretty',\n",
       " 'good',\n",
       " 'hoppy',\n",
       " 'pale',\n",
       " 'perhaps',\n",
       " 'say',\n",
       " 'quite',\n",
       " 'pale',\n",
       " 'ale',\n",
       " 'like',\n",
       " 'average',\n",
       " 'run',\n",
       " 'mill',\n",
       " 'bit',\n",
       " 'fruity',\n",
       " 'light',\n",
       " 'hop',\n",
       " 'flavor',\n",
       " 'towards',\n",
       " 'carbonation',\n",
       " 'smooth',\n",
       " 'like',\n",
       " 'nitro',\n",
       " 'relatively',\n",
       " 'overall',\n",
       " 'could',\n",
       " 'drink',\n",
       " 'em',\n",
       " 'day',\n",
       " 'sick',\n",
       " 'would',\n",
       " 'first',\n",
       " 'choice',\n",
       " 'looking',\n",
       " 'drink',\n",
       " 'beer',\n",
       " 'two',\n",
       " 'said',\n",
       " 'see',\n",
       " 'custom',\n",
       " 'six',\n",
       " 'pack',\n",
       " 'fridge',\n",
       " 'would',\n",
       " 'okay',\n",
       " 'adding',\n",
       " 'one',\n",
       " 'north',\n",
       " 'definite',\n",
       " 'rich',\n",
       " 'color',\n",
       " 'claim',\n",
       " 'quite',\n",
       " 'feel',\n",
       " 'like',\n",
       " 'need',\n",
       " 'bit',\n",
       " 'hoppy',\n",
       " 'department',\n",
       " 'even',\n",
       " 'fruit',\n",
       " 'hot',\n",
       " 'day',\n",
       " 'need',\n",
       " 'something',\n",
       " 'hoppy',\n",
       " 'work',\n",
       " 'quite',\n",
       " 'well',\n",
       " 'evening',\n",
       " 'drink',\n",
       " 'day',\n",
       " 'dundee',\n",
       " 'fifco',\n",
       " 'usa',\n",
       " 'portfolio',\n",
       " 'beer',\n",
       " 'one',\n",
       " 'crossover',\n",
       " 'recommendation',\n",
       " 'someone',\n",
       " 'looking',\n",
       " 'get',\n",
       " 'crafted',\n",
       " 'beer',\n",
       " 'granted',\n",
       " 'bit',\n",
       " 'pedestrian',\n",
       " 'used',\n",
       " 'today',\n",
       " 'still',\n",
       " 'delightful',\n",
       " 'recently',\n",
       " 'poured',\n",
       " 'pint',\n",
       " 'coloring',\n",
       " 'may',\n",
       " 'pique',\n",
       " 'hue',\n",
       " 'remind',\n",
       " 'typical',\n",
       " 'fruit',\n",
       " 'pale',\n",
       " 'ale',\n",
       " 'listed',\n",
       " 'get',\n",
       " 'lot',\n",
       " 'malt',\n",
       " 'formerly',\n",
       " 'recalled',\n",
       " 'back',\n",
       " 'front',\n",
       " 'note',\n",
       " 'sweet',\n",
       " 'fruit',\n",
       " 'ale',\n",
       " 'get',\n",
       " 'bit',\n",
       " 'sticky',\n",
       " 'sweetness',\n",
       " 'factor',\n",
       " 'entirely',\n",
       " 'bottle',\n",
       " 'year',\n",
       " 'old',\n",
       " 'poured',\n",
       " 'squat',\n",
       " 'pint',\n",
       " 'fridge',\n",
       " 'somewhat',\n",
       " 'darker',\n",
       " 'amber',\n",
       " 'quite',\n",
       " 'topped',\n",
       " 'finger',\n",
       " 'tam',\n",
       " 'head',\n",
       " 'recedes',\n",
       " 'caramel',\n",
       " 'malt',\n",
       " 'lends',\n",
       " 'sweet',\n",
       " 'bready',\n",
       " 'note',\n",
       " 'toffee',\n",
       " 'caramel',\n",
       " 'plenty',\n",
       " 'resinous',\n",
       " 'hop',\n",
       " 'bring',\n",
       " 'hugely',\n",
       " 'fruity',\n",
       " 'aroma',\n",
       " 'note',\n",
       " 'peach',\n",
       " 'categorised',\n",
       " 'fruit',\n",
       " 'field',\n",
       " 'wondering',\n",
       " 'peach',\n",
       " 'something',\n",
       " 'also',\n",
       " 'slight',\n",
       " 'herbal',\n",
       " 'spice',\n",
       " 'like',\n",
       " 'fresh',\n",
       " 'crazy',\n",
       " 'dry',\n",
       " 'given',\n",
       " 'sweet',\n",
       " 'malty',\n",
       " 'expecting',\n",
       " 'something',\n",
       " 'cloying',\n",
       " 'case',\n",
       " 'crystal',\n",
       " 'malt',\n",
       " 'amidst',\n",
       " 'pale',\n",
       " 'malt',\n",
       " 'grainy',\n",
       " 'subtle',\n",
       " 'lending',\n",
       " 'nondescript',\n",
       " 'floral',\n",
       " 'fruity',\n",
       " 'clear',\n",
       " 'sign',\n",
       " 'fruit',\n",
       " 'guessing',\n",
       " 'ive',\n",
       " 'mango',\n",
       " 'stone',\n",
       " 'fruit',\n",
       " 'guess',\n",
       " 'lightly',\n",
       " 'bitter',\n",
       " 'highly',\n",
       " 'floral',\n",
       " 'hop',\n",
       " 'resin',\n",
       " 'finish',\n",
       " 'stine',\n",
       " 'fruit',\n",
       " 'becoming',\n",
       " 'even',\n",
       " 'bigger',\n",
       " 'abrupt',\n",
       " 'lower',\n",
       " 'feel',\n",
       " 'fairly',\n",
       " 'dry',\n",
       " 'elevating',\n",
       " 'crisp',\n",
       " 'slightly',\n",
       " 'drying',\n",
       " 'hoppy',\n",
       " 'convinced',\n",
       " 'fruit',\n",
       " 'sure',\n",
       " 'reminds',\n",
       " 'lot',\n",
       " 'ffirst',\n",
       " 'cut',\n",
       " 'actually',\n",
       " 'quite',\n",
       " 'would',\n",
       " 'easy',\n",
       " 'drink',\n",
       " 'couple',\n",
       " 'rapid',\n",
       " 'also',\n",
       " 'clearly',\n",
       " 'hold',\n",
       " 'something',\n",
       " 'go',\n",
       " 'way',\n",
       " 'certainly',\n",
       " 'trade',\n",
       " 'cheap',\n",
       " 'shelf',\n",
       " 'like',\n",
       " 'hardly',\n",
       " 'copper',\n",
       " 'mildly',\n",
       " 'smell',\n",
       " 'like',\n",
       " 'straight',\n",
       " 'definitely',\n",
       " 'one',\n",
       " 'best',\n",
       " 'smelling',\n",
       " 'ale',\n",
       " 'taste',\n",
       " 'good',\n",
       " 'still',\n",
       " 'one',\n",
       " 'complex',\n",
       " 'formula',\n",
       " 'give',\n",
       " 'hop',\n",
       " 'holy',\n",
       " 'cap',\n",
       " 'great',\n",
       " 'artwork',\n",
       " 'note',\n",
       " 'pours',\n",
       " 'clear',\n",
       " 'copper',\n",
       " 'producing',\n",
       " 'finger',\n",
       " 'head',\n",
       " 'leaf',\n",
       " 'weeping',\n",
       " 'ring',\n",
       " 'aroma',\n",
       " 'toasted',\n",
       " 'bread',\n",
       " 'hint',\n",
       " 'tangerine',\n",
       " 'hoppy',\n",
       " 'taste',\n",
       " 'soapy',\n",
       " 'cream',\n",
       " 'rainbow',\n",
       " 'little',\n",
       " 'weak',\n",
       " 'coconut',\n",
       " 'thin',\n",
       " 'cloyingly',\n",
       " 'citrus',\n",
       " 'bittersweet',\n",
       " 'aftertaste',\n",
       " 'faintly',\n",
       " 'reminiscent',\n",
       " 'ethyl',\n",
       " 'felt',\n",
       " 'like',\n",
       " 'wheat',\n",
       " 'beer',\n",
       " 'golden',\n",
       " 'inch',\n",
       " 'thick',\n",
       " 'white',\n",
       " 'apricot',\n",
       " 'apricot',\n",
       " 'bit',\n",
       " 'grassy',\n",
       " 'light',\n",
       " 'mediumsep',\n",
       " 'canada',\n",
       " 'gold',\n",
       " 'colour',\n",
       " 'bronze',\n",
       " 'orange',\n",
       " 'hue',\n",
       " 'one',\n",
       " 'much',\n",
       " 'head',\n",
       " 'first',\n",
       " 'sip',\n",
       " 'almost',\n",
       " 'seemed',\n",
       " 'described',\n",
       " 'fruit',\n",
       " 'beer',\n",
       " 'struggled',\n",
       " 'detect',\n",
       " 'fruit',\n",
       " 'aroma',\n",
       " 'sensed',\n",
       " 'peach',\n",
       " 'apricot',\n",
       " 'peppery',\n",
       " 'final',\n",
       " 'low',\n",
       " 'carbonation',\n",
       " 'new',\n",
       " 'bottle',\n",
       " 'golden',\n",
       " 'color',\n",
       " 'nice',\n",
       " 'smell',\n",
       " 'much',\n",
       " 'floral',\n",
       " 'found',\n",
       " 'refreshingly',\n",
       " 'different',\n",
       " 'feel',\n",
       " 'taste',\n",
       " 'initially',\n",
       " 'clean',\n",
       " 'floral',\n",
       " 'bought',\n",
       " 'several',\n",
       " 'great',\n",
       " 'describe',\n",
       " 'sort',\n",
       " 'cream',\n",
       " 'ale',\n",
       " 'style',\n",
       " 'unable',\n",
       " 'discern',\n",
       " 'hop',\n",
       " 'mention',\n",
       " 'really',\n",
       " 'come',\n",
       " 'decent',\n",
       " 'bitterness',\n",
       " 'bad',\n",
       " 'beer',\n",
       " 'light',\n",
       " 'aroma',\n",
       " 'apricot',\n",
       " 'taste',\n",
       " 'apricot',\n",
       " 'also',\n",
       " 'able',\n",
       " 'taste',\n",
       " 'hint',\n",
       " 'cherry',\n",
       " 'others',\n",
       " 'know',\n",
       " 'commented',\n",
       " 'others',\n",
       " 'taste',\n",
       " 'cherry',\n",
       " 'like',\n",
       " 'beer',\n",
       " 'fruit',\n",
       " 'overpowering',\n",
       " 'good',\n",
       " 'fan',\n",
       " 'super',\n",
       " 'fruity',\n",
       " 'go',\n",
       " 'pretty',\n",
       " 'even',\n",
       " 'huge',\n",
       " 'fan',\n",
       " 'apricot',\n",
       " 'would',\n",
       " 'recommend',\n",
       " 'time',\n",
       " 'would',\n",
       " 'go',\n",
       " 'way',\n",
       " 'huge',\n",
       " 'selection',\n",
       " 'believe',\n",
       " 'low',\n",
       " 'rating',\n",
       " 'unique',\n",
       " 'floraly',\n",
       " 'taste',\n",
       " 'real',\n",
       " 'hoppy',\n",
       " 'may',\n",
       " 'reason',\n",
       " 'solid',\n",
       " 'tasteful',\n",
       " 'new',\n",
       " 'light',\n",
       " 'body',\n",
       " 'mild',\n",
       " 'there',\n",
       " 'malt',\n",
       " 'aroma',\n",
       " 'mostly',\n",
       " 'little',\n",
       " 'well',\n",
       " 'tasting',\n",
       " 'like',\n",
       " 'dried',\n",
       " 'apricot',\n",
       " 'bit',\n",
       " 'bad',\n",
       " 'also',\n",
       " 'memorablefeb',\n",
       " 'new',\n",
       " 'opened',\n",
       " 'beer',\n",
       " 'smelled',\n",
       " 'like',\n",
       " 'taste',\n",
       " 'bitter',\n",
       " 'liked',\n",
       " 'magic',\n",
       " 'hat',\n",
       " 'beer',\n",
       " 'tried',\n",
       " 'one',\n",
       " 'real',\n",
       " 'north',\n",
       " 'original',\n",
       " 'recollection',\n",
       " 'beer',\n",
       " 'positive',\n",
       " 'think',\n",
       " 'right',\n",
       " 'around',\n",
       " 'good',\n",
       " 'time',\n",
       " 'like',\n",
       " 'slightly',\n",
       " 'average',\n",
       " 'pours',\n",
       " 'clear',\n",
       " 'amber',\n",
       " 'thin',\n",
       " 'layer',\n",
       " 'smell',\n",
       " 'wheat',\n",
       " 'floral',\n",
       " 'light',\n",
       " 'taste',\n",
       " 'like',\n",
       " 'grass',\n",
       " 'apricot',\n",
       " 'touch',\n",
       " 'floral',\n",
       " 'dry',\n",
       " 'pretty',\n",
       " 'much',\n",
       " 'agree',\n",
       " 'one',\n",
       " 'innovative',\n",
       " 'came',\n",
       " 'pale',\n",
       " 'comparison',\n",
       " 'offering',\n",
       " 'time',\n",
       " 'got',\n",
       " 'hint',\n",
       " 'apricot',\n",
       " 'perfectly',\n",
       " 'balanced',\n",
       " 'mild',\n",
       " 'could',\n",
       " 'drink',\n",
       " 'day',\n",
       " 'must',\n",
       " 'try',\n",
       " 'potion',\n",
       " 'come',\n",
       " 'one',\n",
       " 'first',\n",
       " 'beer',\n",
       " 'ever',\n",
       " 'blend',\n",
       " 'sweet',\n",
       " 'one',\n",
       " 'power',\n",
       " 'sens',\n",
       " 'looking',\n",
       " 'introduction',\n",
       " 'fruit',\n",
       " 'field',\n",
       " 'good',\n",
       " 'beer',\n",
       " 'light',\n",
       " 'fruit',\n",
       " 'note',\n",
       " 'hoppy',\n",
       " 'like',\n",
       " 'lacking',\n",
       " 'taste',\n",
       " 'body',\n",
       " 'quite',\n",
       " 'nothing',\n",
       " 'really',\n",
       " 'stand',\n",
       " 'beer',\n",
       " 'still',\n",
       " 'worth',\n",
       " 'highly',\n",
       " 'recommend',\n",
       " 'people',\n",
       " 'newbie',\n",
       " 'craft',\n",
       " 'going',\n",
       " 'assume',\n",
       " 'add',\n",
       " 'actual',\n",
       " 'fruit',\n",
       " 'least',\n",
       " 'fruit',\n",
       " 'flavoring',\n",
       " 'make',\n",
       " 'beer',\n",
       " 'like',\n",
       " 'apricot',\n",
       " 'could',\n",
       " 'wrong',\n",
       " 'coct',\n",
       " 'new',\n",
       " 'oz',\n",
       " 'bottle',\n",
       " 'poured',\n",
       " 'golden',\n",
       " 'orange',\n",
       " 'touch',\n",
       " 'small',\n",
       " 'foam',\n",
       " 'head',\n",
       " 'minimal',\n",
       " 'glass',\n",
       " 'bar',\n",
       " 'strangest',\n",
       " 'beer',\n",
       " 'aroma',\n",
       " 'come',\n",
       " 'bubble',\n",
       " 'slight',\n",
       " 'wheat',\n",
       " 'sweet',\n",
       " 'smelling',\n",
       " 'honestly',\n",
       " 'smell',\n",
       " 'like',\n",
       " 'strange',\n",
       " 'fruit',\n",
       " 'cocktail',\n",
       " 'got',\n",
       " 'strange',\n",
       " 'taste',\n",
       " 'know',\n",
       " 'hard',\n",
       " 'like',\n",
       " 'fruity',\n",
       " 'highly',\n",
       " 'carbonated',\n",
       " 'saying',\n",
       " 'fake',\n",
       " 'taste',\n",
       " 'like',\n",
       " 'fresh',\n",
       " 'hop',\n",
       " 'one',\n",
       " 'single',\n",
       " 'characteristic',\n",
       " 'stand',\n",
       " 'quite',\n",
       " 'bit',\n",
       " 'bitterness',\n",
       " 'perhaps',\n",
       " 'sweet',\n",
       " 'drinkable',\n",
       " 'one',\n",
       " 'enjoy',\n",
       " 'taste',\n",
       " 'enough',\n",
       " 'buy',\n",
       " 'grade',\n",
       " 'west',\n",
       " 'hazy',\n",
       " 'orange',\n",
       " 'color',\n",
       " 'foamy',\n",
       " 'white',\n",
       " 'smell',\n",
       " 'toasted',\n",
       " 'hint',\n",
       " 'taste',\n",
       " 'bready',\n",
       " 'malt',\n",
       " 'faint',\n",
       " 'finish',\n",
       " 'body',\n",
       " 'medium',\n",
       " 'foamy',\n",
       " 'mouthfeel',\n",
       " 'crisp',\n",
       " 'bottle',\n",
       " 'bottling',\n",
       " 'date',\n",
       " 'information',\n",
       " 'medium',\n",
       " 'amber',\n",
       " 'colored',\n",
       " 'creamy',\n",
       " 'white',\n",
       " 'head',\n",
       " 'stick',\n",
       " 'leaf',\n",
       " 'spot',\n",
       " 'predominately',\n",
       " 'floral',\n",
       " 'slightly',\n",
       " 'vegetal',\n",
       " 'floral',\n",
       " 'grape',\n",
       " 'emphasis',\n",
       " 'minor',\n",
       " 'hop',\n",
       " 'bitterness',\n",
       " 'rather',\n",
       " 'dry',\n",
       " 'thick',\n",
       " 'okay',\n",
       " 'like',\n",
       " 'old',\n",
       " 'school',\n",
       " 'craft',\n",
       " 'come',\n",
       " 'kind',\n",
       " 'thin',\n",
       " 'flavor',\n",
       " 'grape',\n",
       " 'floral',\n",
       " 'new',\n",
       " 'drinking',\n",
       " 'reading',\n",
       " 'style',\n",
       " 'kind',\n",
       " 'made',\n",
       " 'feel',\n",
       " 'like',\n",
       " 'living',\n",
       " 'end',\n",
       " 'soylent',\n",
       " 'greenjun',\n",
       " 'beer',\n",
       " 'easy',\n",
       " 'drink',\n",
       " 'always',\n",
       " 'safe',\n",
       " 'nice',\n",
       " 'golden',\n",
       " 'nice',\n",
       " 'head',\n",
       " 'without',\n",
       " 'much',\n",
       " 'lingering',\n",
       " 'smell',\n",
       " 'faintly',\n",
       " 'taste',\n",
       " 'mainly',\n",
       " 'malt',\n",
       " 'little',\n",
       " 'fruity',\n",
       " 'much',\n",
       " 'hop',\n",
       " 'taste',\n",
       " 'thin',\n",
       " 'decent',\n",
       " 'slightly',\n",
       " 'sweet',\n",
       " 'overly',\n",
       " 'botttle',\n",
       " 'gold',\n",
       " 'color',\n",
       " 'solid',\n",
       " 'lacing',\n",
       " 'head',\n",
       " 'carbonation',\n",
       " 'seems',\n",
       " 'like',\n",
       " 'small',\n",
       " 'citrus',\n",
       " 'hop',\n",
       " 'profile',\n",
       " 'almost',\n",
       " 'like',\n",
       " 'sweet',\n",
       " 'sweet',\n",
       " 'ipa',\n",
       " 'wine',\n",
       " 'easy',\n",
       " 'finish',\n",
       " 'little',\n",
       " 'extremely']"
      ]
     },
     "execution_count": 126,
     "metadata": {},
     "output_type": "execute_result"
    }
   ],
   "source": [
    "pre_process_text(review1)"
   ]
  },
  {
   "cell_type": "markdown",
   "metadata": {
    "heading_collapsed": true
   },
   "source": [
    "### TF-IDF"
   ]
  },
  {
   "cell_type": "code",
   "execution_count": 23,
   "metadata": {
    "hidden": true
   },
   "outputs": [],
   "source": [
    "tfidf = TfidfVectorizer()"
   ]
  },
  {
   "cell_type": "code",
   "execution_count": null,
   "metadata": {
    "hidden": true
   },
   "outputs": [],
   "source": [
    "X_lem = beer_df['tf_matrix']"
   ]
  },
  {
   "cell_type": "code",
   "execution_count": null,
   "metadata": {
    "hidden": true
   },
   "outputs": [],
   "source": [
    "y_lem = beer_df['avg_rating']"
   ]
  },
  {
   "cell_type": "code",
   "execution_count": null,
   "metadata": {
    "hidden": true
   },
   "outputs": [],
   "source": [
    "X_train_lem, X_test_lem, y_train_lem, y_test_lem = train_test_split(X_lem, y_lem, test_size=0.20, random_state=1)\n",
    "tfidf = TfidfVectorizer()\n",
    "#tfidf = TfidfTransformer()\n",
    "\n",
    "tfidf_data_train_lem = tfidf.fit_transform(X_train_lem)\n",
    "tfidf_data_test_lem = tfidf.transform(X_test_lem)\n",
    "\n",
    "tfidf_data_train_lem"
   ]
  },
  {
   "cell_type": "markdown",
   "metadata": {
    "heading_collapsed": true
   },
   "source": [
    "### Processing"
   ]
  },
  {
   "cell_type": "code",
   "execution_count": null,
   "metadata": {
    "hidden": true
   },
   "outputs": [],
   "source": [
    "#takes in a dataframe with a column with raw text and outputs a new column with pre-processed text\n",
    "def add_processed_text(df, output_column_name, column_to_target='review'):\n",
    "    df[output_column_name] = df.apply(lambda row: pre_process_text(row[column_to_target]), axis=1)"
   ]
  },
  {
   "cell_type": "code",
   "execution_count": null,
   "metadata": {
    "hidden": true
   },
   "outputs": [],
   "source": [
    "def count_word_frequency(vectorizer, text):\n",
    "    try:\n",
    "        termFrequencyMatrix = vectorizer.fit_transform(text)\n",
    "        return termFrequencyMatrix\n",
    "    except:\n",
    "        print('Problem in count word freq')\n",
    "        print(traceback.format_exc())\n",
    "        #print(text)"
   ]
  },
  {
   "cell_type": "code",
   "execution_count": null,
   "metadata": {
    "hidden": true
   },
   "outputs": [],
   "source": [
    "#runs a vectorizer over a row of the target column and if empty it will pass. Afterwards it will \n",
    "#generate a new column with the term frequency matrix\n",
    "def get_term_freq_matrices(vectorizer, df, target_column):\n",
    "    df['tf_matrix'] = df.apply(lambda row: count_word_frequency(vectorizer, row[target_column]) if\n",
    "    row[target_column] != None else None, axis=1)"
   ]
  },
  {
   "cell_type": "code",
   "execution_count": null,
   "metadata": {
    "hidden": true
   },
   "outputs": [],
   "source": [
    "add_processed_text(beer_df, 'clean_reviews', column_to_target='review')"
   ]
  },
  {
   "cell_type": "code",
   "execution_count": null,
   "metadata": {
    "hidden": true
   },
   "outputs": [],
   "source": [
    "get_term_freq_matrices(tfidf, beer_df, 'clean_reviews')"
   ]
  },
  {
   "cell_type": "code",
   "execution_count": null,
   "metadata": {
    "hidden": true
   },
   "outputs": [],
   "source": [
    "beer_df"
   ]
  },
  {
   "cell_type": "code",
   "execution_count": null,
   "metadata": {
    "hidden": true
   },
   "outputs": [],
   "source": [
    "beer_df['tf_matrix'] = beer_df.apply(lambda row: row['tf_matrix'].toarray(), axis = 1)"
   ]
  },
  {
   "cell_type": "code",
   "execution_count": null,
   "metadata": {
    "hidden": true
   },
   "outputs": [],
   "source": [
    "beer_df['tf_matrix']"
   ]
  },
  {
   "cell_type": "markdown",
   "metadata": {
    "heading_collapsed": true
   },
   "source": [
    "### Applying Models to the Matrix"
   ]
  },
  {
   "cell_type": "code",
   "execution_count": 36,
   "metadata": {
    "hidden": true
   },
   "outputs": [],
   "source": [
    "data_train, data_test, target_train, target_test = train_test_split(beer_df['naked_reviews'] ,beer_df['avg_rating'].values, test_size=0.20, random_state=21)"
   ]
  },
  {
   "cell_type": "code",
   "execution_count": 37,
   "metadata": {
    "hidden": true
   },
   "outputs": [
    {
     "data": {
      "text/plain": [
       "array([3.56, 3.49, 3.94, ..., 3.9 , 2.74, 3.5 ])"
      ]
     },
     "execution_count": 37,
     "metadata": {},
     "output_type": "execute_result"
    }
   ],
   "source": [
    "target_train"
   ]
  },
  {
   "cell_type": "code",
   "execution_count": 38,
   "metadata": {
    "collapsed": true,
    "hidden": true
   },
   "outputs": [
    {
     "data": {
      "text/plain": [
       "3252    bmaggot lithuania3565xa0xa0rdev 0look 3 smell ...\n",
       "4273    jtuomi finland3495xa0xa0rdev 0look 4 smell 375...\n",
       "4026    nerofiddled pennsylvania3945xa0xa0rdev 0look 3...\n",
       "4562    beaver13 colorado3585xa0xa0rdev 0look 4 smell ...\n",
       "2985    georgeblazer pennsylvania3715xa0xa0rdev 77look...\n",
       "                              ...                        \n",
       "4801    williethreebiers connecticut3825xa0xa0rdev 0lo...\n",
       "1166    phyl21ca canada qc2275xa0xa0rdev 275look 3 sme...\n",
       "48      jwc215 arizona3935xa0xa0rdev 08look 375 smell ...\n",
       "787     captaincoffee virginia2985xa0xa0rdev 88look 35...\n",
       "5434    lennyovies mexico355xa0xa0rdev 0look 35 smell ...\n",
       "Name: naked_reviews, Length: 4434, dtype: object"
      ]
     },
     "execution_count": 38,
     "metadata": {},
     "output_type": "execute_result"
    }
   ],
   "source": [
    "data_train"
   ]
  },
  {
   "cell_type": "code",
   "execution_count": 39,
   "metadata": {
    "collapsed": true,
    "hidden": true
   },
   "outputs": [
    {
     "ename": "ValueError",
     "evalue": "could not convert string to float: 'bmaggot lithuania3565xa0xa0rdev 0look 3 smell 375 taste 35 feel 375 overall 35dec 11 2019'",
     "output_type": "error",
     "traceback": [
      "\u001b[1;31m---------------------------------------------------------------------------\u001b[0m",
      "\u001b[1;31mValueError\u001b[0m                                Traceback (most recent call last)",
      "\u001b[1;32m<ipython-input-39-22812ca28b8b>\u001b[0m in \u001b[0;36m<module>\u001b[1;34m\u001b[0m\n\u001b[0;32m      1\u001b[0m \u001b[0mrf\u001b[0m \u001b[1;33m=\u001b[0m \u001b[0mRandomForestClassifier\u001b[0m\u001b[1;33m(\u001b[0m\u001b[0mrandom_state\u001b[0m \u001b[1;33m=\u001b[0m \u001b[1;36m21\u001b[0m\u001b[1;33m)\u001b[0m\u001b[1;31m#max_depth=10,max_features=10)\u001b[0m\u001b[1;33m\u001b[0m\u001b[1;33m\u001b[0m\u001b[0m\n\u001b[1;32m----> 2\u001b[1;33m \u001b[0mrf\u001b[0m\u001b[1;33m.\u001b[0m\u001b[0mfit\u001b[0m\u001b[1;33m(\u001b[0m\u001b[0mdata_train\u001b[0m\u001b[1;33m,\u001b[0m\u001b[0mtarget_train\u001b[0m\u001b[1;33m)\u001b[0m\u001b[1;33m\u001b[0m\u001b[1;33m\u001b[0m\u001b[0m\n\u001b[0m",
      "\u001b[1;32m~\\anaconda3\\envs\\learn-env\\lib\\site-packages\\sklearn\\ensemble\\_forest.py\u001b[0m in \u001b[0;36mfit\u001b[1;34m(self, X, y, sample_weight)\u001b[0m\n\u001b[0;32m    301\u001b[0m                 \u001b[1;34m\"sparse multilabel-indicator for y is not supported.\"\u001b[0m\u001b[1;33m\u001b[0m\u001b[1;33m\u001b[0m\u001b[0m\n\u001b[0;32m    302\u001b[0m             )\n\u001b[1;32m--> 303\u001b[1;33m         X, y = self._validate_data(X, y, multi_output=True,\n\u001b[0m\u001b[0;32m    304\u001b[0m                                    accept_sparse=\"csc\", dtype=DTYPE)\n\u001b[0;32m    305\u001b[0m         \u001b[1;32mif\u001b[0m \u001b[0msample_weight\u001b[0m \u001b[1;32mis\u001b[0m \u001b[1;32mnot\u001b[0m \u001b[1;32mNone\u001b[0m\u001b[1;33m:\u001b[0m\u001b[1;33m\u001b[0m\u001b[1;33m\u001b[0m\u001b[0m\n",
      "\u001b[1;32m~\\anaconda3\\envs\\learn-env\\lib\\site-packages\\sklearn\\base.py\u001b[0m in \u001b[0;36m_validate_data\u001b[1;34m(self, X, y, reset, validate_separately, **check_params)\u001b[0m\n\u001b[0;32m    430\u001b[0m                 \u001b[0my\u001b[0m \u001b[1;33m=\u001b[0m \u001b[0mcheck_array\u001b[0m\u001b[1;33m(\u001b[0m\u001b[0my\u001b[0m\u001b[1;33m,\u001b[0m \u001b[1;33m**\u001b[0m\u001b[0mcheck_y_params\u001b[0m\u001b[1;33m)\u001b[0m\u001b[1;33m\u001b[0m\u001b[1;33m\u001b[0m\u001b[0m\n\u001b[0;32m    431\u001b[0m             \u001b[1;32melse\u001b[0m\u001b[1;33m:\u001b[0m\u001b[1;33m\u001b[0m\u001b[1;33m\u001b[0m\u001b[0m\n\u001b[1;32m--> 432\u001b[1;33m                 \u001b[0mX\u001b[0m\u001b[1;33m,\u001b[0m \u001b[0my\u001b[0m \u001b[1;33m=\u001b[0m \u001b[0mcheck_X_y\u001b[0m\u001b[1;33m(\u001b[0m\u001b[0mX\u001b[0m\u001b[1;33m,\u001b[0m \u001b[0my\u001b[0m\u001b[1;33m,\u001b[0m \u001b[1;33m**\u001b[0m\u001b[0mcheck_params\u001b[0m\u001b[1;33m)\u001b[0m\u001b[1;33m\u001b[0m\u001b[1;33m\u001b[0m\u001b[0m\n\u001b[0m\u001b[0;32m    433\u001b[0m             \u001b[0mout\u001b[0m \u001b[1;33m=\u001b[0m \u001b[0mX\u001b[0m\u001b[1;33m,\u001b[0m \u001b[0my\u001b[0m\u001b[1;33m\u001b[0m\u001b[1;33m\u001b[0m\u001b[0m\n\u001b[0;32m    434\u001b[0m \u001b[1;33m\u001b[0m\u001b[0m\n",
      "\u001b[1;32m~\\anaconda3\\envs\\learn-env\\lib\\site-packages\\sklearn\\utils\\validation.py\u001b[0m in \u001b[0;36minner_f\u001b[1;34m(*args, **kwargs)\u001b[0m\n\u001b[0;32m     70\u001b[0m                           FutureWarning)\n\u001b[0;32m     71\u001b[0m         \u001b[0mkwargs\u001b[0m\u001b[1;33m.\u001b[0m\u001b[0mupdate\u001b[0m\u001b[1;33m(\u001b[0m\u001b[1;33m{\u001b[0m\u001b[0mk\u001b[0m\u001b[1;33m:\u001b[0m \u001b[0marg\u001b[0m \u001b[1;32mfor\u001b[0m \u001b[0mk\u001b[0m\u001b[1;33m,\u001b[0m \u001b[0marg\u001b[0m \u001b[1;32min\u001b[0m \u001b[0mzip\u001b[0m\u001b[1;33m(\u001b[0m\u001b[0msig\u001b[0m\u001b[1;33m.\u001b[0m\u001b[0mparameters\u001b[0m\u001b[1;33m,\u001b[0m \u001b[0margs\u001b[0m\u001b[1;33m)\u001b[0m\u001b[1;33m}\u001b[0m\u001b[1;33m)\u001b[0m\u001b[1;33m\u001b[0m\u001b[1;33m\u001b[0m\u001b[0m\n\u001b[1;32m---> 72\u001b[1;33m         \u001b[1;32mreturn\u001b[0m \u001b[0mf\u001b[0m\u001b[1;33m(\u001b[0m\u001b[1;33m**\u001b[0m\u001b[0mkwargs\u001b[0m\u001b[1;33m)\u001b[0m\u001b[1;33m\u001b[0m\u001b[1;33m\u001b[0m\u001b[0m\n\u001b[0m\u001b[0;32m     73\u001b[0m     \u001b[1;32mreturn\u001b[0m \u001b[0minner_f\u001b[0m\u001b[1;33m\u001b[0m\u001b[1;33m\u001b[0m\u001b[0m\n\u001b[0;32m     74\u001b[0m \u001b[1;33m\u001b[0m\u001b[0m\n",
      "\u001b[1;32m~\\anaconda3\\envs\\learn-env\\lib\\site-packages\\sklearn\\utils\\validation.py\u001b[0m in \u001b[0;36mcheck_X_y\u001b[1;34m(X, y, accept_sparse, accept_large_sparse, dtype, order, copy, force_all_finite, ensure_2d, allow_nd, multi_output, ensure_min_samples, ensure_min_features, y_numeric, estimator)\u001b[0m\n\u001b[0;32m    793\u001b[0m         \u001b[1;32mraise\u001b[0m \u001b[0mValueError\u001b[0m\u001b[1;33m(\u001b[0m\u001b[1;34m\"y cannot be None\"\u001b[0m\u001b[1;33m)\u001b[0m\u001b[1;33m\u001b[0m\u001b[1;33m\u001b[0m\u001b[0m\n\u001b[0;32m    794\u001b[0m \u001b[1;33m\u001b[0m\u001b[0m\n\u001b[1;32m--> 795\u001b[1;33m     X = check_array(X, accept_sparse=accept_sparse,\n\u001b[0m\u001b[0;32m    796\u001b[0m                     \u001b[0maccept_large_sparse\u001b[0m\u001b[1;33m=\u001b[0m\u001b[0maccept_large_sparse\u001b[0m\u001b[1;33m,\u001b[0m\u001b[1;33m\u001b[0m\u001b[1;33m\u001b[0m\u001b[0m\n\u001b[0;32m    797\u001b[0m                     \u001b[0mdtype\u001b[0m\u001b[1;33m=\u001b[0m\u001b[0mdtype\u001b[0m\u001b[1;33m,\u001b[0m \u001b[0morder\u001b[0m\u001b[1;33m=\u001b[0m\u001b[0morder\u001b[0m\u001b[1;33m,\u001b[0m \u001b[0mcopy\u001b[0m\u001b[1;33m=\u001b[0m\u001b[0mcopy\u001b[0m\u001b[1;33m,\u001b[0m\u001b[1;33m\u001b[0m\u001b[1;33m\u001b[0m\u001b[0m\n",
      "\u001b[1;32m~\\anaconda3\\envs\\learn-env\\lib\\site-packages\\sklearn\\utils\\validation.py\u001b[0m in \u001b[0;36minner_f\u001b[1;34m(*args, **kwargs)\u001b[0m\n\u001b[0;32m     70\u001b[0m                           FutureWarning)\n\u001b[0;32m     71\u001b[0m         \u001b[0mkwargs\u001b[0m\u001b[1;33m.\u001b[0m\u001b[0mupdate\u001b[0m\u001b[1;33m(\u001b[0m\u001b[1;33m{\u001b[0m\u001b[0mk\u001b[0m\u001b[1;33m:\u001b[0m \u001b[0marg\u001b[0m \u001b[1;32mfor\u001b[0m \u001b[0mk\u001b[0m\u001b[1;33m,\u001b[0m \u001b[0marg\u001b[0m \u001b[1;32min\u001b[0m \u001b[0mzip\u001b[0m\u001b[1;33m(\u001b[0m\u001b[0msig\u001b[0m\u001b[1;33m.\u001b[0m\u001b[0mparameters\u001b[0m\u001b[1;33m,\u001b[0m \u001b[0margs\u001b[0m\u001b[1;33m)\u001b[0m\u001b[1;33m}\u001b[0m\u001b[1;33m)\u001b[0m\u001b[1;33m\u001b[0m\u001b[1;33m\u001b[0m\u001b[0m\n\u001b[1;32m---> 72\u001b[1;33m         \u001b[1;32mreturn\u001b[0m \u001b[0mf\u001b[0m\u001b[1;33m(\u001b[0m\u001b[1;33m**\u001b[0m\u001b[0mkwargs\u001b[0m\u001b[1;33m)\u001b[0m\u001b[1;33m\u001b[0m\u001b[1;33m\u001b[0m\u001b[0m\n\u001b[0m\u001b[0;32m     73\u001b[0m     \u001b[1;32mreturn\u001b[0m \u001b[0minner_f\u001b[0m\u001b[1;33m\u001b[0m\u001b[1;33m\u001b[0m\u001b[0m\n\u001b[0;32m     74\u001b[0m \u001b[1;33m\u001b[0m\u001b[0m\n",
      "\u001b[1;32m~\\anaconda3\\envs\\learn-env\\lib\\site-packages\\sklearn\\utils\\validation.py\u001b[0m in \u001b[0;36mcheck_array\u001b[1;34m(array, accept_sparse, accept_large_sparse, dtype, order, copy, force_all_finite, ensure_2d, allow_nd, ensure_min_samples, ensure_min_features, estimator)\u001b[0m\n\u001b[0;32m    596\u001b[0m                     \u001b[0marray\u001b[0m \u001b[1;33m=\u001b[0m \u001b[0marray\u001b[0m\u001b[1;33m.\u001b[0m\u001b[0mastype\u001b[0m\u001b[1;33m(\u001b[0m\u001b[0mdtype\u001b[0m\u001b[1;33m,\u001b[0m \u001b[0mcasting\u001b[0m\u001b[1;33m=\u001b[0m\u001b[1;34m\"unsafe\"\u001b[0m\u001b[1;33m,\u001b[0m \u001b[0mcopy\u001b[0m\u001b[1;33m=\u001b[0m\u001b[1;32mFalse\u001b[0m\u001b[1;33m)\u001b[0m\u001b[1;33m\u001b[0m\u001b[1;33m\u001b[0m\u001b[0m\n\u001b[0;32m    597\u001b[0m                 \u001b[1;32melse\u001b[0m\u001b[1;33m:\u001b[0m\u001b[1;33m\u001b[0m\u001b[1;33m\u001b[0m\u001b[0m\n\u001b[1;32m--> 598\u001b[1;33m                     \u001b[0marray\u001b[0m \u001b[1;33m=\u001b[0m \u001b[0mnp\u001b[0m\u001b[1;33m.\u001b[0m\u001b[0masarray\u001b[0m\u001b[1;33m(\u001b[0m\u001b[0marray\u001b[0m\u001b[1;33m,\u001b[0m \u001b[0morder\u001b[0m\u001b[1;33m=\u001b[0m\u001b[0morder\u001b[0m\u001b[1;33m,\u001b[0m \u001b[0mdtype\u001b[0m\u001b[1;33m=\u001b[0m\u001b[0mdtype\u001b[0m\u001b[1;33m)\u001b[0m\u001b[1;33m\u001b[0m\u001b[1;33m\u001b[0m\u001b[0m\n\u001b[0m\u001b[0;32m    599\u001b[0m             \u001b[1;32mexcept\u001b[0m \u001b[0mComplexWarning\u001b[0m\u001b[1;33m:\u001b[0m\u001b[1;33m\u001b[0m\u001b[1;33m\u001b[0m\u001b[0m\n\u001b[0;32m    600\u001b[0m                 raise ValueError(\"Complex data not supported\\n\"\n",
      "\u001b[1;32m~\\anaconda3\\envs\\learn-env\\lib\\site-packages\\numpy\\core\\_asarray.py\u001b[0m in \u001b[0;36masarray\u001b[1;34m(a, dtype, order)\u001b[0m\n\u001b[0;32m     83\u001b[0m \u001b[1;33m\u001b[0m\u001b[0m\n\u001b[0;32m     84\u001b[0m     \"\"\"\n\u001b[1;32m---> 85\u001b[1;33m     \u001b[1;32mreturn\u001b[0m \u001b[0marray\u001b[0m\u001b[1;33m(\u001b[0m\u001b[0ma\u001b[0m\u001b[1;33m,\u001b[0m \u001b[0mdtype\u001b[0m\u001b[1;33m,\u001b[0m \u001b[0mcopy\u001b[0m\u001b[1;33m=\u001b[0m\u001b[1;32mFalse\u001b[0m\u001b[1;33m,\u001b[0m \u001b[0morder\u001b[0m\u001b[1;33m=\u001b[0m\u001b[0morder\u001b[0m\u001b[1;33m)\u001b[0m\u001b[1;33m\u001b[0m\u001b[1;33m\u001b[0m\u001b[0m\n\u001b[0m\u001b[0;32m     86\u001b[0m \u001b[1;33m\u001b[0m\u001b[0m\n\u001b[0;32m     87\u001b[0m \u001b[1;33m\u001b[0m\u001b[0m\n",
      "\u001b[1;32m~\\anaconda3\\envs\\learn-env\\lib\\site-packages\\pandas\\core\\series.py\u001b[0m in \u001b[0;36m__array__\u001b[1;34m(self, dtype)\u001b[0m\n\u001b[0;32m    795\u001b[0m               dtype='datetime64[ns]')\n\u001b[0;32m    796\u001b[0m         \"\"\"\n\u001b[1;32m--> 797\u001b[1;33m         \u001b[1;32mreturn\u001b[0m \u001b[0mnp\u001b[0m\u001b[1;33m.\u001b[0m\u001b[0masarray\u001b[0m\u001b[1;33m(\u001b[0m\u001b[0mself\u001b[0m\u001b[1;33m.\u001b[0m\u001b[0marray\u001b[0m\u001b[1;33m,\u001b[0m \u001b[0mdtype\u001b[0m\u001b[1;33m)\u001b[0m\u001b[1;33m\u001b[0m\u001b[1;33m\u001b[0m\u001b[0m\n\u001b[0m\u001b[0;32m    798\u001b[0m \u001b[1;33m\u001b[0m\u001b[0m\n\u001b[0;32m    799\u001b[0m     \u001b[1;31m# ----------------------------------------------------------------------\u001b[0m\u001b[1;33m\u001b[0m\u001b[1;33m\u001b[0m\u001b[1;33m\u001b[0m\u001b[0m\n",
      "\u001b[1;32m~\\anaconda3\\envs\\learn-env\\lib\\site-packages\\numpy\\core\\_asarray.py\u001b[0m in \u001b[0;36masarray\u001b[1;34m(a, dtype, order)\u001b[0m\n\u001b[0;32m     83\u001b[0m \u001b[1;33m\u001b[0m\u001b[0m\n\u001b[0;32m     84\u001b[0m     \"\"\"\n\u001b[1;32m---> 85\u001b[1;33m     \u001b[1;32mreturn\u001b[0m \u001b[0marray\u001b[0m\u001b[1;33m(\u001b[0m\u001b[0ma\u001b[0m\u001b[1;33m,\u001b[0m \u001b[0mdtype\u001b[0m\u001b[1;33m,\u001b[0m \u001b[0mcopy\u001b[0m\u001b[1;33m=\u001b[0m\u001b[1;32mFalse\u001b[0m\u001b[1;33m,\u001b[0m \u001b[0morder\u001b[0m\u001b[1;33m=\u001b[0m\u001b[0morder\u001b[0m\u001b[1;33m)\u001b[0m\u001b[1;33m\u001b[0m\u001b[1;33m\u001b[0m\u001b[0m\n\u001b[0m\u001b[0;32m     86\u001b[0m \u001b[1;33m\u001b[0m\u001b[0m\n\u001b[0;32m     87\u001b[0m \u001b[1;33m\u001b[0m\u001b[0m\n",
      "\u001b[1;32m~\\anaconda3\\envs\\learn-env\\lib\\site-packages\\pandas\\core\\arrays\\numpy_.py\u001b[0m in \u001b[0;36m__array__\u001b[1;34m(self, dtype)\u001b[0m\n\u001b[0;32m    209\u001b[0m \u001b[1;33m\u001b[0m\u001b[0m\n\u001b[0;32m    210\u001b[0m     \u001b[1;32mdef\u001b[0m \u001b[0m__array__\u001b[0m\u001b[1;33m(\u001b[0m\u001b[0mself\u001b[0m\u001b[1;33m,\u001b[0m \u001b[0mdtype\u001b[0m\u001b[1;33m=\u001b[0m\u001b[1;32mNone\u001b[0m\u001b[1;33m)\u001b[0m \u001b[1;33m->\u001b[0m \u001b[0mnp\u001b[0m\u001b[1;33m.\u001b[0m\u001b[0mndarray\u001b[0m\u001b[1;33m:\u001b[0m\u001b[1;33m\u001b[0m\u001b[1;33m\u001b[0m\u001b[0m\n\u001b[1;32m--> 211\u001b[1;33m         \u001b[1;32mreturn\u001b[0m \u001b[0mnp\u001b[0m\u001b[1;33m.\u001b[0m\u001b[0masarray\u001b[0m\u001b[1;33m(\u001b[0m\u001b[0mself\u001b[0m\u001b[1;33m.\u001b[0m\u001b[0m_ndarray\u001b[0m\u001b[1;33m,\u001b[0m \u001b[0mdtype\u001b[0m\u001b[1;33m=\u001b[0m\u001b[0mdtype\u001b[0m\u001b[1;33m)\u001b[0m\u001b[1;33m\u001b[0m\u001b[1;33m\u001b[0m\u001b[0m\n\u001b[0m\u001b[0;32m    212\u001b[0m \u001b[1;33m\u001b[0m\u001b[0m\n\u001b[0;32m    213\u001b[0m     \u001b[0m_HANDLED_TYPES\u001b[0m \u001b[1;33m=\u001b[0m \u001b[1;33m(\u001b[0m\u001b[0mnp\u001b[0m\u001b[1;33m.\u001b[0m\u001b[0mndarray\u001b[0m\u001b[1;33m,\u001b[0m \u001b[0mnumbers\u001b[0m\u001b[1;33m.\u001b[0m\u001b[0mNumber\u001b[0m\u001b[1;33m)\u001b[0m\u001b[1;33m\u001b[0m\u001b[1;33m\u001b[0m\u001b[0m\n",
      "\u001b[1;32m~\\anaconda3\\envs\\learn-env\\lib\\site-packages\\numpy\\core\\_asarray.py\u001b[0m in \u001b[0;36masarray\u001b[1;34m(a, dtype, order)\u001b[0m\n\u001b[0;32m     83\u001b[0m \u001b[1;33m\u001b[0m\u001b[0m\n\u001b[0;32m     84\u001b[0m     \"\"\"\n\u001b[1;32m---> 85\u001b[1;33m     \u001b[1;32mreturn\u001b[0m \u001b[0marray\u001b[0m\u001b[1;33m(\u001b[0m\u001b[0ma\u001b[0m\u001b[1;33m,\u001b[0m \u001b[0mdtype\u001b[0m\u001b[1;33m,\u001b[0m \u001b[0mcopy\u001b[0m\u001b[1;33m=\u001b[0m\u001b[1;32mFalse\u001b[0m\u001b[1;33m,\u001b[0m \u001b[0morder\u001b[0m\u001b[1;33m=\u001b[0m\u001b[0morder\u001b[0m\u001b[1;33m)\u001b[0m\u001b[1;33m\u001b[0m\u001b[1;33m\u001b[0m\u001b[0m\n\u001b[0m\u001b[0;32m     86\u001b[0m \u001b[1;33m\u001b[0m\u001b[0m\n\u001b[0;32m     87\u001b[0m \u001b[1;33m\u001b[0m\u001b[0m\n",
      "\u001b[1;31mValueError\u001b[0m: could not convert string to float: 'bmaggot lithuania3565xa0xa0rdev 0look 3 smell 375 taste 35 feel 375 overall 35dec 11 2019'"
     ]
    }
   ],
   "source": [
    "rf = RandomForestClassifier(random_state = 21)#max_depth=10,max_features=10)\n",
    "rf.fit(data_train,target_train)"
   ]
  },
  {
   "cell_type": "markdown",
   "metadata": {
    "heading_collapsed": true
   },
   "source": [
    "### Collecting the tf-idf of all beers"
   ]
  },
  {
   "cell_type": "code",
   "execution_count": null,
   "metadata": {
    "hidden": true
   },
   "outputs": [],
   "source": [
    "type(beer_df['naked_reviews'][0:2])"
   ]
  },
  {
   "cell_type": "code",
   "execution_count": null,
   "metadata": {
    "hidden": true
   },
   "outputs": [],
   "source": [
    "beer_r = beer_df['naked_reviews'].values.tolist()\n",
    "type(beer_r)"
   ]
  },
  {
   "cell_type": "code",
   "execution_count": null,
   "metadata": {
    "hidden": true
   },
   "outputs": [],
   "source": [
    "type(beer_r[0])"
   ]
  },
  {
   "cell_type": "code",
   "execution_count": null,
   "metadata": {
    "hidden": true
   },
   "outputs": [],
   "source": [
    "collected_words = count_word_frequency(tfidf, beer_r)"
   ]
  },
  {
   "cell_type": "code",
   "execution_count": null,
   "metadata": {
    "hidden": true
   },
   "outputs": [],
   "source": [
    "type(collected_words)"
   ]
  },
  {
   "cell_type": "code",
   "execution_count": null,
   "metadata": {
    "hidden": true
   },
   "outputs": [],
   "source": [
    "beer_df['naked_reviews'].values.tolist()"
   ]
  },
  {
   "cell_type": "code",
   "execution_count": null,
   "metadata": {
    "hidden": true
   },
   "outputs": [],
   "source": []
  },
  {
   "cell_type": "code",
   "execution_count": null,
   "metadata": {
    "hidden": true
   },
   "outputs": [],
   "source": []
  }
 ],
 "metadata": {
  "kernelspec": {
   "display_name": "Python 3",
   "language": "python",
   "name": "python3"
  },
  "language_info": {
   "codemirror_mode": {
    "name": "ipython",
    "version": 3
   },
   "file_extension": ".py",
   "mimetype": "text/x-python",
   "name": "python",
   "nbconvert_exporter": "python",
   "pygments_lexer": "ipython3",
   "version": "3.8.5"
  },
  "toc": {
   "base_numbering": 1,
   "nav_menu": {},
   "number_sections": true,
   "sideBar": true,
   "skip_h1_title": false,
   "title_cell": "Table of Contents",
   "title_sidebar": "Contents",
   "toc_cell": false,
   "toc_position": {},
   "toc_section_display": true,
   "toc_window_display": false
  },
  "varInspector": {
   "cols": {
    "lenName": 16,
    "lenType": 16,
    "lenVar": 40
   },
   "kernels_config": {
    "python": {
     "delete_cmd_postfix": "",
     "delete_cmd_prefix": "del ",
     "library": "var_list.py",
     "varRefreshCmd": "print(var_dic_list())"
    },
    "r": {
     "delete_cmd_postfix": ") ",
     "delete_cmd_prefix": "rm(",
     "library": "var_list.r",
     "varRefreshCmd": "cat(var_dic_list()) "
    }
   },
   "types_to_exclude": [
    "module",
    "function",
    "builtin_function_or_method",
    "instance",
    "_Feature"
   ],
   "window_display": false
  }
 },
 "nbformat": 4,
 "nbformat_minor": 4
}
